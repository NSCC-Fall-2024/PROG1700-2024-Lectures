{
 "cells": [
  {
   "cell_type": "code",
   "execution_count": null,
   "metadata": {
    "dotnet_interactive": {
     "language": "pwsh"
    },
    "polyglot_notebook": {
     "kernelName": "pwsh"
    },
    "vscode": {
     "languageId": "polyglot-notebook"
    }
   },
   "outputs": [],
   "source": [
    "# basic while loop\n",
    "while (<condition>) {\n",
    "    <true>\n",
    "}"
   ]
  },
  {
   "cell_type": "code",
   "execution_count": 1,
   "metadata": {
    "dotnet_interactive": {
     "language": "pwsh"
    },
    "polyglot_notebook": {
     "kernelName": "pwsh"
    },
    "vscode": {
     "languageId": "polyglot-notebook"
    }
   },
   "outputs": [],
   "source": [
    "# infinite loop (DON'T DO THIS!!!)\n",
    "# $num = 1\n",
    "# while ($num -eq 1) {\n",
    "#     Write-Host \"Hello???\"\n",
    "# }"
   ]
  },
  {
   "cell_type": "code",
   "execution_count": 7,
   "metadata": {
    "dotnet_interactive": {
     "language": "pwsh"
    },
    "polyglot_notebook": {
     "kernelName": "pwsh"
    },
    "vscode": {
     "languageId": "polyglot-notebook"
    }
   },
   "outputs": [
    {
     "name": "stdout",
     "output_type": "stream",
     "text": [
      "Hello?\r\n"
     ]
    }
   ],
   "source": [
    "# using a iterator (counter)\n",
    "$num = 1\n",
    "while ($num -eq 1) {\n",
    "    Write-Host \"Hello?\"\n",
    "    # $num = $num + 1\n",
    "    $num++\n",
    "    # $num = $num + 2\n",
    "    $num += 2\n",
    "    # $num = $num * 3\n",
    "    $num *= 3\n",
    "    # $num = $num / 3\n",
    "    $num /= 3\n",
    "}"
   ]
  },
  {
   "cell_type": "code",
   "execution_count": 8,
   "metadata": {
    "dotnet_interactive": {
     "language": "pwsh"
    },
    "polyglot_notebook": {
     "kernelName": "pwsh"
    },
    "vscode": {
     "languageId": "polyglot-notebook"
    }
   },
   "outputs": [
    {
     "name": "stdout",
     "output_type": "stream",
     "text": [
      "1\n",
      "2\n",
      "3\n",
      "4\n",
      "5\n",
      "6\n",
      "7\n",
      "8\n",
      "9\n",
      "10\n"
     ]
    }
   ],
   "source": [
    "# most common form\n",
    "$num = 1\n",
    "while ($num -le 10) {\n",
    "    Write-Host $num\n",
    "    $num++\n",
    "}"
   ]
  },
  {
   "cell_type": "code",
   "execution_count": 8,
   "metadata": {
    "dotnet_interactive": {
     "language": "pwsh"
    },
    "polyglot_notebook": {
     "kernelName": "pwsh"
    },
    "vscode": {
     "languageId": "polyglot-notebook"
    }
   },
   "outputs": [
    {
     "name": "stdout",
     "output_type": "stream",
     "text": [
      "Login Successful!\r\n"
     ]
    }
   ],
   "source": [
    "# ask the user for a password until correct\n",
    "$correctPassword = \"juniper\"\n",
    "$enteredPassword = \"\"\n",
    "$numberOfTries = 0\n",
    "while (($enteredPassword -ne $correctPassword) -and ($numberOfTries -lt 3)) {\n",
    "    $enteredPassword = Read-Host \"Enter a password\"\n",
    "    $numberOfTries++\n",
    "}\n",
    "if (($numberOfTries -ge 3) -and ($enteredPassword -ne $correctPassword)) {\n",
    "    Write-Host \"Login Failed!\"\n",
    "} else {\n",
    "    Write-Host \"Login Successful!\"\n",
    "}"
   ]
  },
  {
   "cell_type": "code",
   "execution_count": 9,
   "metadata": {
    "dotnet_interactive": {
     "language": "pwsh"
    },
    "polyglot_notebook": {
     "kernelName": "pwsh"
    },
    "vscode": {
     "languageId": "polyglot-notebook"
    }
   },
   "outputs": [],
   "source": [
    "# can be run 0 times\n",
    "$num = 0\n",
    "while ($num -eq 1) {\n",
    "    Write-Host \"did I get here??\"\n",
    "    $num++\n",
    "}"
   ]
  },
  {
   "cell_type": "code",
   "execution_count": 10,
   "metadata": {
    "dotnet_interactive": {
     "language": "pwsh"
    },
    "polyglot_notebook": {
     "kernelName": "pwsh"
    },
    "vscode": {
     "languageId": "polyglot-notebook"
    }
   },
   "outputs": [
    {
     "name": "stdout",
     "output_type": "stream",
     "text": [
      "did I get here??\n",
      "did I get here??\n"
     ]
    }
   ],
   "source": [
    "# will be run atleast once\n",
    "$num = 0\n",
    "do {\n",
    "    Write-Host \"did I get here??\"\n",
    "    $num++\n",
    "} while ($num -eq 1)"
   ]
  },
  {
   "cell_type": "code",
   "execution_count": 11,
   "metadata": {
    "dotnet_interactive": {
     "language": "pwsh"
    },
    "polyglot_notebook": {
     "kernelName": "pwsh"
    },
    "vscode": {
     "languageId": "polyglot-notebook"
    }
   },
   "outputs": [
    {
     "name": "stdout",
     "output_type": "stream",
     "text": [
      "Login Successful!\r\n"
     ]
    }
   ],
   "source": [
    "# ask the user for a password until correct\n",
    "$correctPassword = \"juniper\"\n",
    "$numberOfTries = 0\n",
    "do {\n",
    "    $enteredPassword = Read-Host \"Enter a password\"\n",
    "    $numberOfTries++\n",
    "} while (($enteredPassword -ne $correctPassword) -and ($numberOfTries -lt 3))\n",
    "if (($numberOfTries -ge 3) -and ($enteredPassword -ne $correctPassword)) {\n",
    "    Write-Host \"Login Failed!\"\n",
    "} else {\n",
    "    Write-Host \"Login Successful!\"\n",
    "}"
   ]
  },
  {
   "cell_type": "code",
   "execution_count": 12,
   "metadata": {
    "dotnet_interactive": {
     "language": "pwsh"
    },
    "polyglot_notebook": {
     "kernelName": "pwsh"
    },
    "vscode": {
     "languageId": "polyglot-notebook"
    }
   },
   "outputs": [
    {
     "name": "stdout",
     "output_type": "stream",
     "text": [
      "loopy loopy\n",
      "loopy loopy\n",
      "loopy loopy\n",
      "loopy loopy\n",
      "loopy loopy\n"
     ]
    }
   ],
   "source": [
    "# do until\n",
    "$num = 0\n",
    "do {\n",
    "    Write-Host \"loopy loopy\"\n",
    "    $num++\n",
    "} until ($num -eq 5)"
   ]
  },
  {
   "cell_type": "code",
   "execution_count": 13,
   "metadata": {
    "dotnet_interactive": {
     "language": "pwsh"
    },
    "polyglot_notebook": {
     "kernelName": "pwsh"
    },
    "vscode": {
     "languageId": "polyglot-notebook"
    }
   },
   "outputs": [
    {
     "name": "stdout",
     "output_type": "stream",
     "text": [
      "Login Failed!\r\n"
     ]
    }
   ],
   "source": [
    "# ask the user for a password until correct\n",
    "$correctPassword = \"juniper\"\n",
    "$numberOfTries = 0\n",
    "do {\n",
    "    $enteredPassword = Read-Host \"Enter a password\"\n",
    "    $numberOfTries++\n",
    "} until (($enteredPassword -eq $correctPassword) -or ($numberOfTries -ge 3))\n",
    "if (($numberOfTries -ge 3) -and ($enteredPassword -ne $correctPassword)) {\n",
    "    Write-Host \"Login Failed!\"\n",
    "} else {\n",
    "    Write-Host \"Login Successful!\"\n",
    "}"
   ]
  },
  {
   "cell_type": "code",
   "execution_count": 2,
   "metadata": {
    "dotnet_interactive": {
     "language": "pwsh"
    },
    "polyglot_notebook": {
     "kernelName": "pwsh"
    },
    "vscode": {
     "languageId": "polyglot-notebook"
    }
   },
   "outputs": [
    {
     "name": "stdout",
     "output_type": "stream",
     "text": [
      "1\n",
      "2\n",
      "3\n",
      "4\n",
      "5\n",
      "6\n",
      "7\n",
      "8\n",
      "9\n",
      "10\n"
     ]
    }
   ],
   "source": [
    "# for loop\n",
    "for ($count = 1; $count -le 10; $count++) {\n",
    "   Write-Host $count \n",
    "}"
   ]
  },
  {
   "cell_type": "code",
   "execution_count": 1,
   "metadata": {
    "dotnet_interactive": {
     "language": "pwsh"
    },
    "polyglot_notebook": {
     "kernelName": "pwsh"
    },
    "vscode": {
     "languageId": "polyglot-notebook"
    }
   },
   "outputs": [
    {
     "name": "stdout",
     "output_type": "stream",
     "text": [
      "1\n",
      "2\n",
      "3\n",
      "4\n",
      "5\n",
      "6\n",
      "7\n",
      "8\n",
      "9\n",
      "10\n"
     ]
    }
   ],
   "source": [
    "# for loop as a while loop\n",
    "# count from 1 to 10\n",
    "$count = 1\n",
    "while ($count -le 10) {\n",
    "    Write-Host $count\n",
    "    $count++\n",
    "}"
   ]
  },
  {
   "cell_type": "code",
   "execution_count": 4,
   "metadata": {
    "dotnet_interactive": {
     "language": "pwsh"
    },
    "polyglot_notebook": {
     "kernelName": "pwsh"
    },
    "vscode": {
     "languageId": "polyglot-notebook"
    }
   },
   "outputs": [
    {
     "name": "stdout",
     "output_type": "stream",
     "text": [
      "50\n",
      "40\n",
      "30\n",
      "20\n",
      "10\n",
      "-----\n",
      "50\n",
      "40\n",
      "30\n",
      "20\n",
      "10\n"
     ]
    }
   ],
   "source": [
    "# count from 50 to 10 in steps of 10\n",
    "# 50, 40, 30, 20, 10\n",
    "$count = 50\n",
    "while ($count -ge 10) {\n",
    "    Write-Host $count\n",
    "    $count -= 10\n",
    "}\n",
    "Write-Host \"-----\"\n",
    "for ($count = 50; $count -ge 10; $count -= 10) {\n",
    "    Write-Host $count\n",
    "}"
   ]
  },
  {
   "cell_type": "code",
   "execution_count": 7,
   "metadata": {
    "dotnet_interactive": {
     "language": "pwsh"
    },
    "polyglot_notebook": {
     "kernelName": "pwsh"
    },
    "vscode": {
     "languageId": "polyglot-notebook"
    }
   },
   "outputs": [
    {
     "name": "stdout",
     "output_type": "stream",
     "text": [
      "50, 1, 2, 3, 40, 1, 2, 3, 30, 1, 2, 3, 20, 1, 2, 3, 10, 1, 2, 3, \n"
     ]
    }
   ],
   "source": [
    "# nested loops\n",
    "# 50, 1,2,3, 40, 1,2,3, 30, 1,2,3, 20, 1,2,3, 10\n",
    "\n",
    "$count = 50\n",
    "while ($count -ge 10) {\n",
    "    Write-Host \"$count, \" -NoNewline\n",
    "\n",
    "    # count 1, 2, 3\n",
    "    $count2 = 1\n",
    "    while ($count2 -le 3) {\n",
    "        Write-Host \"$count2, \" -NoNewline\n",
    "        $count2++\n",
    "    }\n",
    "\n",
    "    $count -= 10\n",
    "}\n",
    "Write-Host"
   ]
  },
  {
   "cell_type": "code",
   "execution_count": 8,
   "metadata": {
    "dotnet_interactive": {
     "language": "pwsh"
    },
    "polyglot_notebook": {
     "kernelName": "pwsh"
    },
    "vscode": {
     "languageId": "polyglot-notebook"
    }
   },
   "outputs": [
    {
     "name": "stdout",
     "output_type": "stream",
     "text": [
      "50, 1, 2, 3, 40, 1, 2, 3, 30, 1, 2, 3, 20, 1, 2, 3, 10, 1, 2, 3, \n"
     ]
    }
   ],
   "source": [
    "# nested loops\n",
    "# 50, 1,2,3, 40, 1,2,3, 30, 1,2,3, 20, 1,2,3, 10\n",
    "for ($count = 50; $count -ge 10; $count -= 10) {\n",
    "    Write-Host \"$count, \" -NoNewline\n",
    "\n",
    "    # count 1, 2, 3\n",
    "    for ($count2 = 1; $count2 -le 3; $count2++) {\n",
    "        Write-Host \"$count2, \" -NoNewline\n",
    "    }    \n",
    "}\n",
    "Write-Host"
   ]
  },
  {
   "cell_type": "code",
   "execution_count": 11,
   "metadata": {
    "dotnet_interactive": {
     "language": "pwsh"
    },
    "polyglot_notebook": {
     "kernelName": "pwsh"
    },
    "vscode": {
     "languageId": "polyglot-notebook"
    }
   },
   "outputs": [
    {
     "name": "stdout",
     "output_type": "stream",
     "text": [
      "50, 1, 2, 3, DEBUG: 50\n",
      "40, 1, 2, 3, DEBUG: 40\n",
      "30, 1, 2, 3, DEBUG: 30\n",
      "20, 1, 2, 3, DEBUG: 20\n",
      "10, 1, 2, 3, DEBUG: 10\n",
      "\n"
     ]
    }
   ],
   "source": [
    "# nested loops\n",
    "# 50, 1,2,3, 40, 1,2,3, 30, 1,2,3, 20, 1,2,3, 10\n",
    "for ($count = 50; $count -ge 10; $count -= 10) {\n",
    "    Write-Host \"$count, \" -NoNewline\n",
    "\n",
    "    # count 1, 2, 3\n",
    "    for ($count2 = 1; $count2 -le 3; $count2++) {\n",
    "        Write-Host \"$count2, \" -NoNewline\n",
    "    }\n",
    "\n",
    "    Write-Host \"DEBUG: $count\"    \n",
    "}\n",
    "Write-Host"
   ]
  },
  {
   "cell_type": "code",
   "execution_count": 17,
   "metadata": {
    "dotnet_interactive": {
     "language": "pwsh"
    },
    "polyglot_notebook": {
     "kernelName": "pwsh"
    },
    "vscode": {
     "languageId": "polyglot-notebook"
    }
   },
   "outputs": [
    {
     "name": "stdout",
     "output_type": "stream",
     "text": [
      "2) Balance: 202, Interest: 2\n",
      "3) Balance: 308.04, Interest: 6.04\n",
      "4) Balance: 420.2408, Interest: 12.2008\n",
      "5) Balance: 540.846416, Interest: 20.605616\n",
      "6) Balance: 672.26896032, Interest: 31.42254432\n",
      "7) Balance: 817.1368838464, Interest: 44.8679235264\n",
      "8) Balance: 978.347545049728, Interest: 61.210661203328\n",
      "9) Balance: 1159.12515715405, Interest: 80.7776121043226\n",
      "10) Balance: 1363.08527240145, Interest: 103.960115247404\n",
      "11) Balance: 1594.30709309689, Interest: 131.221820695433\n",
      "12) Balance: 1857.41505565426, Interest: 163.10796255737\n"
     ]
    }
   ],
   "source": [
    "# Assume you deposit $100 a month in the bank each month\n",
    "# and the bank gives you 2% interest compounded monthly\n",
    "# how much will you have at the end of the year?\n",
    "\n",
    "$balance = 100\n",
    "$interest = 0\n",
    "for ($month = 1; $month -lt 12; $month++) {\n",
    "    $interest += 0.02 * $balance\n",
    "    $balance += 100 + $interest\n",
    "    Write-Host \"$($month+1)) Balance: $balance, Interest: $interest\"\n",
    "}\n"
   ]
  },
  {
   "cell_type": "code",
   "execution_count": 20,
   "metadata": {
    "dotnet_interactive": {
     "language": "pwsh"
    },
    "polyglot_notebook": {
     "kernelName": "pwsh"
    },
    "vscode": {
     "languageId": "polyglot-notebook"
    }
   },
   "outputs": [
    {
     "name": "stdout",
     "output_type": "stream",
     "text": [
      "      o\n",
      "     oo\n",
      "    ooo\n",
      "   oooo\n",
      "  ooooo\n",
      " oooooo\n"
     ]
    }
   ],
   "source": [
    "# crappy graphics\n",
    "\n",
    "#      o\n",
    "#     oo\n",
    "#    ooo\n",
    "#   oooo\n",
    "#  ooooo\n",
    "# oooooo\n",
    "\n",
    "for ($line = 1; $line -le 6; $line++) {\n",
    "    for ($spaces = (6 - $line); $spaces -ge 0; $spaces--) {\n",
    "        Write-Host \" \" -NoNewline\n",
    "    }\n",
    "    for ($owes = 1; $owes -le $line; $owes++) {\n",
    "        Write-Host \"o\" -NoNewline\n",
    "    }\n",
    "    Write-Host\n",
    "}"
   ]
  },
  {
   "cell_type": "code",
   "execution_count": 26,
   "metadata": {
    "dotnet_interactive": {
     "language": "pwsh"
    },
    "polyglot_notebook": {
     "kernelName": "pwsh"
    },
    "vscode": {
     "languageId": "polyglot-notebook"
    }
   },
   "outputs": [
    {
     "name": "stdout",
     "output_type": "stream",
     "text": [
      "ho ho ho \r\n"
     ]
    }
   ],
   "source": [
    "# replication operator\n",
    "\"ho \" * 3"
   ]
  },
  {
   "cell_type": "code",
   "execution_count": 24,
   "metadata": {
    "dotnet_interactive": {
     "language": "pwsh"
    },
    "polyglot_notebook": {
     "kernelName": "pwsh"
    },
    "vscode": {
     "languageId": "polyglot-notebook"
    }
   },
   "outputs": [
    {
     "name": "stdout",
     "output_type": "stream",
     "text": [
      "     o\n",
      "    oo\n",
      "   ooo\n",
      "  oooo\n",
      " ooooo\n",
      "oooooo\n"
     ]
    }
   ],
   "source": [
    "for ($line = 1; $line -le 6; $line++) {\n",
    "    Write-Host (\" \" * (6 - $line)) -NoNewline\n",
    "    Write-Host (\"o\" * $line)\n",
    "}"
   ]
  },
  {
   "cell_type": "code",
   "execution_count": null,
   "metadata": {
    "dotnet_interactive": {
     "language": "csharp"
    },
    "polyglot_notebook": {
     "kernelName": "csharp"
    },
    "vscode": {
     "languageId": "polyglot-notebook"
    }
   },
   "outputs": [],
   "source": []
  }
 ],
 "metadata": {
  "kernelspec": {
   "display_name": ".NET (C#)",
   "language": "C#",
   "name": ".net-csharp"
  },
  "language_info": {
   "name": "python"
  },
  "polyglot_notebook": {
   "kernelInfo": {
    "defaultKernelName": "csharp",
    "items": [
     {
      "aliases": [],
      "name": "csharp"
     }
    ]
   }
  }
 },
 "nbformat": 4,
 "nbformat_minor": 2
}
