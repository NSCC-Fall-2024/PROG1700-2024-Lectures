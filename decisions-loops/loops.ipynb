{
 "cells": [
  {
   "cell_type": "code",
   "execution_count": null,
   "metadata": {
    "dotnet_interactive": {
     "language": "pwsh"
    },
    "polyglot_notebook": {
     "kernelName": "pwsh"
    },
    "vscode": {
     "languageId": "polyglot-notebook"
    }
   },
   "outputs": [],
   "source": [
    "# basic while loop\n",
    "while (<condition>) {\n",
    "    <true>\n",
    "}"
   ]
  },
  {
   "cell_type": "code",
   "execution_count": 1,
   "metadata": {
    "dotnet_interactive": {
     "language": "pwsh"
    },
    "polyglot_notebook": {
     "kernelName": "pwsh"
    },
    "vscode": {
     "languageId": "polyglot-notebook"
    }
   },
   "outputs": [],
   "source": [
    "# infinite loop (DON'T DO THIS!!!)\n",
    "# $num = 1\n",
    "# while ($num -eq 1) {\n",
    "#     Write-Host \"Hello???\"\n",
    "# }"
   ]
  },
  {
   "cell_type": "code",
   "execution_count": 7,
   "metadata": {
    "dotnet_interactive": {
     "language": "pwsh"
    },
    "polyglot_notebook": {
     "kernelName": "pwsh"
    },
    "vscode": {
     "languageId": "polyglot-notebook"
    }
   },
   "outputs": [
    {
     "name": "stdout",
     "output_type": "stream",
     "text": [
      "Hello?\r\n"
     ]
    }
   ],
   "source": [
    "# using a iterator (counter)\n",
    "$num = 1\n",
    "while ($num -eq 1) {\n",
    "    Write-Host \"Hello?\"\n",
    "    # $num = $num + 1\n",
    "    $num++\n",
    "    # $num = $num + 2\n",
    "    $num += 2\n",
    "    # $num = $num * 3\n",
    "    $num *= 3\n",
    "    # $num = $num / 3\n",
    "    $num /= 3\n",
    "}"
   ]
  },
  {
   "cell_type": "code",
   "execution_count": 8,
   "metadata": {
    "dotnet_interactive": {
     "language": "pwsh"
    },
    "polyglot_notebook": {
     "kernelName": "pwsh"
    },
    "vscode": {
     "languageId": "polyglot-notebook"
    }
   },
   "outputs": [
    {
     "name": "stdout",
     "output_type": "stream",
     "text": [
      "1\n",
      "2\n",
      "3\n",
      "4\n",
      "5\n",
      "6\n",
      "7\n",
      "8\n",
      "9\n",
      "10\n"
     ]
    }
   ],
   "source": [
    "# most common form\n",
    "$num = 1\n",
    "while ($num -le 10) {\n",
    "    Write-Host $num\n",
    "    $num++\n",
    "}"
   ]
  },
  {
   "cell_type": "code",
   "execution_count": 8,
   "metadata": {
    "dotnet_interactive": {
     "language": "pwsh"
    },
    "polyglot_notebook": {
     "kernelName": "pwsh"
    },
    "vscode": {
     "languageId": "polyglot-notebook"
    }
   },
   "outputs": [
    {
     "name": "stdout",
     "output_type": "stream",
     "text": [
      "Login Successful!\r\n"
     ]
    }
   ],
   "source": [
    "# ask the user for a password until correct\n",
    "$correctPassword = \"juniper\"\n",
    "$enteredPassword = \"\"\n",
    "$numberOfTries = 0\n",
    "while (($enteredPassword -ne $correctPassword) -and ($numberOfTries -lt 3)) {\n",
    "    $enteredPassword = Read-Host \"Enter a password\"\n",
    "    $numberOfTries++\n",
    "}\n",
    "if (($numberOfTries -ge 3) -and ($enteredPassword -ne $correctPassword)) {\n",
    "    Write-Host \"Login Failed!\"\n",
    "} else {\n",
    "    Write-Host \"Login Successful!\"\n",
    "}"
   ]
  },
  {
   "cell_type": "code",
   "execution_count": 9,
   "metadata": {
    "dotnet_interactive": {
     "language": "pwsh"
    },
    "polyglot_notebook": {
     "kernelName": "pwsh"
    },
    "vscode": {
     "languageId": "polyglot-notebook"
    }
   },
   "outputs": [],
   "source": [
    "# can be run 0 times\n",
    "$num = 0\n",
    "while ($num -eq 1) {\n",
    "    Write-Host \"did I get here??\"\n",
    "    $num++\n",
    "}"
   ]
  },
  {
   "cell_type": "code",
   "execution_count": 10,
   "metadata": {
    "dotnet_interactive": {
     "language": "pwsh"
    },
    "polyglot_notebook": {
     "kernelName": "pwsh"
    },
    "vscode": {
     "languageId": "polyglot-notebook"
    }
   },
   "outputs": [
    {
     "name": "stdout",
     "output_type": "stream",
     "text": [
      "did I get here??\n",
      "did I get here??\n"
     ]
    }
   ],
   "source": [
    "# will be run atleast once\n",
    "$num = 0\n",
    "do {\n",
    "    Write-Host \"did I get here??\"\n",
    "    $num++\n",
    "} while ($num -eq 1)"
   ]
  },
  {
   "cell_type": "code",
   "execution_count": 11,
   "metadata": {
    "dotnet_interactive": {
     "language": "pwsh"
    },
    "polyglot_notebook": {
     "kernelName": "pwsh"
    },
    "vscode": {
     "languageId": "polyglot-notebook"
    }
   },
   "outputs": [
    {
     "name": "stdout",
     "output_type": "stream",
     "text": [
      "Login Successful!\r\n"
     ]
    }
   ],
   "source": [
    "# ask the user for a password until correct\n",
    "$correctPassword = \"juniper\"\n",
    "$numberOfTries = 0\n",
    "do {\n",
    "    $enteredPassword = Read-Host \"Enter a password\"\n",
    "    $numberOfTries++\n",
    "} while (($enteredPassword -ne $correctPassword) -and ($numberOfTries -lt 3))\n",
    "if (($numberOfTries -ge 3) -and ($enteredPassword -ne $correctPassword)) {\n",
    "    Write-Host \"Login Failed!\"\n",
    "} else {\n",
    "    Write-Host \"Login Successful!\"\n",
    "}"
   ]
  },
  {
   "cell_type": "code",
   "execution_count": 12,
   "metadata": {
    "dotnet_interactive": {
     "language": "pwsh"
    },
    "polyglot_notebook": {
     "kernelName": "pwsh"
    },
    "vscode": {
     "languageId": "polyglot-notebook"
    }
   },
   "outputs": [
    {
     "name": "stdout",
     "output_type": "stream",
     "text": [
      "loopy loopy\n",
      "loopy loopy\n",
      "loopy loopy\n",
      "loopy loopy\n",
      "loopy loopy\n"
     ]
    }
   ],
   "source": [
    "# do until\n",
    "$num = 0\n",
    "do {\n",
    "    Write-Host \"loopy loopy\"\n",
    "    $num++\n",
    "} until ($num -eq 5)"
   ]
  },
  {
   "cell_type": "code",
   "execution_count": 13,
   "metadata": {
    "dotnet_interactive": {
     "language": "pwsh"
    },
    "polyglot_notebook": {
     "kernelName": "pwsh"
    },
    "vscode": {
     "languageId": "polyglot-notebook"
    }
   },
   "outputs": [
    {
     "name": "stdout",
     "output_type": "stream",
     "text": [
      "Login Failed!\r\n"
     ]
    }
   ],
   "source": [
    "# ask the user for a password until correct\n",
    "$correctPassword = \"juniper\"\n",
    "$numberOfTries = 0\n",
    "do {\n",
    "    $enteredPassword = Read-Host \"Enter a password\"\n",
    "    $numberOfTries++\n",
    "} until (($enteredPassword -eq $correctPassword) -or ($numberOfTries -ge 3))\n",
    "if (($numberOfTries -ge 3) -and ($enteredPassword -ne $correctPassword)) {\n",
    "    Write-Host \"Login Failed!\"\n",
    "} else {\n",
    "    Write-Host \"Login Successful!\"\n",
    "}"
   ]
  },
  {
   "cell_type": "code",
   "execution_count": null,
   "metadata": {
    "vscode": {
     "languageId": "polyglot-notebook"
    }
   },
   "outputs": [],
   "source": []
  }
 ],
 "metadata": {
  "kernelspec": {
   "display_name": ".NET (C#)",
   "language": "C#",
   "name": ".net-csharp"
  },
  "language_info": {
   "name": "python"
  },
  "polyglot_notebook": {
   "kernelInfo": {
    "defaultKernelName": "csharp",
    "items": [
     {
      "aliases": [],
      "name": "csharp"
     }
    ]
   }
  }
 },
 "nbformat": 4,
 "nbformat_minor": 2
}
