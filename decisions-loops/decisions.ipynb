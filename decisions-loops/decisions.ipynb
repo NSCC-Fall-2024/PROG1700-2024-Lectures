{
 "cells": [
  {
   "cell_type": "code",
   "execution_count": 1,
   "metadata": {
    "dotnet_interactive": {
     "language": "pwsh"
    },
    "polyglot_notebook": {
     "kernelName": "pwsh"
    },
    "vscode": {
     "languageId": "polyglot-notebook"
    }
   },
   "outputs": [
    {
     "name": "stdout",
     "output_type": "stream",
     "text": [
      "Hello!\r\n"
     ]
    }
   ],
   "source": [
    "Write-Host \"Hello!\""
   ]
  },
  {
   "cell_type": "code",
   "execution_count": 3,
   "metadata": {
    "dotnet_interactive": {
     "language": "pwsh"
    },
    "polyglot_notebook": {
     "kernelName": "pwsh"
    },
    "vscode": {
     "languageId": "polyglot-notebook"
    }
   },
   "outputs": [
    {
     "name": "stdout",
     "output_type": "stream",
     "text": [
      "False\r\n"
     ]
    }
   ],
   "source": [
    "# create a boolean variable\n",
    "$booleanVariable = $true\n",
    "$booleanVariable = $false\n",
    "$booleanVariable"
   ]
  },
  {
   "cell_type": "code",
   "execution_count": 4,
   "metadata": {
    "dotnet_interactive": {
     "language": "pwsh"
    },
    "polyglot_notebook": {
     "kernelName": "pwsh"
    },
    "vscode": {
     "languageId": "polyglot-notebook"
    }
   },
   "outputs": [],
   "source": [
    "# not a boolean variable\n",
    "$notABooleanVariable = \"true\"\n",
    "$notABooleanVariable = 1\n"
   ]
  },
  {
   "cell_type": "code",
   "execution_count": 13,
   "metadata": {
    "dotnet_interactive": {
     "language": "pwsh"
    },
    "polyglot_notebook": {
     "kernelName": "pwsh"
    },
    "vscode": {
     "languageId": "polyglot-notebook"
    }
   },
   "outputs": [
    {
     "name": "stdout",
     "output_type": "stream",
     "text": [
      "True\n",
      "True\n"
     ]
    }
   ],
   "source": [
    "# converting to a boolean\n",
    "$yes = \"cat\"\n",
    "#$booleanYes = [bool]::Parse($yes)\n",
    "$booleanYes = [bool]$yes\n",
    "$booleanYes\n",
    "$integer = -1\n",
    "$booleanInt = [bool]$integer\n",
    "$booleanInt\n"
   ]
  },
  {
   "cell_type": "code",
   "execution_count": 15,
   "metadata": {
    "dotnet_interactive": {
     "language": "pwsh"
    },
    "polyglot_notebook": {
     "kernelName": "pwsh"
    },
    "vscode": {
     "languageId": "polyglot-notebook"
    }
   },
   "outputs": [
    {
     "name": "stdout",
     "output_type": "stream",
     "text": [
      "False\n",
      "False\n",
      "True\n",
      "True\n",
      "False\n",
      "True\n"
     ]
    }
   ],
   "source": [
    "# compare two numbers\n",
    "1 -gt 2\n",
    "1 -ge 2\n",
    "1 -lt 2\n",
    "1 -le 2\n",
    "1 -eq 2\n",
    "1 -ne 2"
   ]
  },
  {
   "cell_type": "code",
   "execution_count": 22,
   "metadata": {
    "dotnet_interactive": {
     "language": "pwsh"
    },
    "polyglot_notebook": {
     "kernelName": "pwsh"
    },
    "vscode": {
     "languageId": "polyglot-notebook"
    }
   },
   "outputs": [
    {
     "name": "stdout",
     "output_type": "stream",
     "text": [
      "False\n",
      "False\n",
      "True\n",
      "False\n",
      "True\n",
      "True\n",
      "True\n"
     ]
    }
   ],
   "source": [
    "# compare two strings\n",
    "\"abc\" -eq \"123\"\n",
    "\"apple\" -eq \"apples\"\n",
    "\"apple\" -eq \"APPLE\"  # not case sensitive \n",
    "\"apple\" -ceq \"APPLE\" # case sensitive\n",
    "\"apple\" -ieq \"APPLE\" # case insensitive\n",
    "\"apple\" -lt \"orange\" # like a dictionary, apple comes first\n",
    "\"apple\" -lt \"apples\" # shorter words come before longer words"
   ]
  },
  {
   "cell_type": "code",
   "execution_count": 28,
   "metadata": {
    "dotnet_interactive": {
     "language": "pwsh"
    },
    "polyglot_notebook": {
     "kernelName": "pwsh"
    },
    "vscode": {
     "languageId": "polyglot-notebook"
    }
   },
   "outputs": [
    {
     "name": "stdout",
     "output_type": "stream",
     "text": [
      "True\n",
      "True\n",
      "True\n",
      "False\n"
     ]
    }
   ],
   "source": [
    "# different data type comparisons\n",
    "0 -eq $false # comparing integers\n",
    "$false -eq 0 # comparing booleans\n",
    "$true -eq 123 # comparing booleans\n",
    "123 -eq $true # comparing integer"
   ]
  },
  {
   "cell_type": "code",
   "execution_count": 32,
   "metadata": {
    "dotnet_interactive": {
     "language": "pwsh"
    },
    "polyglot_notebook": {
     "kernelName": "pwsh"
    },
    "vscode": {
     "languageId": "polyglot-notebook"
    }
   },
   "outputs": [
    {
     "name": "stdout",
     "output_type": "stream",
     "text": [
      "0.3\n",
      "False\n",
      "True\n",
      "True\n"
     ]
    }
   ],
   "source": [
    "# problematic decimals\n",
    "$a = 0.1\n",
    "$b = 0.2\n",
    "$a + $b\n",
    "($a + $b) -eq 0.3\n",
    "0.1 -lt 0.2\n",
    "[Math]::Round($a + $b, 3) -eq 0.3"
   ]
  },
  {
   "cell_type": "code",
   "execution_count": 33,
   "metadata": {
    "dotnet_interactive": {
     "language": "pwsh"
    },
    "polyglot_notebook": {
     "kernelName": "pwsh"
    },
    "vscode": {
     "languageId": "polyglot-notebook"
    }
   },
   "outputs": [
    {
     "name": "stdout",
     "output_type": "stream",
     "text": [
      "True\r\n"
     ]
    }
   ],
   "source": [
    "# comparing variables\n",
    "$number1 = 0\n",
    "$number2 = 1\n",
    "$number1 -lt $number2"
   ]
  },
  {
   "cell_type": "code",
   "execution_count": 34,
   "metadata": {
    "dotnet_interactive": {
     "language": "pwsh"
    },
    "polyglot_notebook": {
     "kernelName": "pwsh"
    },
    "vscode": {
     "languageId": "polyglot-notebook"
    }
   },
   "outputs": [
    {
     "name": "stdout",
     "output_type": "stream",
     "text": [
      " !\"#$%&'()*+,-./0123456789:;<=>?@ABCDEFGHIJKLMNOPQRSTUVWXYZ[\\]^_`abcdefghijklmnopqrstuvwxyz{|}~\r\n"
     ]
    }
   ],
   "source": [
    "# ASCII\n",
    "-join @(32..127 | % { [char]$_ } | sort -Stable)"
   ]
  },
  {
   "cell_type": "code",
   "execution_count": 38,
   "metadata": {
    "dotnet_interactive": {
     "language": "pwsh"
    },
    "polyglot_notebook": {
     "kernelName": "pwsh"
    },
    "vscode": {
     "languageId": "polyglot-notebook"
    }
   },
   "outputs": [
    {
     "name": "stdout",
     "output_type": "stream",
     "text": [
      "True\n",
      "True\n",
      "False\n"
     ]
    }
   ],
   "source": [
    "\"a\" -clt \"A\"\n",
    "\"-\" -clt \"+\"\n",
    "[byte][char]\"-\" -lt [byte][char]\"+\""
   ]
  },
  {
   "cell_type": "code",
   "execution_count": 36,
   "metadata": {
    "dotnet_interactive": {
     "language": "pwsh"
    },
    "polyglot_notebook": {
     "kernelName": "pwsh"
    },
    "vscode": {
     "languageId": "polyglot-notebook"
    }
   },
   "outputs": [
    {
     "name": "stdout",
     "output_type": "stream",
     "text": [
      " _-,;:!?.'\"()[]{}@*/\\&#%`^+<=>|~$0123456789AaBbCcDdEeFfGgHhIiJjKkLlMmNnOoPpQqRrSsTtUuVvWwXxYyZz\r\n"
     ]
    }
   ],
   "source": [
    "# PowerShell\n",
    "-join @(32..127 | % { [string][char]$_ } | sort -Stable)"
   ]
  },
  {
   "cell_type": "code",
   "execution_count": 42,
   "metadata": {
    "dotnet_interactive": {
     "language": "pwsh"
    },
    "polyglot_notebook": {
     "kernelName": "pwsh"
    },
    "vscode": {
     "languageId": "polyglot-notebook"
    }
   },
   "outputs": [
    {
     "name": "stdout",
     "output_type": "stream",
     "text": [
      "5 < 10\r\n"
     ]
    }
   ],
   "source": [
    "# simple comparisons (look at the format!)\n",
    "$num = 5\n",
    "if ($num -lt 10) {\n",
    "    # true!\n",
    "    Write-Host \"5 < 10\"\n",
    "}"
   ]
  },
  {
   "cell_type": "code",
   "execution_count": 45,
   "metadata": {
    "dotnet_interactive": {
     "language": "pwsh"
    },
    "polyglot_notebook": {
     "kernelName": "pwsh"
    },
    "vscode": {
     "languageId": "polyglot-notebook"
    }
   },
   "outputs": [
    {
     "name": "stdout",
     "output_type": "stream",
     "text": [
      "5 < 10\n",
      "5 < 10\n"
     ]
    }
   ],
   "source": [
    "# bad formatting\n",
    "$num = 5\n",
    "if ($num -lt 10) { Write-Host \"5 < 10\" } # not preferred, but acceptable\n",
    "\n",
    "if( $num -lt    10){     write-host \"5 < 10\"} # not acceptable\n"
   ]
  },
  {
   "cell_type": "code",
   "execution_count": 50,
   "metadata": {
    "dotnet_interactive": {
     "language": "pwsh"
    },
    "polyglot_notebook": {
     "kernelName": "pwsh"
    },
    "vscode": {
     "languageId": "polyglot-notebook"
    }
   },
   "outputs": [
    {
     "name": "stdout",
     "output_type": "stream",
     "text": [
      "VI\r\n"
     ]
    }
   ],
   "source": [
    "# create a script that asks the user for a number \n",
    "# and displays the roman numeral equivalient\n",
    "# 9 = IX\n",
    "\n",
    "$number = 6\n",
    "\n",
    "if ($number -eq 1) {\n",
    "    Write-Host \"I\"\n",
    "} elseif ($number -eq 2) {\n",
    "    Write-Host \"II\"\n",
    "} elseif ($number -eq 3) {\n",
    "    Write-Host \"III\"\n",
    "} elseif ($number -eq 4) {\n",
    "    Write-Host \"IV\"\n",
    "} elseif ($number -eq 5) {\n",
    "    Write-Host \"V\"\n",
    "} elseif ($number -eq 6) {\n",
    "    Write-Host \"VI\"\n",
    "} elseif ($number -eq 7) {\n",
    "    Write-Host \"VII\"\n",
    "} elseif ($number -eq 8) {\n",
    "    Write-Host \"VIII\"\n",
    "} elseif ($number -eq 9) {\n",
    "    Write-Host \"IX\"\n",
    "} else {\n",
    "    Write-Host \"X\"\n",
    "}\n"
   ]
  },
  {
   "cell_type": "code",
   "execution_count": 47,
   "metadata": {
    "dotnet_interactive": {
     "language": "pwsh"
    },
    "polyglot_notebook": {
     "kernelName": "pwsh"
    },
    "vscode": {
     "languageId": "polyglot-notebook"
    }
   },
   "outputs": [
    {
     "name": "stdout",
     "output_type": "stream",
     "text": [
      "10 >= 10\r\n"
     ]
    }
   ],
   "source": [
    "# else statement\n",
    "$num = 10\n",
    "if ($num -lt 10) {\n",
    "    Write-Host \"$num < 10\"\n",
    "} else {\n",
    "    Write-Host \"$num >= 10\"\n",
    "}"
   ]
  },
  {
   "cell_type": "code",
   "execution_count": 49,
   "metadata": {
    "dotnet_interactive": {
     "language": "pwsh"
    },
    "polyglot_notebook": {
     "kernelName": "pwsh"
    },
    "vscode": {
     "languageId": "polyglot-notebook"
    }
   },
   "outputs": [
    {
     "name": "stdout",
     "output_type": "stream",
     "text": [
      "12 >= 10\r\n"
     ]
    }
   ],
   "source": [
    "# nested if statements\n",
    "$num = 12\n",
    "if ($num -lt 10) {\n",
    "    if ($num -lt 5) {\n",
    "        Write-Host \"$num < 5\"\n",
    "    } else {\n",
    "        Write-Host \"$num < 10\"\n",
    "    }\n",
    "} elseif ($num -gt 20) {\n",
    "    Write-Host \"$num > 20\"\n",
    "} else {\n",
    "    Write-Host \"$num >= 10\"\n",
    "}"
   ]
  },
  {
   "cell_type": "code",
   "execution_count": 51,
   "metadata": {
    "dotnet_interactive": {
     "language": "pwsh"
    },
    "polyglot_notebook": {
     "kernelName": "pwsh"
    },
    "vscode": {
     "languageId": "polyglot-notebook"
    }
   },
   "outputs": [
    {
     "name": "stdout",
     "output_type": "stream",
     "text": [
      "Eating healthy!\r\n"
     ]
    }
   ],
   "source": [
    "# compound comparisons\n",
    "$lunch = \"apple\"\n",
    "if ($lunch -eq \"apple\") {\n",
    "    Write-Host \"Eating healthy!\"\n",
    "} elseif ($lunch -eq \"banana\") {\n",
    "    Write-Host \"Eating healthy!\"\n",
    "} elseif ($lunch -eq \"orange\") {\n",
    "    Write-Host \"Eating healthy!\"\n",
    "} else {\n",
    "    Write-Host \"You need to eat better!!\"\n",
    "}"
   ]
  },
  {
   "cell_type": "code",
   "execution_count": 55,
   "metadata": {
    "dotnet_interactive": {
     "language": "pwsh"
    },
    "polyglot_notebook": {
     "kernelName": "pwsh"
    },
    "vscode": {
     "languageId": "polyglot-notebook"
    }
   },
   "outputs": [
    {
     "name": "stdout",
     "output_type": "stream",
     "text": [
      "Eating healthy!\r\n"
     ]
    }
   ],
   "source": [
    "$lunch = \"apple\"\n",
    "if (($lunch -eq \"apple\") -or \n",
    "    ($lunch -eq \"banana\") -or \n",
    "    ($lunch -eq \"orange\")) {\n",
    "    Write-Host \"Eating healthy!\"\n",
    "} else {\n",
    "    Write-Host \"You need to eat better!!\"\n",
    "}"
   ]
  },
  {
   "cell_type": "code",
   "execution_count": 1,
   "metadata": {
    "dotnet_interactive": {
     "language": "pwsh"
    },
    "polyglot_notebook": {
     "kernelName": "pwsh"
    },
    "vscode": {
     "languageId": "polyglot-notebook"
    }
   },
   "outputs": [
    {
     "name": "stdout",
     "output_type": "stream",
     "text": [
      "True\n",
      "True\n"
     ]
    }
   ],
   "source": [
    "$lunch = \"apple\"\n",
    "$snack = \"broccoli\"\n",
    "($lunch -eq \"apple\") -and ($snack -eq \"broccoli\") # both have to be true\n",
    "($lunch -eq \"apple\") -or ($snack -eq \"broccoli\")  # only one has to be true"
   ]
  },
  {
   "cell_type": "code",
   "execution_count": 8,
   "metadata": {
    "dotnet_interactive": {
     "language": "pwsh"
    },
    "polyglot_notebook": {
     "kernelName": "pwsh"
    },
    "vscode": {
     "languageId": "polyglot-notebook"
    }
   },
   "outputs": [
    {
     "name": "stdout",
     "output_type": "stream",
     "text": [
      "A Thanksgiving Day Feast!\r\n"
     ]
    }
   ],
   "source": [
    "$appetizer = \"wine\"\n",
    "$mainCourse = \"ham\"\n",
    "$desert = \"apple pie\"\n",
    "\n",
    "if (($appetizer -eq \"wine\") -and ($mainCourse -eq \"turkey\") -and ($desert -eq \"pumpkin pie\")) {\n",
    "    Write-Host \"A Thanksgiving Day Feast!\"\n",
    "}\n",
    "if (($appetizer -eq \"wine\") -or (($mainCourse -eq \"turkey\") -and ($desert -eq \"pumpkin pie\"))) {\n",
    "    Write-Host \"A Thanksgiving Day Feast!\"\n",
    "}"
   ]
  },
  {
   "cell_type": "code",
   "execution_count": 16,
   "metadata": {
    "dotnet_interactive": {
     "language": "pwsh"
    },
    "polyglot_notebook": {
     "kernelName": "pwsh"
    },
    "vscode": {
     "languageId": "polyglot-notebook"
    }
   },
   "outputs": [
    {
     "name": "stdout",
     "output_type": "stream",
     "text": [
      "A Thanksgiving Day Feast!\r\n"
     ]
    }
   ],
   "source": [
    "$appetizer = \"wine\"\n",
    "$mainCourse = \"turkey\"\n",
    "$desert = \"pumpkin pie\"\n",
    "\n",
    "if (($appetizer -eq \"wine\") -and (-not ($mainCourse -eq \"squash\")) -and ($desert -eq \"pumpkin pie\")) {\n",
    "    Write-Host \"A Thanksgiving Day Feast!\"\n",
    "}"
   ]
  },
  {
   "cell_type": "code",
   "execution_count": 17,
   "metadata": {
    "dotnet_interactive": {
     "language": "pwsh"
    },
    "polyglot_notebook": {
     "kernelName": "pwsh"
    },
    "vscode": {
     "languageId": "polyglot-notebook"
    }
   },
   "outputs": [
    {
     "name": "stdout",
     "output_type": "stream",
     "text": [
      "What is this meant to compare???\r\n"
     ]
    }
   ],
   "source": [
    "$string = \"hello\"\n",
    "$number = 999\n",
    "$boolean = $true\n",
    "\n",
    "if (($string -eq \"hello\") -and ($number -lt 1000) -and -not ($boolean -eq $false)) {\n",
    "    Write-Host \"What is this meant to compare???\"\n",
    "}"
   ]
  },
  {
   "cell_type": "code",
   "execution_count": 21,
   "metadata": {
    "dotnet_interactive": {
     "language": "pwsh"
    },
    "polyglot_notebook": {
     "kernelName": "pwsh"
    },
    "vscode": {
     "languageId": "polyglot-notebook"
    }
   },
   "outputs": [
    {
     "name": "stdout",
     "output_type": "stream",
     "text": [
      "blue and red = violet\r\n"
     ]
    }
   ],
   "source": [
    "# create a script that asks the user for two primary colours (red, blue, yellow)\n",
    "# and then outputs the combination of those two colours (violet, green, orange)\n",
    "\n",
    "$colour1 = Read-Host \"Enter first colour\"\n",
    "$colour2 = Read-Host \"Enter second colour\"\n",
    "\n",
    "if (($colour1 -eq \"red\") -and ($colour2 -eq \"blue\")) {\n",
    "    # if user enters red and blue, output violet\n",
    "    Write-Host \"$colour1 and $colour2 = violet\"\n",
    "} elseif (($colour1 -eq \"blue\") -and ($colour2 -eq \"yellow\")) {\n",
    "    # if user enters blue and yellow, output green\n",
    "    Write-Host \"$colour1 and $colour2 = green\"\n",
    "} elseif (($colour1 -eq \"red\") -and ($colour2 -eq \"yellow\")) {\n",
    "    # if user enters red and yellow, output orange\n",
    "    Write-Host \"$colour1 and $colour2 = orange\"\n",
    "} elseif (($colour1 -eq \"blue\") -and ($colour2 -eq \"red\")) {\n",
    "    # if user enters red and blue, output violet\n",
    "    Write-Host \"$colour1 and $colour2 = violet\"\n",
    "} elseif (($colour1 -eq \"yellow\") -and ($colour2 -eq \"blue\")) {\n",
    "    # if user enters blue and yellow, output green\n",
    "    Write-Host \"$colour1 and $colour2 = green\"\n",
    "} elseif (($colour1 -eq \"yellow\") -and ($colour2 -eq \"red\")) {\n",
    "    # if user enters red and yellow, output orange\n",
    "    Write-Host \"$colour1 and $colour2 = orange\"\n",
    "}"
   ]
  },
  {
   "cell_type": "code",
   "execution_count": 24,
   "metadata": {
    "dotnet_interactive": {
     "language": "pwsh"
    },
    "polyglot_notebook": {
     "kernelName": "pwsh"
    },
    "vscode": {
     "languageId": "polyglot-notebook"
    }
   },
   "outputs": [
    {
     "name": "stdout",
     "output_type": "stream",
     "text": [
      "blue and yellow = green\r\n"
     ]
    }
   ],
   "source": [
    "# REFACTORED VERSION : a little more efficient but a little less readable\n",
    "\n",
    "# create a script that asks the user for two primary colours (red, blue, yellow)\n",
    "# and then outputs the combination of those two colours (violet, green, orange)\n",
    "\n",
    "$colour1 = Read-Host \"Enter first colour\"\n",
    "$colour2 = Read-Host \"Enter second colour\"\n",
    "\n",
    "if (($colour1 -eq \"red\")) {\n",
    "    if ($colour2 -eq \"blue\") {\n",
    "        # if user enters red and blue, output violet\n",
    "        Write-Host \"$colour1 and $colour2 = violet\"\n",
    "    } elseif (($colour2 -eq \"yellow\")) {\n",
    "        # if user enters red and yellow, output orange\n",
    "        Write-Host \"$colour1 and $colour2 = orange\"\n",
    "    } \n",
    "} elseif (($colour1 -eq \"blue\") -and ($colour2 -eq \"yellow\")) {\n",
    "    # if user enters blue and yellow, output green\n",
    "    Write-Host \"$colour1 and $colour2 = green\"\n",
    "}"
   ]
  },
  {
   "cell_type": "code",
   "execution_count": 28,
   "metadata": {
    "dotnet_interactive": {
     "language": "pwsh"
    },
    "polyglot_notebook": {
     "kernelName": "pwsh"
    },
    "vscode": {
     "languageId": "polyglot-notebook"
    }
   },
   "outputs": [
    {
     "name": "stdout",
     "output_type": "stream",
     "text": [
      "blue and yellow = green\r\n"
     ]
    }
   ],
   "source": [
    "# 2nd REFACTORING\n",
    "\n",
    "# create a script that asks the user for two primary colours (red, blue, yellow)\n",
    "# and then outputs the combination of those two colours (violet, green, orange)\n",
    "\n",
    "$colour1 = Read-Host \"Enter first colour\"\n",
    "$colour2 = Read-Host \"Enter second colour\"\n",
    "\n",
    "# swap colours around if needed\n",
    "if (($colour1 -eq \"yellow\") -or ($colour2 -eq \"red\")) {\n",
    "    $temp = $colour1\n",
    "    $colour1 = $colour2\n",
    "    $colour2 = $temp\n",
    "}\n",
    "\n",
    "if (($colour1 -eq \"red\") -and ($colour2 -eq \"blue\")) {\n",
    "    # if user enters red and blue, output violet\n",
    "    Write-Host \"$colour1 and $colour2 = violet\"\n",
    "} elseif (($colour1 -eq \"blue\") -and ($colour2 -eq \"yellow\")) {\n",
    "    # if user enters blue and yellow, output green\n",
    "    Write-Host \"$colour1 and $colour2 = green\"\n",
    "} elseif (($colour1 -eq \"red\") -and ($colour2 -eq \"yellow\")) {\n",
    "    # if user enters red and yellow, output orange\n",
    "    Write-Host \"$colour1 and $colour2 = orange\"\n",
    "}"
   ]
  },
  {
   "cell_type": "code",
   "execution_count": null,
   "metadata": {
    "vscode": {
     "languageId": "polyglot-notebook"
    }
   },
   "outputs": [],
   "source": []
  }
 ],
 "metadata": {
  "kernelspec": {
   "display_name": ".NET (C#)",
   "language": "C#",
   "name": ".net-csharp"
  },
  "language_info": {
   "name": "python"
  },
  "polyglot_notebook": {
   "kernelInfo": {
    "defaultKernelName": "csharp",
    "items": [
     {
      "aliases": [],
      "name": "csharp"
     }
    ]
   }
  }
 },
 "nbformat": 4,
 "nbformat_minor": 2
}
