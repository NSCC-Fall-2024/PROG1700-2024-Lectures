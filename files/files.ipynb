{
 "cells": [
  {
   "cell_type": "code",
   "execution_count": 9,
   "metadata": {
    "dotnet_interactive": {
     "language": "pwsh"
    },
    "polyglot_notebook": {
     "kernelName": "pwsh"
    },
    "vscode": {
     "languageId": "polyglot-notebook"
    }
   },
   "outputs": [
    {
     "name": "stdout",
     "output_type": "stream",
     "text": [
      "😄\n",
      "🙈\n",
      "🙉\n",
      "🙊\n",
      "☃\n",
      "🎄\n",
      "🎅\n",
      "💩💩💩💩💩\n"
     ]
    }
   ],
   "source": [
    "\"`u{1F604}\"\n",
    "\"`u{1F648}\"\n",
    "\"`u{1F649}\"\n",
    "\"`u{1F64A}\"\n",
    "\"`u{2603}\"\n",
    "\"`u{1F384}\"\n",
    "\"`u{1F385}\"\n",
    "\"`u{1F4A9}`u{1F4A9}`u{1F4A9}`u{1F4A9}`u{1F4A9}\"\n",
    "\n"
   ]
  },
  {
   "cell_type": "code",
   "execution_count": 12,
   "metadata": {
    "dotnet_interactive": {
     "language": "pwsh"
    },
    "polyglot_notebook": {
     "kernelName": "pwsh"
    },
    "vscode": {
     "languageId": "polyglot-notebook"
    }
   },
   "outputs": [
    {
     "name": "stdout",
     "output_type": "stream",
     "text": [
      "\n",
      "\u001b[32;1mPath\u001b[0m\n",
      "\u001b[32;1m----\u001b[0m\n",
      "C:\\Users\\W0111036\\OneDrive - Nova Scotia Community College\\NSCC\\Fall 2024\\PROG1700\\PROG1700-2024-L…\n",
      "C:\\Users\\W0111036\\OneDrive - Nova Scotia Community College\\NSCC\\Fall 2024\\PROG1700\\PROG1700-2024-Lectures\\files\n",
      "C:\\Users\\W0111036\\OneDrive - Nova Scotia Community College\\NSCC\\Fall 2024\\PROG1700\\PROG1700-2024-L…\n",
      "\n"
     ]
    }
   ],
   "source": [
    "Get-Location\n",
    "(Get-Location).Path\n",
    "$PWD"
   ]
  },
  {
   "cell_type": "code",
   "execution_count": 14,
   "metadata": {
    "dotnet_interactive": {
     "language": "pwsh"
    },
    "polyglot_notebook": {
     "kernelName": "pwsh"
    },
    "vscode": {
     "languageId": "polyglot-notebook"
    }
   },
   "outputs": [
    {
     "name": "stdout",
     "output_type": "stream",
     "text": [
      "C:\\Users\\W0111036\\OneDrive - Nova Scotia Community College\\NSCC\\Fall 2024\\PROG1700\\PROG1700-2024-Lectures\\files\\emoji.ps1\r\n"
     ]
    }
   ],
   "source": [
    "# get an absolute path from a relative path\n",
    "$path = \"..\\files\\emoji.ps1\"\n",
    "(Resolve-Path $path).Path"
   ]
  },
  {
   "cell_type": "code",
   "execution_count": 28,
   "metadata": {
    "dotnet_interactive": {
     "language": "pwsh"
    },
    "polyglot_notebook": {
     "kernelName": "pwsh"
    },
    "vscode": {
     "languageId": "polyglot-notebook"
    }
   },
   "outputs": [
    {
     "name": "stdout",
     "output_type": "stream",
     "text": [
      "test.txt\n",
      "\n",
      "\u001b[32;1mName                          \u001b[0m\u001b[32;1m Value\u001b[0m\n",
      "\u001b[32;1m----                          \u001b[0m \u001b[32;1m-----\u001b[0m\n",
      "__COMPAT_LAYER                 DetectorsAppHealth\n",
      "ALLUSERSPROFILE                C:\\ProgramData\n",
      "ANDROID_HOME                   C:\\Users\\W0111036\\AppData\\Local\\Android\\Sdk\n",
      "APPDATA                        C:\\Users\\W0111036\\AppData\\Roaming\n",
      "APPLICATION_INSIGHTS_NO_DIAGN… 1\n",
      "CHROME_CRASHPAD_PIPE_NAME      \\\\.\\pipe\\crashpad_2520_TEWJOLSGFTIEAKIN\n",
      "CommonProgramFiles             C:\\Program Files\\Common Files\n",
      "CommonProgramFiles(x86)        C:\\Program Files (x86)\\Common Files\n",
      "CommonProgramW6432             C:\\Program Files\\Common Files\n",
      "COMPUTERNAME                   AAD-STAFF-92226\n",
      "ComSpec                        C:\\WINDOWS\\system32\\cmd.exe\n",
      "DOTNET_CLI_CULTURE             en\n",
      "DOTNET_CLI_UI_LANGUAGE         en\n",
      "DriverData                     C:\\Windows\\System32\\Drivers\\DriverData\n",
      "EFC_14032                      1\n",
      "ELECTRON_RUN_AS_NODE           1\n",
      "HOMEDRIVE                      C:\n",
      "HOMEPATH                       \\Users\\W0111036\n",
      "HOOPS_LICENSE_KEY              c480f7b0c8c5d9481972b65e5bb8%;feae791a3ea8364138cf2d013afcdba1c5161…\n",
      "JAVA_HOME                      C:\\Program Files\\Java\\jdk-22\n",
      "LOCALAPPDATA                   C:\\Users\\W0111036\\AppData\\Local\n",
      "LOGONSERVER                    \\\\AAD-STAFF-92226\n",
      "MSBUILDFAILONDRIVEENUMERATING… 1\n",
      "NUMBER_OF_PROCESSORS           20\n",
      "OneDrive                       C:\\Users\\W0111036\\OneDrive - Nova Scotia Community College\n",
      "OneDriveCommercial             C:\\Users\\W0111036\\OneDrive - Nova Scotia Community College\n",
      "OneDriveConsumer               C:\\Users\\W0111036\\OneDrive\n",
      "ORIGINAL_XDG_CURRENT_DESKTOP   undefined\n",
      "OS                             Windows_NT\n",
      "Path                           C:\\Program Files\\Common Files\\Oracle\\Java\\javapath;C:\\Program Files…\n",
      "PATHEXT                        .COM;.EXE;.BAT;.CMD;.VBS;.VBE;.JS;.JSE;.WSF;.WSH;.MSC;.CPL\n",
      "POSH_INSTALLER                 manual\n",
      "POSH_THEMES_PATH               C:\\Users\\W0111036\\AppData\\Local\\Programs\\oh-my-posh\\themes\n",
      "POWERSHELL_DISTRIBUTION_CHANN… dotnet-interactive-powershell\n",
      "PreferredUILang                en\n",
      "PROCESSOR_ARCHITECTURE         AMD64\n",
      "PROCESSOR_IDENTIFIER           Intel64 Family 6 Model 186 Stepping 2, GenuineIntel\n",
      "PROCESSOR_LEVEL                6\n",
      "PROCESSOR_REVISION             ba02\n",
      "ProgramData                    C:\\ProgramData\n",
      "ProgramFiles                   C:\\Program Files\n",
      "ProgramFiles(x86)              C:\\Program Files (x86)\n",
      "ProgramW6432                   C:\\Program Files\n",
      "PSExecutionPolicyPreference    RemoteSigned\n",
      "PSModulePath                   C:\\Users\\W0111036\\.nuget\\packages\\microsoft.dotnet-interactive\\1.0.…\n",
      "PUBLIC                         C:\\Users\\Public\n",
      "SESSIONNAME                    Console\n",
      "STM32_PRG_PATH                 C:\\Program Files\\STMicroelectronics\\STM32Cube\\STM32CubeProgrammer\\b…\n",
      "STM32CLT_PATH                  C:\\ST\\STM32CubeCLT_1.16.0\n",
      "STM32CubeMX_PATH               C:\\Users\\W0111036\\AppData\\Local\\Programs\\STM32CubeMX\n",
      "SystemDrive                    C:\n",
      "SystemRoot                     C:\\WINDOWS\n",
      "TEMP                           C:\\Users\\W0111036\\AppData\\Local\\Temp\n",
      "TMP                            C:\\Users\\W0111036\\AppData\\Local\\Temp\n",
      "USERDNSDOMAIN                  CAMPUS.NSCC.CA\n",
      "USERDOMAIN                     CAMPUS\n",
      "USERDOMAIN_ROAMINGPROFILE      CAMPUS\n",
      "USERNAME                       W0111036\n",
      "USERPROFILE                    C:\\Users\\W0111036\n",
      "VBOX_MSI_INSTALL_PATH          C:\\Program Files\\Oracle\\VirtualBox\\\n",
      "VSCODE_CODE_CACHE_PATH         C:\\Users\\W0111036\\AppData\\Roaming\\Code - Insiders\\CachedData\\91bf2f…\n",
      "VSCODE_CRASH_REPORTER_PROCESS… extensionHost\n",
      "VSCODE_CWD                     C:\\Users\\W0111036\\AppData\\Local\\Programs\\Microsoft VS Code Insiders\n",
      "VSCODE_ESM_ENTRYPOINT          vs/workbench/api/node/extensionHostProcess\n",
      "VSCODE_HANDLES_UNCAUGHT_ERRORS true\n",
      "VSCODE_IPC_HOOK                \\\\.\\pipe\\5d20da50-1.96.0-insider-main-sock\n",
      "VSCODE_NLS_CONFIG              {\"userLocale\":\"en-us\",\"osLocale\":\"en-us\",\"resolvedLanguage\":\"en\",\"d…\n",
      "VSCODE_PID                     2520\n",
      "VSLANG                         9\n",
      "windir                         C:\\WINDOWS\n",
      "ZES_ENABLE_SYSMAN              1\n",
      "\n"
     ]
    }
   ],
   "source": [
    "# get directory contents\n",
    "# Get-ChildItem\n",
    "# Get-ChildItem -Directory\n",
    "# Get-ChildItem -Directory -Hidden\n",
    "# Get-ChildItem -File\n",
    "(Get-ChildItem -File -Recurse -Hidden).Name\n",
    "Get-ChildItem env:\n"
   ]
  },
  {
   "cell_type": "code",
   "execution_count": 29,
   "metadata": {
    "dotnet_interactive": {
     "language": "pwsh"
    },
    "polyglot_notebook": {
     "kernelName": "pwsh"
    },
    "vscode": {
     "languageId": "polyglot-notebook"
    }
   },
   "outputs": [
    {
     "name": "stdout",
     "output_type": "stream",
     "text": [
      "True\r\n"
     ]
    }
   ],
   "source": [
    "# does a file or directory or .... exist?\n",
    "Test-Path .\\emoji.ps1"
   ]
  },
  {
   "cell_type": "code",
   "execution_count": 30,
   "metadata": {
    "dotnet_interactive": {
     "language": "pwsh"
    },
    "polyglot_notebook": {
     "kernelName": "pwsh"
    },
    "vscode": {
     "languageId": "polyglot-notebook"
    }
   },
   "outputs": [
    {
     "name": "stdout",
     "output_type": "stream",
     "text": [
      "\n",
      "    Directory: C:\\Users\\W0111036\\OneDrive - Nova Scotia Community College\\NSCC\\Fall \n",
      "2024\\PROG1700\\PROG1700-2024-Lectures\\files\n",
      "\n",
      "\u001b[32;1mMode   \u001b[0m\u001b[32;1m              LastWriteTime\u001b[0m\u001b[32;1m         Length\u001b[0m\u001b[32;1m Name\u001b[0m\n",
      "\u001b[32;1m----   \u001b[0m \u001b[32;1m             -------------\u001b[0m \u001b[32;1m        ------\u001b[0m \u001b[32;1m----\u001b[0m\n",
      "la---          11/20/2024  9:19 AM            471 \u001b[33;1memoji.ps1\u001b[0m\n",
      "\n",
      "\u001b[32;1mPSPath                  : \u001b[0mMicrosoft.PowerShell.Core\\FileSystem::C:\\Users\\W0111036\\OneDrive - Nova \n",
      "                          Scotia Community College\\NSCC\\Fall \n",
      "                          2024\\PROG1700\\PROG1700-2024-Lectures\\files\\emoji.ps1\n",
      "\u001b[32;1mPSParentPath            : \u001b[0mMicrosoft.PowerShell.Core\\FileSystem::C:\\Users\\W0111036\\OneDrive - Nova \n",
      "                          Scotia Community College\\NSCC\\Fall \n",
      "                          2024\\PROG1700\\PROG1700-2024-Lectures\\files\n",
      "\u001b[32;1mPSChildName             : \u001b[0memoji.ps1\n",
      "\u001b[32;1mPSDrive                 : \u001b[0mC\n",
      "\u001b[32;1mPSProvider              : \u001b[0mMicrosoft.PowerShell.Core\\FileSystem\n",
      "\u001b[32;1mCentralAccessPolicyId   : \u001b[0m\n",
      "\u001b[32;1mAccessRightType         : \u001b[0mSystem.Security.AccessControl.FileSystemRights\n",
      "\u001b[32;1mAccessRuleType          : \u001b[0mSystem.Security.AccessControl.FileSystemAccessRule\n",
      "\u001b[32;1mAuditRuleType           : \u001b[0mSystem.Security.AccessControl.FileSystemAuditRule\n",
      "\u001b[32;1mAreAccessRulesProtected : \u001b[0mFalse\n",
      "\u001b[32;1mAreAuditRulesProtected  : \u001b[0mFalse\n",
      "\u001b[32;1mAreAccessRulesCanonical : \u001b[0mTrue\n",
      "\u001b[32;1mAreAuditRulesCanonical  : \u001b[0mTrue\n",
      "\u001b[32;1mPath                    : \u001b[0mMicrosoft.PowerShell.Core\\FileSystem::C:\\Users\\W0111036\\OneDrive - Nova \n",
      "                          Scotia Community College\\NSCC\\Fall \n",
      "                          2024\\PROG1700\\PROG1700-2024-Lectures\\files\\emoji.ps1\n",
      "\u001b[32;1mOwner                   : \u001b[0mCAMPUS\\W0111036\n",
      "\u001b[32;1mGroup                   : \u001b[0mCAMPUS\\W0111036\n",
      "\u001b[32;1mAccess                  : \u001b[0m{System.Security.AccessControl.FileSystemAccessRule, \n",
      "                          System.Security.AccessControl.FileSystemAccessRule, \n",
      "                          System.Security.AccessControl.FileSystemAccessRule}\n",
      "\u001b[32;1mSddl                    : \u001b[0mO:S-1-12-1-1896719180-1112555656-2527592085-3740540719G:S-1-12-1-18967191\n",
      "                          80-1112555656-2527592085-3740540719D:AI(A;ID;FA;;;SY)(A;ID;FA;;;BA)(A;ID;\n",
      "                          FA;;;S-1-12-1-1896719180-1112555656-2527592085-3740540719)\n",
      "\u001b[32;1mAccessToString          : \u001b[0mNT AUTHORITY\\SYSTEM Allow  FullControl\n",
      "                          BUILTIN\\Administrators Allow  FullControl\n",
      "                          CAMPUS\\W0111036 Allow  FullControl\n",
      "\u001b[32;1mAuditToString           : \u001b[0m\n",
      "\n",
      "\n"
     ]
    }
   ],
   "source": [
    "# get information about files\n",
    "Get-Item .\\emoji.ps1\n",
    "Get-Acl .\\emoji.ps1"
   ]
  },
  {
   "cell_type": "code",
   "execution_count": 31,
   "metadata": {
    "dotnet_interactive": {
     "language": "pwsh"
    },
    "polyglot_notebook": {
     "kernelName": "pwsh"
    },
    "vscode": {
     "languageId": "polyglot-notebook"
    }
   },
   "outputs": [
    {
     "name": "stdout",
     "output_type": "stream",
     "text": [
      "\n",
      "    Directory: C:\\Users\\W0111036\\OneDrive - Nova Scotia Community College\\NSCC\\Fall \n",
      "2024\\PROG1700\\PROG1700-2024-Lectures\\files\n",
      "\n",
      "\u001b[32;1mMode   \u001b[0m\u001b[32;1m              LastWriteTime\u001b[0m\u001b[32;1m         Length\u001b[0m\u001b[32;1m Name\u001b[0m\n",
      "\u001b[32;1m----   \u001b[0m \u001b[32;1m             -------------\u001b[0m \u001b[32;1m        ------\u001b[0m \u001b[32;1m----\u001b[0m\n",
      "-a---          11/20/2024  9:56 AM              0 filename.txt\n",
      "\n"
     ]
    }
   ],
   "source": [
    "# creating new files and directories\n",
    "New-Item -Path filename.txt -ItemType File -Force"
   ]
  },
  {
   "cell_type": "code",
   "execution_count": 32,
   "metadata": {
    "dotnet_interactive": {
     "language": "pwsh"
    },
    "polyglot_notebook": {
     "kernelName": "pwsh"
    },
    "vscode": {
     "languageId": "polyglot-notebook"
    }
   },
   "outputs": [],
   "source": [
    "# renaming files/directories\n",
    "Rename-Item -Path .\\filename.txt -NewName renamed.txt"
   ]
  },
  {
   "cell_type": "code",
   "execution_count": 33,
   "metadata": {
    "dotnet_interactive": {
     "language": "pwsh"
    },
    "polyglot_notebook": {
     "kernelName": "pwsh"
    },
    "vscode": {
     "languageId": "polyglot-notebook"
    }
   },
   "outputs": [],
   "source": [
    "# deleting files\n",
    "Remove-Item renamed.txt"
   ]
  },
  {
   "cell_type": "code",
   "execution_count": null,
   "metadata": {
    "dotnet_interactive": {
     "language": "pwsh"
    },
    "polyglot_notebook": {
     "kernelName": "pwsh"
    },
    "vscode": {
     "languageId": "polyglot-notebook"
    }
   },
   "outputs": [],
   "source": [
    "# moving files\n",
    "Move-Item -Path .\\sample-file.ps1 .\\test-folder\\test.ps1"
   ]
  },
  {
   "cell_type": "code",
   "execution_count": 36,
   "metadata": {
    "dotnet_interactive": {
     "language": "pwsh"
    },
    "polyglot_notebook": {
     "kernelName": "pwsh"
    },
    "vscode": {
     "languageId": "polyglot-notebook"
    }
   },
   "outputs": [
    {
     "data": {
      "text/plain": []
     },
     "metadata": {},
     "output_type": "display_data"
    }
   ],
   "source": [
    "# copying files\n",
    "Copy-Item -Path .\\emoji.ps1 .\\test-folder"
   ]
  },
  {
   "cell_type": "code",
   "execution_count": 37,
   "metadata": {
    "dotnet_interactive": {
     "language": "pwsh"
    },
    "polyglot_notebook": {
     "kernelName": "pwsh"
    },
    "vscode": {
     "languageId": "polyglot-notebook"
    }
   },
   "outputs": [],
   "source": [
    "# invoke an item\n",
    "Invoke-Item .\\test-folder\\test.txt"
   ]
  },
  {
   "cell_type": "code",
   "execution_count": null,
   "metadata": {
    "dotnet_interactive": {
     "language": "csharp"
    },
    "polyglot_notebook": {
     "kernelName": "csharp"
    },
    "vscode": {
     "languageId": "polyglot-notebook"
    }
   },
   "outputs": [],
   "source": []
  }
 ],
 "metadata": {
  "kernelspec": {
   "display_name": ".NET (C#)",
   "language": "C#",
   "name": ".net-csharp"
  },
  "language_info": {
   "name": "python"
  },
  "polyglot_notebook": {
   "kernelInfo": {
    "defaultKernelName": "csharp",
    "items": [
     {
      "aliases": [],
      "name": "csharp"
     }
    ]
   }
  }
 },
 "nbformat": 4,
 "nbformat_minor": 2
}
