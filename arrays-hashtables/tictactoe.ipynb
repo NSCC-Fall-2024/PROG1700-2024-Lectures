{
 "cells": [
  {
   "cell_type": "code",
   "execution_count": 13,
   "metadata": {
    "dotnet_interactive": {
     "language": "pwsh"
    },
    "polyglot_notebook": {
     "kernelName": "pwsh"
    },
    "vscode": {
     "languageId": "polyglot-notebook"
    }
   },
   "outputs": [
    {
     "name": "stdout",
     "output_type": "stream",
     "text": [
      "  1   2   3\n",
      "1   |   |  \n",
      " ---+---+---\n",
      "2   |   |  \n",
      " ---+---+---\n",
      "3   |   |  \n",
      "  1   2   3\n",
      "1 X |   |  \n",
      " ---+---+---\n",
      "2   |   |  \n",
      " ---+---+---\n",
      "3   |   |  \n",
      "  1   2   3\n",
      "1 X |   |  \n",
      " ---+---+---\n",
      "2   | O |  \n",
      " ---+---+---\n",
      "3   |   |  \n",
      "  1   2   3\n",
      "1 X | X |  \n",
      " ---+---+---\n",
      "2   | O |  \n",
      " ---+---+---\n",
      "3   |   |  \n",
      "  1   2   3\n",
      "1 X | X |  \n",
      " ---+---+---\n",
      "2 O | O |  \n",
      " ---+---+---\n",
      "3   |   |  \n",
      "  1   2   3\n",
      "1 X | X | X\n",
      " ---+---+---\n",
      "2 O | O |  \n",
      " ---+---+---\n",
      "3   |   |  \n",
      "X WON!!!\n"
     ]
    }
   ],
   "source": [
    "# nested arrays or multidimensional\n",
    "$tictactoe = @(\n",
    "    @(' ', ' ', ' '), # row 1\n",
    "    @(' ', ' ', ' '), # row 2\n",
    "    @(' ', ' ', ' ')  # row 3\n",
    ")\n",
    "\n",
    "# draw grid\n",
    "\"  1   2   3\"\n",
    "$rows = @()\n",
    "for ($r=0; $r -lt $tictactoe.Length; $r++) {\n",
    "    $rows += \"$($r + 1) \" + ($tictactoe[$r] -join \" | \")\n",
    "}\n",
    "$rows -join \"`n ---+---+---`n\"\n",
    "\n",
    "# play game\n",
    "\n",
    "$players = \"X\", \"O\"\n",
    "\n",
    "$winner = \"\"\n",
    "while ($winner -eq \"\") {\n",
    "    foreach ($player in $players) {\n",
    "        # ask the user to enter a coordinate 1,2\n",
    "        $r, $c = (Read-Host \"Enter coordinate\") -split \",\"\n",
    "\n",
    "        # update board\n",
    "        $tictactoe[$r-1][$c-1] = $player\n",
    "\n",
    "        # draw grid\n",
    "        \"  1   2   3\"\n",
    "        $rows = @()\n",
    "        for ($r=0; $r -lt $tictactoe.Length; $r++) {\n",
    "            $rows += \"$($r + 1) \" + ($tictactoe[$r] -join \" | \")\n",
    "        }\n",
    "        $rows -join \"`n ---+---+---`n\"\n",
    "\n",
    "        # check for row winner\n",
    "        if ((($tictactoe[0][0] -eq $player) -and ($tictactoe[0][1] -eq $player) -and ($tictactoe[0][2] -eq $player)) -or\n",
    "            (($tictactoe[1][0] -eq $player) -and ($tictactoe[1][1] -eq $player) -and ($tictactoe[1][2] -eq $player)) -or\n",
    "            (($tictactoe[2][0] -eq $player) -and ($tictactoe[2][1] -eq $player) -and ($tictactoe[2][2] -eq $player))) {\n",
    "            $winner = $player\n",
    "        }\n",
    "\n",
    "        if ($winner) {\n",
    "            \"$player WON!!!\"\n",
    "            break\n",
    "        }\n",
    "    }\n",
    "}\n"
   ]
  },
  {
   "cell_type": "code",
   "execution_count": null,
   "metadata": {
    "dotnet_interactive": {
     "language": "csharp"
    },
    "polyglot_notebook": {
     "kernelName": "csharp"
    },
    "vscode": {
     "languageId": "polyglot-notebook"
    }
   },
   "outputs": [],
   "source": []
  }
 ],
 "metadata": {
  "kernelspec": {
   "display_name": ".NET (C#)",
   "language": "C#",
   "name": ".net-csharp"
  },
  "language_info": {
   "name": "python"
  },
  "polyglot_notebook": {
   "kernelInfo": {
    "defaultKernelName": "csharp",
    "items": [
     {
      "aliases": [],
      "name": "csharp"
     }
    ]
   }
  }
 },
 "nbformat": 4,
 "nbformat_minor": 2
}
