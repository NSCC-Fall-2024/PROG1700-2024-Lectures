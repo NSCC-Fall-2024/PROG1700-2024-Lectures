{
 "cells": [
  {
   "cell_type": "markdown",
   "metadata": {},
   "source": [
    "# Hash Tables"
   ]
  },
  {
   "cell_type": "code",
   "execution_count": 1,
   "metadata": {
    "dotnet_interactive": {
     "language": "pwsh"
    },
    "polyglot_notebook": {
     "kernelName": "pwsh"
    },
    "vscode": {
     "languageId": "polyglot-notebook"
    }
   },
   "outputs": [],
   "source": [
    "# declaring a hash table\n",
    "$fruitInventory = @{\n",
    "    apple = 12;\n",
    "    banana = 23;\n",
    "    orange = 45;\n",
    "    \"green apple\" = 10;\n",
    "}"
   ]
  },
  {
   "cell_type": "code",
   "execution_count": 2,
   "metadata": {
    "dotnet_interactive": {
     "language": "pwsh"
    },
    "polyglot_notebook": {
     "kernelName": "pwsh"
    },
    "vscode": {
     "languageId": "polyglot-notebook"
    }
   },
   "outputs": [],
   "source": [
    "# other ways to declare a hash table\n",
    "$empty = @{}\n"
   ]
  },
  {
   "cell_type": "code",
   "execution_count": 7,
   "metadata": {
    "dotnet_interactive": {
     "language": "pwsh"
    },
    "polyglot_notebook": {
     "kernelName": "pwsh"
    },
    "vscode": {
     "languageId": "polyglot-notebook"
    }
   },
   "outputs": [
    {
     "name": "stdout",
     "output_type": "stream",
     "text": [
      "13754380\n",
      "11338088\n",
      "50279788\n",
      "50279788\n",
      "\n",
      "\u001b[32;1mName                          \u001b[0m\u001b[32;1m Value\u001b[0m\n",
      "\u001b[32;1m----                          \u001b[0m \u001b[32;1m-----\u001b[0m\n",
      "a                              1\n",
      "c                              3\n",
      "b                              2\n",
      "d                              4\n",
      "\n"
     ]
    }
   ],
   "source": [
    "# are hash tables immutable, like arrays and strings?\n",
    "$array = 1, 2, 3, 4\n",
    "$array.GetHashCode()\n",
    "$array += 5\n",
    "$array.GetHashCode()\n",
    "\n",
    "# no!\n",
    "$hash = @{ a = 1; b = 2; c = 3; }\n",
    "$hash.GetHashCode()\n",
    "$hash['d'] = 4\n",
    "$hash.GetHashCode()\n",
    "$hash"
   ]
  },
  {
   "cell_type": "code",
   "execution_count": 16,
   "metadata": {
    "dotnet_interactive": {
     "language": "pwsh"
    },
    "polyglot_notebook": {
     "kernelName": "pwsh"
    },
    "vscode": {
     "languageId": "polyglot-notebook"
    }
   },
   "outputs": [
    {
     "name": "stdout",
     "output_type": "stream",
     "text": [
      "john@nscc.ca\n",
      "john@nscc.ca\n",
      "True\n",
      "sue@nscc.ca\n",
      "True\n",
      "\u001b[31;1mOperationStopped: \u001b[0m\n",
      "\u001b[31;1m\u001b[36;1mLine |\u001b[0m\n",
      "\u001b[31;1m\u001b[36;1m\u001b[36;1m  17 | \u001b[0m \u001b[36;1m$array[4] = 5\u001b[0m\n",
      "\u001b[31;1m\u001b[36;1m\u001b[36;1m\u001b[0m\u001b[36;1m\u001b[0m\u001b[36;1m     | \u001b[31;1m ~~~~~~~~~~~~~\u001b[0m\n",
      "\u001b[31;1m\u001b[36;1m\u001b[36;1m\u001b[0m\u001b[36;1m\u001b[0m\u001b[36;1m\u001b[31;1m\u001b[31;1m\u001b[36;1m     | \u001b[31;1mIndex was outside the bounds of the array.\u001b[0m\n"
     ]
    },
    {
     "ename": "Error",
     "evalue": "Command failed: SubmitCode: # accessing values in a hash tables ...",
     "output_type": "error",
     "traceback": [
      "Command failed: SubmitCode: # accessing values in a hash tables ..."
     ]
    }
   ],
   "source": [
    "# accessing values in a hash tables\n",
    "$emails = @{\n",
    "    john = \"john@nscc.ca\";\n",
    "    sally = \"sally@nscc.ca\";\n",
    "    jill = \"jill@nscc.ca\";\n",
    "    jack = \"jack@nscc.ca\";\n",
    "}\n",
    "$emails['john'] # by array notation using the key Name\n",
    "$emails.john # by dot notation (only works if key is a single word)\n",
    "\n",
    "$emails.sue -eq $null\n",
    "$emails.sue = \"sue@nscc.ca\"\n",
    "$emails.sue\n",
    "\n",
    "$array = 1, 2, 3, 4\n",
    "$array[4] -eq $null\n",
    "$array[4] = 5"
   ]
  },
  {
   "cell_type": "code",
   "execution_count": 19,
   "metadata": {
    "dotnet_interactive": {
     "language": "pwsh"
    },
    "polyglot_notebook": {
     "kernelName": "pwsh"
    },
    "vscode": {
     "languageId": "polyglot-notebook"
    }
   },
   "outputs": [
    {
     "name": "stdout",
     "output_type": "stream",
     "text": [
      "\n",
      "\u001b[32;1mName                          \u001b[0m\u001b[32;1m Value\u001b[0m\n",
      "\u001b[32;1m----                          \u001b[0m \u001b[32;1m-----\u001b[0m\n",
      "sue                            sue@nscc.ca\n",
      "sam                            sam@nscc.ca\n",
      "jack                           jack@nscc.ca\n",
      "jill                           jill@nscc.ca\n",
      "john                           john@nscc.ca\n",
      "sally                          sally@nscc.ca\n",
      "---\n",
      "sue                            sue@nscc.ca\n",
      "sam                            sam@nscc.ca\n",
      "jill                           jill@nscc.ca\n",
      "john                           john@nscc.ca\n",
      "sally                          sally@nscc.ca\n",
      "\n"
     ]
    }
   ],
   "source": [
    "# add / remove from the hash table\n",
    "$emails = @{\n",
    "    john = \"john@nscc.ca\";\n",
    "    sally = \"sally@nscc.ca\";\n",
    "    jill = \"jill@nscc.ca\";\n",
    "    jack = \"jack@nscc.ca\";\n",
    "}\n",
    "\n",
    "# adding\n",
    "$emails.sue = \"sue@nscc.ca\"\n",
    "$emails['sam'] = \"sam@nscc.ca\"\n",
    "$emails\n",
    "\"---\"\n",
    "# removing\n",
    "$emails.Remove('jack')\n",
    "$emails"
   ]
  },
  {
   "cell_type": "code",
   "execution_count": 23,
   "metadata": {
    "dotnet_interactive": {
     "language": "pwsh"
    },
    "polyglot_notebook": {
     "kernelName": "pwsh"
    },
    "vscode": {
     "languageId": "polyglot-notebook"
    }
   },
   "outputs": [
    {
     "name": "stdout",
     "output_type": "stream",
     "text": [
      "\n",
      "\u001b[32;1mName                          \u001b[0m\u001b[32;1m Value\u001b[0m\n",
      "\u001b[32;1m----                          \u001b[0m \u001b[32;1m-----\u001b[0m\n",
      "jack                           jack@nscc.ca\n",
      "john                           john@nscc.ca\n",
      "jill                           jill@nscc.ca\n",
      "sally                          sally@nscc.ca\n",
      "---\n",
      "john                           john@nscc.ca\n",
      "sally                          sally@nscc.ca\n",
      "jill                           jill@nscc.ca\n",
      "jack                           jack@nscc.ca\n",
      "\n"
     ]
    }
   ],
   "source": [
    "# hash tables are \"unordered\"\n",
    "$emails = @{\n",
    "    john = \"john@nscc.ca\";\n",
    "    sally = \"sally@nscc.ca\";\n",
    "    jill = \"jill@nscc.ca\";\n",
    "    jack = \"jack@nscc.ca\";\n",
    "}\n",
    "$emails\n",
    "\"---\"\n",
    "# dictionaries are \"ordered\"\n",
    "$emails = [ordered]@{\n",
    "    john = \"john@nscc.ca\";\n",
    "    sally = \"sally@nscc.ca\";\n",
    "    jill = \"jill@nscc.ca\";\n",
    "    jack = \"jack@nscc.ca\";\n",
    "}\n",
    "$emails"
   ]
  },
  {
   "cell_type": "code",
   "execution_count": 32,
   "metadata": {
    "dotnet_interactive": {
     "language": "pwsh"
    },
    "polyglot_notebook": {
     "kernelName": "pwsh"
    },
    "vscode": {
     "languageId": "polyglot-notebook"
    }
   },
   "outputs": [
    {
     "name": "stdout",
     "output_type": "stream",
     "text": [
      "123\n",
      "h\n",
      "l\n",
      "l\n",
      "o\n",
      "1\n",
      "1\n",
      "True\n"
     ]
    }
   ],
   "source": [
    "# what can be put in a hash tables\n",
    "$data = @{\n",
    "    number = 123;\n",
    "    string = \"hello\";\n",
    "    array = @(1, 2, 3, 4, 5);\n",
    "    \"long key\" = $true;\n",
    "    @(1, 2, 3) = \"???\";\n",
    "}\n",
    "$data['number']\n",
    "$data.string[0]\n",
    "$data['string'][2..4]\n",
    "$data.array[0]\n",
    "$data['array'][0]\n",
    "$data['long key']\n",
    "\n",
    "# can you use something other than strings for keys?\n",
    "$data[@(1,2,3)]\n",
    "# ....yes...sort of....sometimes.....don't do it!\n",
    "$key = @(1, 2, 3)\n",
    "$data[$key] = \"??!?!?\"\n",
    "$data[$key]"
   ]
  },
  {
   "cell_type": "code",
   "execution_count": null,
   "metadata": {
    "dotnet_interactive": {
     "language": "pwsh"
    },
    "polyglot_notebook": {
     "kernelName": "pwsh"
    },
    "vscode": {
     "languageId": "polyglot-notebook"
    }
   },
   "outputs": [
    {
     "name": "stdout",
     "output_type": "stream",
     "text": [
      "\n",
      "\u001b[32;1mIsPublic\u001b[0m \u001b[32;1;3mIsSerial\u001b[0m\u001b[32;1m Name                                    \u001b[0m\u001b[32;1m BaseType\u001b[0m\n",
      "\u001b[32;1m--------\u001b[0m \u001b[32;1m--------\u001b[0m \u001b[32;1m----                                    \u001b[0m \u001b[32;1m--------\u001b[0m\n",
      "True     True     Hashtable                                System.Object\n",
      "--\n",
      "jack@nscc.ca\n",
      "john@nscc.ca\n",
      "jill@nscc.ca\n",
      "sally@nscc.ca\n",
      "jack@nscc.ca\n",
      "john@nscc.ca\n",
      "jill@nscc.ca\n",
      "sally@nscc.ca\n",
      "jack ,  jack@nscc.ca\n",
      "john ,  john@nscc.ca\n",
      "jill ,  jill@nscc.ca\n",
      "sally ,  sally@nscc.ca\n",
      "\n"
     ]
    }
   ],
   "source": [
    "# iterating over entries in a hash table\n",
    "$emails = @{\n",
    "    john = \"john@nscc.ca\";\n",
    "    sally = \"sally@nscc.ca\";\n",
    "    jill = \"jill@nscc.ca\";\n",
    "    jack = \"jack@nscc.ca\";\n",
    "}\n",
    "\n",
    "# goes through all entries (unordered for hash tables)\n",
    "[string[]]$keys = $emails.Keys\n",
    "for ($i=0; $i -lt $keys.Count; $i++) {\n",
    "    $emails[$keys[$i]]\n",
    "}\n",
    "foreach ($k in $emails.Keys) {\n",
    "    $emails[$k]\n",
    "}\n",
    "\n",
    "foreach ($email in $emails.GetEnumerator()) {\n",
    "    Write-Host $email.Name \", \" $email.Value\n",
    "}"
   ]
  },
  {
   "cell_type": "code",
   "execution_count": 50,
   "metadata": {
    "dotnet_interactive": {
     "language": "pwsh"
    },
    "polyglot_notebook": {
     "kernelName": "pwsh"
    },
    "vscode": {
     "languageId": "polyglot-notebook"
    }
   },
   "outputs": [
    {
     "name": "stdout",
     "output_type": "stream",
     "text": [
      "\n",
      "\u001b[32;1mIsPublic\u001b[0m \u001b[32;1;3mIsSerial\u001b[0m\u001b[32;1m Name                                    \u001b[0m\u001b[32;1m BaseType\u001b[0m\n",
      "\u001b[32;1m--------\u001b[0m \u001b[32;1m--------\u001b[0m \u001b[32;1m----                                    \u001b[0m \u001b[32;1m--------\u001b[0m\n",
      "False    False    KeyCollection                            System.Object\n",
      "jack@nscc.ca\n",
      "jill@nscc.ca\n",
      "john@nscc.ca\n",
      "sally@nscc.ca\n",
      "--\n",
      "True     True     String[]                                 System.Array\n",
      "jack@nscc.ca\n",
      "jill@nscc.ca\n",
      "john@nscc.ca\n",
      "sally@nscc.ca\n",
      "\n"
     ]
    }
   ],
   "source": [
    "# sorting a hash table?\n",
    "$emails = @{\n",
    "    john = \"john@nscc.ca\";\n",
    "    sally = \"sally@nscc.ca\";\n",
    "    jill = \"jill@nscc.ca\";\n",
    "    jack = \"jack@nscc.ca\";\n",
    "}\n",
    "\n",
    "# if constructing a dictionary vs a hash table\n",
    "$ordered = [ordered]@{\n",
    "    jill = \"jill@nscc.ca\";\n",
    "    jack = \"jack@nscc.ca\";\n",
    "    john = \"john@nscc.ca\";\n",
    "    sally = \"sally@nscc.ca\";\n",
    "}\n",
    "\n",
    "# sort the Keys\n",
    "$keys = $emails.Keys\n",
    "$keys.GetType()\n",
    "\n",
    "$orderedKeys = $keys | sort\n",
    "foreach ($k in $orderedKeys) {\n",
    "    $emails[$k]\n",
    "}\n",
    "\"--\"\n",
    "$keys = [string[]]$keys\n",
    "[Array]::Sort($keys)\n",
    "$keys.GetType()\n",
    "foreach ($k in $keys) {\n",
    "    $emails[$k]\n",
    "}"
   ]
  },
  {
   "cell_type": "code",
   "execution_count": 54,
   "metadata": {
    "dotnet_interactive": {
     "language": "pwsh"
    },
    "polyglot_notebook": {
     "kernelName": "pwsh"
    },
    "vscode": {
     "languageId": "polyglot-notebook"
    }
   },
   "outputs": [
    {
     "name": "stdout",
     "output_type": "stream",
     "text": [
      "Name: john, ID: w123456\r\n"
     ]
    }
   ],
   "source": [
    "$student = @{ name = \"john\"; id = \"w123456\" }\n",
    "\"Name: $($student.name), ID: $($student['id'])\""
   ]
  },
  {
   "cell_type": "code",
   "execution_count": 57,
   "metadata": {
    "dotnet_interactive": {
     "language": "pwsh"
    },
    "polyglot_notebook": {
     "kernelName": "pwsh"
    },
    "vscode": {
     "languageId": "polyglot-notebook"
    }
   },
   "outputs": [
    {
     "name": "stdout",
     "output_type": "stream",
     "text": [
      "apple\n",
      "answer\n",
      "apple\n"
     ]
    }
   ],
   "source": [
    "# don't get tripped up in the assignment!!\n",
    "$hash = @{ 'a'='apple'; 'j'='jacks'; [char]'a' = 'answer'; }\n",
    "$hash['a'] # looks for a key that is a string with the value 'a'\n",
    "$hash[\"apple\"[0]] # looks for a key that is a char with the value 'a'\n",
    "$hash[[string]\"apple\"[0]] # converts the char into a string"
   ]
  },
  {
   "cell_type": "code",
   "execution_count": null,
   "metadata": {
    "dotnet_interactive": {
     "language": "csharp"
    },
    "polyglot_notebook": {
     "kernelName": "csharp"
    },
    "vscode": {
     "languageId": "polyglot-notebook"
    }
   },
   "outputs": [],
   "source": []
  }
 ],
 "metadata": {
  "kernelspec": {
   "display_name": ".NET (C#)",
   "language": "C#",
   "name": ".net-csharp"
  },
  "language_info": {
   "name": "python"
  },
  "polyglot_notebook": {
   "kernelInfo": {
    "defaultKernelName": "csharp",
    "items": [
     {
      "aliases": [],
      "name": "csharp"
     }
    ]
   }
  }
 },
 "nbformat": 4,
 "nbformat_minor": 2
}
