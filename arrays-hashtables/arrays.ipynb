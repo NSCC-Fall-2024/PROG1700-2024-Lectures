{
 "cells": [
  {
   "cell_type": "markdown",
   "metadata": {},
   "source": [
    "# Arrays"
   ]
  },
  {
   "cell_type": "code",
   "execution_count": 3,
   "metadata": {
    "dotnet_interactive": {
     "language": "pwsh"
    },
    "polyglot_notebook": {
     "kernelName": "pwsh"
    },
    "vscode": {
     "languageId": "polyglot-notebook"
    }
   },
   "outputs": [
    {
     "name": "stdout",
     "output_type": "stream",
     "text": [
      "john\n",
      "jacob\n",
      "jingle\n",
      "hymer\n",
      "schmitt\n",
      "john\n",
      "jacob\n",
      "jingle\n",
      "hymer\n",
      "schmitt\n"
     ]
    }
   ],
   "source": [
    "# Method 1: not using arrays\n",
    "$username1 = \"john\"\n",
    "$username2 = \"jacob\"\n",
    "$username3 = \"jingle\"\n",
    "$username4 = \"hymer\"\n",
    "$username5 = \"schmitt\"\n",
    "\n",
    "Write-Host $username1\n",
    "Write-Host $username2\n",
    "Write-Host $username3\n",
    "Write-Host $username4\n",
    "Write-Host $username5\n",
    "\n",
    "# can this be done in a loop??\n",
    "for ($i = 1; $i -le 5; $i++) {\n",
    "    Write-Host (Invoke-Expression('$username' + $i))\n",
    "}\n"
   ]
  },
  {
   "cell_type": "code",
   "execution_count": 5,
   "metadata": {
    "dotnet_interactive": {
     "language": "pwsh"
    },
    "polyglot_notebook": {
     "kernelName": "pwsh"
    },
    "vscode": {
     "languageId": "polyglot-notebook"
    }
   },
   "outputs": [
    {
     "name": "stdout",
     "output_type": "stream",
     "text": [
      "john jacob jingle hymer schmitt\n",
      "john\n",
      "jacob\n",
      "jingle\n",
      "hymer\n",
      "schmitt\n"
     ]
    }
   ],
   "source": [
    "# method 2 : using an array\n",
    "$usernames = \"john\", \"jacob\", \"jingle\", \"hymer\", \"schmitt\"\n",
    "# prints on all the same line\n",
    "Write-Host $usernames\n",
    "# prints on different lines\n",
    "Write-Output $usernames"
   ]
  },
  {
   "cell_type": "code",
   "execution_count": 6,
   "metadata": {
    "dotnet_interactive": {
     "language": "pwsh"
    },
    "polyglot_notebook": {
     "kernelName": "pwsh"
    },
    "vscode": {
     "languageId": "polyglot-notebook"
    }
   },
   "outputs": [
    {
     "name": "stdout",
     "output_type": "stream",
     "text": [
      "1\n",
      "bob\n",
      "3.14\n",
      "False\n"
     ]
    }
   ],
   "source": [
    "# arrays can contain any data type\n",
    "$array = 1, \"bob\", 3.14, $false\n",
    "$array"
   ]
  },
  {
   "cell_type": "code",
   "execution_count": 10,
   "metadata": {
    "dotnet_interactive": {
     "language": "pwsh"
    },
    "polyglot_notebook": {
     "kernelName": "pwsh"
    },
    "vscode": {
     "languageId": "polyglot-notebook"
    }
   },
   "outputs": [
    {
     "name": "stdout",
     "output_type": "stream",
     "text": [
      "Username:  john\n",
      "Username:  jacob\n",
      "Username:  jingle\n",
      "Username:  hymer\n",
      "Username:  schmitt\n"
     ]
    }
   ],
   "source": [
    "# using a loop to print one at a time\n",
    "for ($i = 0; $i -lt $usernames.Length; $i++) {\n",
    "    Write-Host \"Username: \" $usernames[$i]\n",
    "}"
   ]
  },
  {
   "cell_type": "code",
   "execution_count": 11,
   "metadata": {
    "dotnet_interactive": {
     "language": "pwsh"
    },
    "polyglot_notebook": {
     "kernelName": "pwsh"
    },
    "vscode": {
     "languageId": "polyglot-notebook"
    }
   },
   "outputs": [
    {
     "name": "stdout",
     "output_type": "stream",
     "text": [
      "jane\n",
      "jacob\n",
      "jingle\n",
      "hymer\n",
      "schmitt\n"
     ]
    }
   ],
   "source": [
    "# arrays are size immutable, but elements are mutable\n",
    "$usernames[0] = \"jane\"\n",
    "$usernames\n"
   ]
  },
  {
   "cell_type": "code",
   "execution_count": 12,
   "metadata": {
    "dotnet_interactive": {
     "language": "pwsh"
    },
    "polyglot_notebook": {
     "kernelName": "pwsh"
    },
    "vscode": {
     "languageId": "polyglot-notebook"
    }
   },
   "outputs": [
    {
     "name": "stdout",
     "output_type": "stream",
     "text": [
      "jane\n",
      "jacob\n",
      "jingle\n",
      "hymer\n",
      "schmitt\n",
      "zeus\n"
     ]
    }
   ],
   "source": [
    "# upsizing an array\n",
    "$usernames += \"zeus\"\n",
    "$usernames"
   ]
  },
  {
   "cell_type": "code",
   "execution_count": 15,
   "metadata": {
    "dotnet_interactive": {
     "language": "pwsh"
    },
    "polyglot_notebook": {
     "kernelName": "pwsh"
    },
    "vscode": {
     "languageId": "polyglot-notebook"
    }
   },
   "outputs": [
    {
     "name": "stdout",
     "output_type": "stream",
     "text": [
      "4481254\n",
      "4481254\n",
      "48253866\n"
     ]
    }
   ],
   "source": [
    "# prove that arrays are immutable\n",
    "$usernames.GetHashCode()\n",
    "$usernames[0] = \"john\"\n",
    "$usernames.GetHashCode()\n",
    "$usernames += \"apollo\"\n",
    "$usernames.GetHashCode()\n",
    "\n"
   ]
  },
  {
   "cell_type": "code",
   "execution_count": 19,
   "metadata": {
    "dotnet_interactive": {
     "language": "pwsh"
    },
    "polyglot_notebook": {
     "kernelName": "pwsh"
    },
    "vscode": {
     "languageId": "polyglot-notebook"
    }
   },
   "outputs": [
    {
     "name": "stdout",
     "output_type": "stream",
     "text": [
      "Banana\r\n"
     ]
    }
   ],
   "source": [
    "# creating more arrays\n",
    "$fruit = \"Apple\", \"Banana\"    # most common way\n",
    "$fruit = @(\"Apple\", \"Banana\") # \"official\" way to create an array\n",
    "$fruit = @(\"Apple\") # array with one element\n",
    "$fruit = ,\"Apple\" # array with one element\n",
    "$fruit = @() # array with no elements\n",
    "$fruit += \"Banana\"\n",
    "$fruit"
   ]
  },
  {
   "cell_type": "code",
   "execution_count": 40,
   "metadata": {
    "dotnet_interactive": {
     "language": "pwsh"
    },
    "polyglot_notebook": {
     "kernelName": "pwsh"
    },
    "vscode": {
     "languageId": "polyglot-notebook"
    }
   },
   "outputs": [
    {
     "name": "stdout",
     "output_type": "stream",
     "text": [
      "0 0 0 0 0 0 0 0 0 0 0 0 0 0 0 0 0 0 0 0 0 0 0 0 0 0 0 0 0 0\n",
      "0 0 0 0 0 0 0 0 0 0 0 0 0 0 0 0 0 0 0 0 0 0 0 0 0 0 0 0 0 0\n",
      "1 2 3 4 5 6 7 8 9 10\n",
      "1 2 3 6 7 8 9 10\n",
      "1 3 5 7 9 10 11 12 13 14 15 16 17 18\n",
      "0 -1 -2 -3 -4 -5\n",
      "-5 -4 -3 -2 -1 1 2 3 4 5\n",
      "5 4 3 2 1 0 -1 -2 -3 -4 -5\n"
     ]
    }
   ],
   "source": [
    "# other less common ways to create arrays\n",
    "$zeroes = @(0) * 30\n",
    "Write-Host $zeroes\n",
    "$zeroes = [int[]]::new(30)\n",
    "Write-Host $zeroes\n",
    "[int[]]$numbers = 1..10\n",
    "Write-Host $numbers\n",
    "[int[]]$numbers = 1..3 + 6..10\n",
    "Write-Host $numbers\n",
    "[int[]]$numbers = 1,3,5,7,9 + 10..15 + 16,17,18\n",
    "Write-Host $numbers\n",
    "[int[]]$numbers = 0..-5\n",
    "Write-Host $numbers\n",
    "[int[]]$numbers = -5..-1 + 1..5\n",
    "Write-Host $numbers\n",
    "[int[]]$numbers = 5..-5\n",
    "Write-Host $numbers\n"
   ]
  },
  {
   "cell_type": "code",
   "execution_count": 51,
   "metadata": {
    "dotnet_interactive": {
     "language": "pwsh"
    },
    "polyglot_notebook": {
     "kernelName": "pwsh"
    },
    "vscode": {
     "languageId": "polyglot-notebook"
    }
   },
   "outputs": [
    {
     "name": "stdout",
     "output_type": "stream",
     "text": [
      "11 12 13 14 15 16 17 18 19 20 21\n",
      "2 3 4 7 8 9 10 11\n",
      "100 99 98 97 96\n",
      "6 5 4 3 2 1 100 99 98 97 96\n",
      "2 3 5 6 7 8 10 11\n"
     ]
    }
   ],
   "source": [
    "# accessing arrays using ranges\n",
    "[int[]]$numbers = 1..100\n",
    "Write-Host $numbers[10..20]\n",
    "Write-Host $numbers[1..3 + 6..10]\n",
    "Write-Host $numbers[-1..-5]\n",
    "Write-Host $numbers[5..-5]\n",
    "Write-Host $numbers[1,2,4+5..7+9..10]\n"
   ]
  },
  {
   "cell_type": "code",
   "execution_count": 57,
   "metadata": {
    "dotnet_interactive": {
     "language": "pwsh"
    },
    "polyglot_notebook": {
     "kernelName": "pwsh"
    },
    "vscode": {
     "languageId": "polyglot-notebook"
    }
   },
   "outputs": [
    {
     "name": "stdout",
     "output_type": "stream",
     "text": [
      "Fruit: apple\n",
      "Fruit: banana\n",
      "Fruit: orange\n",
      "Fruit: watermelon\n",
      "apple\n",
      "banana\n",
      "orange\n",
      "watermelon\n",
      "apple\n",
      "banana\n",
      "orange\n",
      "watermelon\n",
      "apple\n",
      "banana\n",
      "orange\n",
      "watermelon\n"
     ]
    }
   ],
   "source": [
    "# iterating over elements\n",
    "[int[]]$numbers = 1..100\n",
    "\n",
    "# regular for.loop (or any standard loop)\n",
    "for ($i=0; $i -lt $numbers.Length; $i++) {\n",
    "    #Write-Host $numbers[$i] \",\" -NoNewline\n",
    "}\n",
    "\n",
    "# for each loop\n",
    "$fruit = \"apple\", \"banana\", \"orange\", \"watermelon\"\n",
    "foreach ($f in $fruit) { # most common version\n",
    "    Write-Host \"Fruit: $f\"\n",
    "}\n",
    "$fruit.ForEach({ Write-Host $_ })\n",
    "$fruit | ForEach-Object { Write-Host $PSItem }\n",
    "$fruit | % { $_ }\n"
   ]
  },
  {
   "cell_type": "code",
   "execution_count": 67,
   "metadata": {
    "dotnet_interactive": {
     "language": "pwsh"
    },
    "polyglot_notebook": {
     "kernelName": "pwsh"
    },
    "vscode": {
     "languageId": "polyglot-notebook"
    }
   },
   "outputs": [
    {
     "name": "stdout",
     "output_type": "stream",
     "text": [
      "apple\n",
      "blueberry\n",
      "orange\n",
      "watermelon\n",
      "2\n"
     ]
    }
   ],
   "source": [
    "# manipulating arrays\n",
    "\n",
    "$fruit = \"apple\", \"banana\", \"orange\", \"watermelon\"\n",
    "\n",
    "# adding elements to end of array\n",
    "$fruit += \"canteloupe\"\n",
    "\n",
    "# add element to the beginning of an arrays\n",
    "$fruit = ,\"strawberry\" + $fruit\n",
    "\n",
    "# add in the middle of an array\n",
    "$fruit = $fruit[0..1] + \"blueberry\" + $fruit[2..($fruit.Length - 1)]\n",
    "\n",
    "# remove from end of array\n",
    "$fruit = $fruit[0..($fruit.Length - 2)]\n",
    "\n",
    "# remove the beginning of the array\n",
    "$fruit = $fruit[1..($fruit.Length - 1)]\n",
    "\n",
    "# remove from the middle of the array\n",
    "$fruit = $fruit[0,1+3..($fruit.Length - 1)]\n",
    "$fruit\n",
    "\n",
    "# find index of element\n",
    "[Array]::IndexOf($fruit, 'orange')"
   ]
  },
  {
   "cell_type": "code",
   "execution_count": 74,
   "metadata": {
    "dotnet_interactive": {
     "language": "pwsh"
    },
    "polyglot_notebook": {
     "kernelName": "pwsh"
    },
    "vscode": {
     "languageId": "polyglot-notebook"
    }
   },
   "outputs": [
    {
     "name": "stdout",
     "output_type": "stream",
     "text": [
      "X |O |X |\n",
      "--|--|--\n",
      "O |X |O |\n",
      "--|--|--\n",
      "X |O |X |\n",
      "--|--|--\n",
      "\n",
      "X |O |X |\n",
      "--|--|--\n",
      "O |O |O |\n",
      "--|--|--\n",
      "X |O |X |\n",
      "--|--|--\n"
     ]
    }
   ],
   "source": [
    "# nested arrays or multidimensional\n",
    "$tictactoe = @(\n",
    "    @('X', 'O', 'X'), # row 1\n",
    "    @('O', 'X', 'O'), # row 2\n",
    "    @('X', 'O', 'X')  # row 3\n",
    ")\n",
    "\n",
    "# loop through the outer array (1st dimension)\n",
    "foreach ($row in $tictactoe) {\n",
    "    foreach ($col in $row) {\n",
    "        Write-Host \"$col |\" -NoNewline\n",
    "    }\n",
    "    Write-Host \"`n--|--|--\"\n",
    "}\n",
    "\n",
    "# simulate a change in the grid\n",
    "$tictactoe[1][1] = \"O\"\n",
    "Write-Host\n",
    "foreach ($row in $tictactoe) {\n",
    "    foreach ($col in $row) {\n",
    "        Write-Host \"$col |\" -NoNewline\n",
    "    }\n",
    "    Write-Host \"`n--|--|--\"\n",
    "}\n"
   ]
  },
  {
   "cell_type": "code",
   "execution_count": 10,
   "metadata": {
    "dotnet_interactive": {
     "language": "pwsh"
    },
    "polyglot_notebook": {
     "kernelName": "pwsh"
    },
    "vscode": {
     "languageId": "polyglot-notebook"
    }
   },
   "outputs": [
    {
     "name": "stdout",
     "output_type": "stream",
     "text": [
      "10\n",
      "20\n",
      "30\n",
      "1\n",
      "2\n",
      "3\n",
      "---\n",
      "1\n",
      "2\n",
      "3 4 5 6 7 8 10\n"
     ]
    }
   ],
   "source": [
    "# array destructuring\n",
    "$nums = 10, 20, 30\n",
    "$num1 = $nums[0]\n",
    "$num2 = $nums[1]\n",
    "$num3 = $nums[2]\n",
    "$num1, $num2, $num3 = $nums\n",
    "\n",
    "$num1, $num2, $num3\n",
    "\n",
    "$a, $b, $c = 1, 2, 3\n",
    "$a, $b, $c\n",
    "Write-Host \"---\"\n",
    "$a, $b, $c = 1, 2, 3, 4, 5, 6, 7, 8, 10\n",
    "Write-Host $a\n",
    "Write-Host $b\n",
    "Write-Host $c\n",
    "\n"
   ]
  },
  {
   "cell_type": "code",
   "execution_count": 16,
   "metadata": {
    "dotnet_interactive": {
     "language": "pwsh"
    },
    "polyglot_notebook": {
     "kernelName": "pwsh"
    },
    "vscode": {
     "languageId": "polyglot-notebook"
    }
   },
   "outputs": [
    {
     "name": "stdout",
     "output_type": "stream",
     "text": [
      "10\n",
      "8\n",
      "6\n",
      "4\n",
      "2\n",
      "10 8 6 4 2\n",
      "10 8 6 4 2\n"
     ]
    }
   ],
   "source": [
    "$even_nums = 2, 4, 6, 8, 10\n",
    "\n",
    "# reverse the array?\n",
    "\n",
    "# displays in reverse\n",
    "for ($i=$even_nums.Length - 1; $i -ge 0; $i--) {\n",
    "    $even_nums[$i]\n",
    "}\n",
    "\n",
    "# creates a new variable with the reversed values\n",
    "$reversed = $even_nums[-1..-($even_nums.Length)]\n",
    "Write-Host $reversed\n",
    "\n",
    "# reverse the original array\n",
    "[Array]::Reverse($even_nums)\n",
    "Write-Host $even_nums"
   ]
  },
  {
   "cell_type": "code",
   "execution_count": 22,
   "metadata": {
    "dotnet_interactive": {
     "language": "pwsh"
    },
    "polyglot_notebook": {
     "kernelName": "pwsh"
    },
    "vscode": {
     "languageId": "polyglot-notebook"
    }
   },
   "outputs": [
    {
     "name": "stdout",
     "output_type": "stream",
     "text": [
      "1 2 4 5 6 7 9 10 11\n",
      "1 2 4 5 6 7 9 10 11\n"
     ]
    }
   ],
   "source": [
    "$random_data = 4, 6, 1, 2, 5, 7, 9, 10, 11\n",
    "\n",
    "# sort the data\n",
    "\n",
    "# produces a sorted array (doesn't modify the original one)\n",
    "$sorted = $random_data | Sort-Object\n",
    "Write-Host $sorted\n",
    "\n",
    "# sort the original Array\n",
    "[Array]::Sort($random_data)\n",
    "Write-Host $random_data\n"
   ]
  },
  {
   "cell_type": "code",
   "execution_count": 31,
   "metadata": {
    "dotnet_interactive": {
     "language": "pwsh"
    },
    "polyglot_notebook": {
     "kernelName": "pwsh"
    },
    "vscode": {
     "languageId": "polyglot-notebook"
    }
   },
   "outputs": [
    {
     "name": "stdout",
     "output_type": "stream",
     "text": [
      "True\n",
      "False\n",
      "True\n",
      "False\n",
      "False\n"
     ]
    }
   ],
   "source": [
    "$letters = 'a'..'z'\n",
    "\n",
    "# check whether the letter 'x' exists in the alphabet\n",
    "\n",
    "$letters -contains 'x'\n",
    "$letters -notcontains 'x'\n",
    "\n",
    "'x' -in $letters\n",
    "'x' -notin $letters\n",
    "\n",
    "# can you locate data types with this method??\n",
    "$nums = 1, 'a', 3, 'c'\n",
    "[int] -in $nums"
   ]
  },
  {
   "cell_type": "code",
   "execution_count": 36,
   "metadata": {
    "dotnet_interactive": {
     "language": "pwsh"
    },
    "polyglot_notebook": {
     "kernelName": "pwsh"
    },
    "vscode": {
     "languageId": "polyglot-notebook"
    }
   },
   "outputs": [
    {
     "name": "stdout",
     "output_type": "stream",
     "text": [
      "1 2 3 4 5 6 7\n",
      "1\n",
      "1\n",
      "2\n",
      "3\n",
      "4\n",
      "4\n",
      "4\n",
      "5\n",
      "5\n",
      "6\n",
      "6\n",
      "6\n",
      "6\n",
      "7\n",
      "7\n"
     ]
    }
   ],
   "source": [
    "$duplicates = 1, 1, 2, 3, 4, 4, 4, 5, 5, 6, 6, 6, 6, 7, 7\n",
    "\n",
    "# get unique elements\n",
    "$uniques = $duplicates | unique\n",
    "Write-Host $uniques\n",
    "\n",
    "# find element of one array in another array\n",
    "foreach ($d in $duplicates) {\n",
    "    $exists = $false\n",
    "    foreach ($u in $unique) {\n",
    "        if ($d -eq $u) {\n",
    "            $exists = $true\n",
    "        }\n",
    "    }\n",
    "    if (-not $exists) {\n",
    "        $d\n",
    "    }\n",
    "}"
   ]
  },
  {
   "cell_type": "code",
   "execution_count": 44,
   "metadata": {
    "dotnet_interactive": {
     "language": "pwsh"
    },
    "polyglot_notebook": {
     "kernelName": "pwsh"
    },
    "vscode": {
     "languageId": "polyglot-notebook"
    }
   },
   "outputs": [
    {
     "name": "stdout",
     "output_type": "stream",
     "text": [
      "Calendar2023 - SMN v2.pdf\n",
      "assignment-1-bshewan-1\n"
     ]
    }
   ],
   "source": [
    "# useful\n",
    "\n",
    "$files = Get-ChildItem ..\\.. -File -Name\n",
    "$files[0]\n",
    "\n",
    "$folders = Get-ChildItem ..\\.. -Directory -Name\n",
    "$folders[0]"
   ]
  },
  {
   "cell_type": "code",
   "execution_count": null,
   "metadata": {
    "vscode": {
     "languageId": "polyglot-notebook"
    }
   },
   "outputs": [],
   "source": []
  }
 ],
 "metadata": {
  "kernelspec": {
   "display_name": ".NET (C#)",
   "language": "C#",
   "name": ".net-csharp"
  },
  "language_info": {
   "name": "python"
  },
  "polyglot_notebook": {
   "kernelInfo": {
    "defaultKernelName": "csharp",
    "items": [
     {
      "aliases": [],
      "name": "csharp"
     }
    ]
   }
  }
 },
 "nbformat": 4,
 "nbformat_minor": 2
}
