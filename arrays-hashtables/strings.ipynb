{
 "cells": [
  {
   "cell_type": "markdown",
   "metadata": {},
   "source": [
    "# Strings"
   ]
  },
  {
   "cell_type": "code",
   "execution_count": 6,
   "metadata": {
    "dotnet_interactive": {
     "language": "pwsh"
    },
    "polyglot_notebook": {
     "kernelName": "pwsh"
    },
    "vscode": {
     "languageId": "polyglot-notebook"
    }
   },
   "outputs": [
    {
     "name": "stdout",
     "output_type": "stream",
     "text": [
      "\n",
      "\u001b[32;1mIsPublic\u001b[0m \u001b[32;1;3mIsSerial\u001b[0m\u001b[32;1m Name                                    \u001b[0m\u001b[32;1m BaseType\u001b[0m\n",
      "\u001b[32;1m--------\u001b[0m \u001b[32;1m--------\u001b[0m \u001b[32;1m----                                    \u001b[0m \u001b[32;1m--------\u001b[0m\n",
      "True     True     Object[]                                 System.Array\n",
      "True     True     Char                                     System.ValueType\n",
      "\n"
     ]
    }
   ],
   "source": [
    "# Strings are like arrays\n",
    "\n",
    "$str = \"apple\"\n",
    "#$str.GetType()\n",
    "$ary = $str[0..1]\n",
    "# produces an array of \"char\"s\n",
    "$ary.GetType()\n",
    "# a \"char\" is another data type\n",
    "$ary[0].GetType()"
   ]
  },
  {
   "cell_type": "code",
   "execution_count": 9,
   "metadata": {
    "dotnet_interactive": {
     "language": "pwsh"
    },
    "polyglot_notebook": {
     "kernelName": "pwsh"
    },
    "vscode": {
     "languageId": "polyglot-notebook"
    }
   },
   "outputs": [
    {
     "name": "stdout",
     "output_type": "stream",
     "text": [
      "\n",
      "\u001b[32;1mIsPublic\u001b[0m \u001b[32;1;3mIsSerial\u001b[0m\u001b[32;1m Name                                    \u001b[0m\u001b[32;1m BaseType\u001b[0m\n",
      "\u001b[32;1m--------\u001b[0m \u001b[32;1m--------\u001b[0m \u001b[32;1m----                                    \u001b[0m \u001b[32;1m--------\u001b[0m\n",
      "True     True     String                                   System.Object\n",
      "True     True     Char                                     System.ValueType\n",
      "\n"
     ]
    }
   ],
   "source": [
    "\"a\".GetType()\n",
    "([char]\"a\").GetType()"
   ]
  },
  {
   "cell_type": "code",
   "execution_count": 16,
   "metadata": {
    "dotnet_interactive": {
     "language": "pwsh"
    },
    "polyglot_notebook": {
     "kernelName": "pwsh"
    },
    "vscode": {
     "languageId": "polyglot-notebook"
    }
   },
   "outputs": [
    {
     "name": "stdout",
     "output_type": "stream",
     "text": [
      "a,p,p,l,e,apple\n",
      "a\n",
      "p\n",
      "p\n",
      "l\n",
      "e\n",
      "\n",
      "\u001b[32;1mIsPublic\u001b[0m \u001b[32;1;3mIsSerial\u001b[0m\u001b[32;1m Name                                    \u001b[0m\u001b[32;1m BaseType\u001b[0m\n",
      "\u001b[32;1m--------\u001b[0m \u001b[32;1m--------\u001b[0m \u001b[32;1m----                                    \u001b[0m \u001b[32;1m--------\u001b[0m\n",
      "True     True     Int32[]                                  System.Array\n",
      "\n"
     ]
    }
   ],
   "source": [
    "# iterating through the characters of a Strings\n",
    "\n",
    "$str = \"apple\"\n",
    "\n",
    "# regular loop\n",
    "for ($i=0; $i -lt $str.Length; $i++) {\n",
    "    Write-Host \"$($str[$i]),\" -NoNewline\n",
    "}\n",
    "\n",
    "# foreach loop\n",
    "foreach ($ch in $str) {\n",
    "    $ch # this DOESN'T work and just outputs the string in one iteration\n",
    "}\n",
    "foreach ($ch in $str.ToCharArray()) {\n",
    "    $ch # this is the approach to take\n",
    "}\n",
    "\n",
    "$nums = '1','2','3'\n",
    "$real_nums = [int[]]$nums\n",
    "$real_nums.GetType()"
   ]
  },
  {
   "cell_type": "code",
   "execution_count": 31,
   "metadata": {
    "dotnet_interactive": {
     "language": "pwsh"
    },
    "polyglot_notebook": {
     "kernelName": "pwsh"
    },
    "vscode": {
     "languageId": "polyglot-notebook"
    }
   },
   "outputs": [
    {
     "name": "stdout",
     "output_type": "stream",
     "text": [
      "h,e,l,l,o\n",
      "h e l l o\n",
      "h:e:l:l:o\n",
      "hello\n",
      "h\n",
      "e\n",
      "l\n",
      "l\n",
      "o\n",
      "h e l l o\n",
      "h,e,l,l,o\n",
      "h,e,l,l,o\n",
      "h e l l o\n"
     ]
    }
   ],
   "source": [
    "# converting arrays to strings\n",
    "$letters = \"h\", \"e\", \"l\", \"l\", \"o\"\n",
    "\n",
    "# join the array\n",
    "$commas = $letters -join ','\n",
    "$commas\n",
    "$spaces = $letters -join ' '\n",
    "$spaces\n",
    "$colons = $letters -join ':'\n",
    "$colons\n",
    "$word = $letters -join ''\n",
    "$word\n",
    "$letters\n",
    "\n",
    "[String]::Join(' ', $letters)\n",
    "\n",
    "[string]$letters\n",
    "\n",
    "$OFS = ',' # output field separator\n",
    "[string]$letters\n",
    "\n",
    "$OFS = ' '\n",
    "$letters | Join-String"
   ]
  },
  {
   "cell_type": "code",
   "execution_count": 43,
   "metadata": {
    "dotnet_interactive": {
     "language": "pwsh"
    },
    "polyglot_notebook": {
     "kernelName": "pwsh"
    },
    "vscode": {
     "languageId": "polyglot-notebook"
    }
   },
   "outputs": [
    {
     "name": "stdout",
     "output_type": "stream",
     "text": [
      "h , e , l , l , o\n",
      "h e l l o\n",
      "John\n",
      "Smith\n",
      "a\n",
      "b\n",
      "hello\n",
      "world\n",
      "1\n",
      "2\n",
      "3\n",
      "4\n",
      "5\n"
     ]
    }
   ],
   "source": [
    "# converting strings into arrays\n",
    "\n",
    "$str = \"h,e,l,l,o\"\n",
    "\n",
    "Write-Host $str.ToCharArray()\n",
    "\n",
    "Write-Host ($str -split ',')\n",
    "\n",
    "$str = \"John Smith\"\n",
    "$first, $last = $str -split ' '\n",
    "$first, $last\n",
    "\n",
    "$letters = \"a,b,c,d,e,f,g,h,i,j,k,l,m,n,o,p,q,r,s,t,u,v,w,x,y,z\"\n",
    "$a, $b, $remaining = $letters -split ',',3\n",
    "$a, $b\n",
    "\n",
    "\"hello world\".Split()\n",
    "\"1,2,3,4,5\".Split(',')"
   ]
  },
  {
   "cell_type": "code",
   "execution_count": 61,
   "metadata": {
    "dotnet_interactive": {
     "language": "pwsh"
    },
    "polyglot_notebook": {
     "kernelName": "pwsh"
    },
    "vscode": {
     "languageId": "polyglot-notebook"
    }
   },
   "outputs": [
    {
     "name": "stdout",
     "output_type": "stream",
     "text": [
      "5\n",
      "HELLO\n",
      "hello\n",
      "\n",
      "\u001b[32;1mIsPublic\u001b[0m \u001b[32;1;3mIsSerial\u001b[0m\u001b[32;1m Name                                    \u001b[0m\u001b[32;1m BaseType\u001b[0m\n",
      "\u001b[32;1m--------\u001b[0m \u001b[32;1m--------\u001b[0m \u001b[32;1m----                                    \u001b[0m \u001b[32;1m--------\u001b[0m\n",
      "True     True     Char                                     System.ValueType\n",
      "True     True     String                                   System.Object\n",
      "H\n",
      "H\n",
      "H\n",
      "h\n",
      "True\n",
      "\n"
     ]
    }
   ],
   "source": [
    "# misc string functions\n",
    "\"hello\".Length\n",
    "\"hello\".ToUpper()\n",
    "\"HELLO\".ToLower()\n",
    "\n",
    "(\"hello\"[0]).GetType()\n",
    "\n",
    "(\"hello\".Substring(0,4)).GetType()\n",
    "\n",
    "$firstLetter = [string]\"hello\"[0]\n",
    "$firstLetter.ToUpper()\n",
    "\n",
    "\"hello\".Substring(0,1).ToUpper()\n",
    "\n",
    "[Char]::ToUpper(\"hello\"[0])\n",
    "[Char]::ToLower(\"HELLO\"[0])\n",
    "[Char]::IsLetter(\"Hello\"[0])"
   ]
  },
  {
   "cell_type": "code",
   "execution_count": null,
   "metadata": {
    "vscode": {
     "languageId": "polyglot-notebook"
    }
   },
   "outputs": [],
   "source": []
  }
 ],
 "metadata": {
  "kernelspec": {
   "display_name": ".NET (C#)",
   "language": "C#",
   "name": ".net-csharp"
  },
  "language_info": {
   "name": "python"
  },
  "polyglot_notebook": {
   "kernelInfo": {
    "defaultKernelName": "csharp",
    "items": [
     {
      "aliases": [],
      "name": "csharp"
     }
    ]
   }
  }
 },
 "nbformat": 4,
 "nbformat_minor": 2
}
