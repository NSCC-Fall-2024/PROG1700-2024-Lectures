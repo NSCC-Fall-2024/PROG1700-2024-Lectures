{
    "cells": [
        {
            "cell_type": "code",
            "execution_count": 1,
            "metadata": {
                "dotnet_interactive": {
                    "language": "pwsh"
                },
                "polyglot_notebook": {
                    "kernelName": "pwsh"
                },
                "vscode": {
                    "languageId": "polyglot-notebook"
                }
            },
            "outputs": [
                {
                    "name": "stdout",
                    "output_type": "stream",
                    "text": [
                        "Hello World!\r\n"
                    ]
                }
            ],
            "source": [
                "Write-Host \"Hello World!\""
            ]
        },
        {
            "cell_type": "code",
            "execution_count": 2,
            "metadata": {
                "dotnet_interactive": {
                    "language": "pwsh"
                },
                "polyglot_notebook": {
                    "kernelName": "pwsh"
                },
                "vscode": {
                    "languageId": "polyglot-notebook"
                }
            },
            "outputs": [
                {
                    "name": "stdout",
                    "output_type": "stream",
                    "text": [
                        "Some text to display\r\n"
                    ]
                }
            ],
            "source": [
                "# the standard way to output text to the console\n",
                "Write-Host \"Some text to display\""
            ]
        },
        {
            "cell_type": "code",
            "execution_count": 3,
            "metadata": {
                "dotnet_interactive": {
                    "language": "pwsh"
                },
                "polyglot_notebook": {
                    "kernelName": "pwsh"
                },
                "vscode": {
                    "languageId": "polyglot-notebook"
                }
            },
            "outputs": [
                {
                    "name": "stdout",
                    "output_type": "stream",
                    "text": [
                        "2\r\n"
                    ]
                }
            ],
            "source": [
                "# simple math using Write-Host\n",
                "Write-Host (1 + 1)"
            ]
        },
        {
            "cell_type": "code",
            "execution_count": 5,
            "metadata": {
                "dotnet_interactive": {
                    "language": "pwsh"
                },
                "polyglot_notebook": {
                    "kernelName": "pwsh"
                },
                "vscode": {
                    "languageId": "polyglot-notebook"
                }
            },
            "outputs": [
                {
                    "name": "stdout",
                    "output_type": "stream",
                    "text": [
                        "1 + 1 = 2\r\n"
                    ]
                }
            ],
            "source": [
                "# combine text and math\n",
                "Write-Host \"1 + 1 =\" (1 + 1)"
            ]
        },
        {
            "cell_type": "code",
            "execution_count": 1,
            "metadata": {
                "dotnet_interactive": {
                    "language": "pwsh"
                },
                "polyglot_notebook": {
                    "kernelName": "pwsh"
                },
                "vscode": {
                    "languageId": "polyglot-notebook"
                }
            },
            "outputs": [
                {
                    "name": "stdout",
                    "output_type": "stream",
                    "text": [
                        "\u001b[92mFancy!\u001b[0m\r\n"
                    ]
                }
            ],
            "source": [
                "# fancy colours\n",
                "Write-Host \"Fancy!\" -ForegroundColor Green"
            ]
        },
        {
            "cell_type": "code",
            "execution_count": null,
            "metadata": {
                "vscode": {
                    "languageId": "polyglot-notebook"
                }
            },
            "outputs": [],
            "source": []
        }
    ],
    "metadata": {
        "kernelspec": {
            "display_name": ".NET (PowerShell)",
            "language": "PowerShell",
            "name": ".net-pwsh"
        },
        "language_info": {
            "name": "python"
        },
        "polyglot_notebook": {
            "kernelInfo": {
                "defaultKernelName": "pwsh",
                "items": [
                    {
                        "aliases": [],
                        "name": "pwsh"
                    }
                ]
            }
        }
    },
    "nbformat": 4,
    "nbformat_minor": 2
}
