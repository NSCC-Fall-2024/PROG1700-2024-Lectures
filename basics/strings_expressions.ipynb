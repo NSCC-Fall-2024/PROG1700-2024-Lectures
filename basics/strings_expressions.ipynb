{
 "cells": [
  {
   "cell_type": "markdown",
   "metadata": {},
   "source": [
    "# Strings, Data Types and Expressions\n",
    "Examples of creating and using strings, what data types are and mathematical expressions"
   ]
  },
  {
   "cell_type": "code",
   "execution_count": 3,
   "metadata": {
    "dotnet_interactive": {
     "language": "pwsh"
    },
    "polyglot_notebook": {
     "kernelName": "pwsh"
    },
    "vscode": {
     "languageId": "polyglot-notebook"
    }
   },
   "outputs": [],
   "source": [
    "# an example of a simple string\n",
    "$name = \"John Smith\""
   ]
  },
  {
   "cell_type": "code",
   "execution_count": 12,
   "metadata": {
    "dotnet_interactive": {
     "language": "pwsh"
    },
    "polyglot_notebook": {
     "kernelName": "pwsh"
    },
    "vscode": {
     "languageId": "polyglot-notebook"
    }
   },
   "outputs": [
    {
     "name": "stdout",
     "output_type": "stream",
     "text": [
      "Name: John Smith Address: 123 Somewhere St.\n",
      "Name: John Smith Address: 123 Somewhere St.\n",
      "Name: John Smith Address: 123 Somewhere St.\n",
      "\u001b[92mName: John Smith Address: 123 Somewhere St.\u001b[0m\n"
     ]
    },
    {
     "ename": "Error",
     "evalue": "Command failed: SubmitCode: # display contents of variable ...",
     "output_type": "error",
     "traceback": [
      "Command failed: SubmitCode: # display contents of variable ..."
     ]
    }
   ],
   "source": [
    "# display contents of variable\n",
    "$address = \"123 Somewhere St.\"\n",
    "Write-Host \"Name:\" $name \"Address:\" $address # simple output\n",
    "Write-Host \"Name: $name Address: $address\" # variable expansion\n",
    "Write-Host (\"Name: {0} Address: {1}\" -f $name, $address) # formatted string\n",
    "Write-Host -f Green (\"Name: {0} Address: {1}\" -f $name, $address) # formatted string"
   ]
  },
  {
   "cell_type": "code",
   "execution_count": 11,
   "metadata": {
    "dotnet_interactive": {
     "language": "pwsh"
    },
    "polyglot_notebook": {
     "kernelName": "pwsh"
    },
    "vscode": {
     "languageId": "polyglot-notebook"
    }
   },
   "outputs": [
    {
     "name": "stdout",
     "output_type": "stream",
     "text": [
      "\u001b[31;1mWrite-Host: \u001b[0m\n",
      "\u001b[31;1m\u001b[36;1mLine |\u001b[0m\n",
      "\u001b[31;1m\u001b[36;1m\u001b[36;1m   2 | \u001b[0m Write-Host \"Name: {0} Address: {1}\" -f \u001b[36;1m$name, $address\u001b[0m\n",
      "\u001b[31;1m\u001b[36;1m\u001b[36;1m\u001b[0m\u001b[36;1m\u001b[0m\u001b[36;1m     | \u001b[31;1m                                        ~~~~~~~~~~~~~~~\u001b[0m\n",
      "\u001b[31;1m\u001b[36;1m\u001b[36;1m\u001b[0m\u001b[36;1m\u001b[0m\u001b[36;1m\u001b[31;1m\u001b[31;1m\u001b[36;1m     | \u001b[31;1mCannot bind parameter 'ForegroundColor'. Cannot convert value \"John Smith,123 Somewhere St.\" to type \"System.ConsoleColor\". Error: \"Unable to match the identifier name John Smith,123 Somewhere St. to a valid enumerator name. Specify one of the following enumerator names and try again:\u001b[0m\n",
      "\u001b[31;1m\u001b[36;1m\u001b[36;1m\u001b[0m\u001b[36;1m\u001b[0m\u001b[36;1m\u001b[31;1m\u001b[31;1m\u001b[36;1m\u001b[31;1mBlack, DarkBlue, DarkGreen, DarkCyan, DarkRed, DarkMagenta, DarkYellow, Gray, DarkGray, Blue, Green, Cyan, Red, Magenta, Yellow, White\"\u001b[0m\n"
     ]
    },
    {
     "ename": "Error",
     "evalue": "Command failed: SubmitCode: # invalid formatted string output ...",
     "output_type": "error",
     "traceback": [
      "Command failed: SubmitCode: # invalid formatted string output ..."
     ]
    }
   ],
   "source": [
    "# invalid formatted string output\n",
    "Write-Host \"Name: {0} Address: {1}\" -f $name, $address"
   ]
  },
  {
   "cell_type": "code",
   "execution_count": 19,
   "metadata": {
    "dotnet_interactive": {
     "language": "pwsh"
    },
    "polyglot_notebook": {
     "kernelName": "pwsh"
    },
    "vscode": {
     "languageId": "polyglot-notebook"
    }
   },
   "outputs": [
    {
     "name": "stdout",
     "output_type": "stream",
     "text": [
      "5685 Leeds St.\n",
      "5685 Leeds St.\n",
      "5685 Leeds St.\n",
      "5685 Leeds St.\n"
     ]
    }
   ],
   "source": [
    "# combining strings\n",
    "$streetNumber = \"5685\"\n",
    "$streetName = \"Leeds St.\"\n",
    "Write-Host $streetNumber $streetName\n",
    "$streetAddress = $streetNumber + \" \" + $streetName # concatenate strings\n",
    "Write-Host $streetAddress\n",
    "$myAddress = \"{0} {1}\" -f $streetNumber, $streetName # formatted strings\n",
    "Write-Host $myAddress\n",
    "$yourAddress = \"$streetNumber $streetName\" # variable expansion\n",
    "Write-Host $yourAddress"
   ]
  },
  {
   "cell_type": "code",
   "execution_count": 24,
   "metadata": {
    "dotnet_interactive": {
     "language": "pwsh"
    },
    "polyglot_notebook": {
     "kernelName": "pwsh"
    },
    "vscode": {
     "languageId": "polyglot-notebook"
    }
   },
   "outputs": [
    {
     "name": "stdout",
     "output_type": "stream",
     "text": [
      "Hello, World!\n",
      "Hello, World!\n",
      "Goodbye, World!\n",
      "Hello, World!\n"
     ]
    }
   ],
   "source": [
    "# concatenate strings\n",
    "$greeting = \"Hello, \" + \"World!\"\n",
    "Write-Host $greeting\n",
    "Write-Host (\"Hello, \" + \"World!\")\n",
    "$goodbye = \"Goodbye, \"\n",
    "$goodbye += \"World!\"\n",
    "Write-Host $goodbye\n",
    "$helloAgain = \"Hello, \"\n",
    "$helloAgain = $helloAgain + \"World!\"\n",
    "Write-Host $helloAgain"
   ]
  },
  {
   "cell_type": "code",
   "execution_count": 28,
   "metadata": {
    "dotnet_interactive": {
     "language": "pwsh"
    },
    "polyglot_notebook": {
     "kernelName": "pwsh"
    },
    "vscode": {
     "languageId": "polyglot-notebook"
    }
   },
   "outputs": [
    {
     "name": "stdout",
     "output_type": "stream",
     "text": [
      "Price: 123.45\n",
      "Price: 123.45\n",
      "\u001b[31;1mInvalidArgument: \u001b[0m\n",
      "\u001b[31;1m\u001b[36;1mLine |\u001b[0m\n",
      "\u001b[31;1m\u001b[36;1m\u001b[36;1m   8 | \u001b[0m \u001b[36;1m$address = 5685 + \" Leeds St.\"\u001b[0m\n",
      "\u001b[31;1m\u001b[36;1m\u001b[36;1m\u001b[0m\u001b[36;1m\u001b[0m\u001b[36;1m     | \u001b[31;1m ~~~~~~~~~~~~~~~~~~~~~~~~~~~~~~\u001b[0m\n",
      "\u001b[31;1m\u001b[36;1m\u001b[36;1m\u001b[0m\u001b[36;1m\u001b[0m\u001b[36;1m\u001b[31;1m\u001b[31;1m\u001b[36;1m     | \u001b[31;1mCannot convert value \"Leeds St.\" to type \"System.Int32\". Error: \"The input string 'Leeds St.' was not in a correct format.\"\u001b[0m\n",
      "123 Somewhere St.\n"
     ]
    },
    {
     "ename": "Error",
     "evalue": "Command failed: SubmitCode: # issues with concatenation ...",
     "output_type": "error",
     "traceback": [
      "Command failed: SubmitCode: # issues with concatenation ..."
     ]
    }
   ],
   "source": [
    "# issues with concatenation\n",
    "\n",
    "# combine strings with numbers\n",
    "$price = \"Price: \" + 123.45\n",
    "$price\n",
    "Write-Host $price\n",
    "\n",
    "$address = 5685 + \" Leeds St.\"\n",
    "$address"
   ]
  },
  {
   "cell_type": "code",
   "execution_count": 31,
   "metadata": {
    "dotnet_interactive": {
     "language": "pwsh"
    },
    "polyglot_notebook": {
     "kernelName": "pwsh"
    },
    "vscode": {
     "languageId": "polyglot-notebook"
    }
   },
   "outputs": [
    {
     "name": "stdout",
     "output_type": "stream",
     "text": [
      "Some text in quotation marks. 123.45 -12345 True\r\n"
     ]
    }
   ],
   "source": [
    "# data types\n",
    "$string = \"Some text in quotation marks.\"\n",
    "$double = 123.45\n",
    "$integer = -12345\n",
    "$boolean = $true\n",
    "Write-Host $string $double $integer $boolean"
   ]
  },
  {
   "cell_type": "code",
   "execution_count": 37,
   "metadata": {
    "dotnet_interactive": {
     "language": "pwsh"
    },
    "polyglot_notebook": {
     "kernelName": "pwsh"
    },
    "vscode": {
     "languageId": "polyglot-notebook"
    }
   },
   "outputs": [
    {
     "name": "stdout",
     "output_type": "stream",
     "text": [
      "12345 System.String\n",
      "12345 System.Int32\n",
      "12345 System.String\n",
      "12345 System.Int32\n",
      "12345 System.Double\n",
      "True System.Boolean\n"
     ]
    }
   ],
   "source": [
    "# convert between data types\n",
    "$number = \"12345\"\n",
    "Write-Host $number $number.GetType()\n",
    "$number = 12345\n",
    "Write-Host $number $number.GetType()\n",
    "#$number = \"{0}\" -f $number\n",
    "#Write-Host $number $number.GetType()\n",
    "$number = [string]$number\n",
    "Write-Host $number $number.GetType()\n",
    "$number = [int]$number\n",
    "Write-Host $number $number.GetType()\n",
    "$number = [double]$number\n",
    "Write-Host $number $number.GetType()\n",
    "$number = [boolean]$number\n",
    "Write-Host $number $number.GetType()\n",
    "\n"
   ]
  },
  {
   "cell_type": "code",
   "execution_count": 46,
   "metadata": {
    "dotnet_interactive": {
     "language": "pwsh"
    },
    "polyglot_notebook": {
     "kernelName": "pwsh"
    },
    "vscode": {
     "languageId": "polyglot-notebook"
    }
   },
   "outputs": [
    {
     "name": "stdout",
     "output_type": "stream",
     "text": [
      "a=5, b=6, c=7\n",
      "\n",
      "\u001b[32;1mIsPublic\u001b[0m \u001b[32;1;3mIsSerial\u001b[0m\u001b[32;1m Name                                    \u001b[0m\u001b[32;1m BaseType\u001b[0m\n",
      "\u001b[32;1m--------\u001b[0m \u001b[32;1m--------\u001b[0m \u001b[32;1m----                                    \u001b[0m \u001b[32;1m--------\u001b[0m\n",
      "True     True     Double                                   System.ValueType\n",
      "18\n",
      "6\n",
      "\n"
     ]
    }
   ],
   "source": [
    "# a script to calculate the average of three numbers input from the user\n",
    "$a = [double](Read-Host \"a\")\n",
    "[double]$b = Read-Host \"b\"\n",
    "[double]$c = Read-Host \"c\"\n",
    "Write-Host \"a=$a, b=$b, c=$c\"\n",
    "$a.GetType()\n",
    "$sum = $a + $b + $c\n",
    "Write-Host $sum\n",
    "$avg = $sum / 3\n",
    "Write-Host $avg"
   ]
  },
  {
   "cell_type": "code",
   "execution_count": 52,
   "metadata": {
    "dotnet_interactive": {
     "language": "pwsh"
    },
    "polyglot_notebook": {
     "kernelName": "pwsh"
    },
    "vscode": {
     "languageId": "polyglot-notebook"
    }
   },
   "outputs": [
    {
     "name": "stdout",
     "output_type": "stream",
     "text": [
      "4\n",
      "2\n",
      "10\n",
      "2\n",
      "1\n"
     ]
    }
   ],
   "source": [
    "# other mathematical operators\n",
    "Write-Host (2 + 2)\n",
    "4 - 2\n",
    "5 * 2\n",
    "10 / 5\n",
    "5 % 2 # modulus division"
   ]
  },
  {
   "cell_type": "code",
   "execution_count": 54,
   "metadata": {
    "dotnet_interactive": {
     "language": "pwsh"
    },
    "polyglot_notebook": {
     "kernelName": "pwsh"
    },
    "vscode": {
     "languageId": "polyglot-notebook"
    }
   },
   "outputs": [
    {
     "name": "stdout",
     "output_type": "stream",
     "text": [
      "6\n",
      "7.25\n"
     ]
    }
   ],
   "source": [
    "# BEDMAS (Brackets, Exponents, Division, Multiplication, Addition, Subtraction)\n",
    "# Order of Operations\n",
    "(1 + 2) * 2\n",
    "(1 * 2) - (3 / 4) + 6"
   ]
  },
  {
   "cell_type": "code",
   "execution_count": 62,
   "metadata": {
    "dotnet_interactive": {
     "language": "pwsh"
    },
    "polyglot_notebook": {
     "kernelName": "pwsh"
    },
    "vscode": {
     "languageId": "polyglot-notebook"
    }
   },
   "outputs": [
    {
     "name": "stdout",
     "output_type": "stream",
     "text": [
      "8\n",
      "5\n",
      "3.14159265358979\n",
      "5.44\n",
      "5\n",
      "6\n"
     ]
    }
   ],
   "source": [
    "# using a .NET method\n",
    "[Math]::Pow(2, 3)\n",
    "[Math]::Sqrt(25)\n",
    "[Math]::PI\n",
    "[Math]::Round(5.435, 2)\n",
    "[Math]::Floor(5.125)\n",
    "[Math]::Ceiling(5.125)"
   ]
  },
  {
   "cell_type": "code",
   "execution_count": 64,
   "metadata": {
    "dotnet_interactive": {
     "language": "pwsh"
    },
    "polyglot_notebook": {
     "kernelName": "pwsh"
    },
    "vscode": {
     "languageId": "polyglot-notebook"
    }
   },
   "outputs": [
    {
     "name": "stdout",
     "output_type": "stream",
     "text": [
      "\n",
      "\u001b[32;1mDriveLetter\u001b[0m\u001b[32;1m FreeSpace \u001b[0m\u001b[32;1m Capacity  \u001b[0m\u001b[32;1m PercentFree\u001b[0m\n",
      "\u001b[32;1m-----------\u001b[0m \u001b[32;1m--------- \u001b[0m \u001b[32;1m--------  \u001b[0m \u001b[32;1m-----------\u001b[0m\n",
      "C:          663.460 GB 943.718 GB 70.303%\n",
      "            8.642 GB   9.537 GB   90.615%\n",
      "            0.413 GB   0.484 GB   85.173%\n",
      "\n"
     ]
    }
   ],
   "source": [
    "# display a table of drive partitions and how much free space is available\n",
    "Get-WmiObject win32_volume | Format-Table DriveLetter,\n",
    "@{Label=\"FreeSpace\";Expression={\"{0:N} GB\" -f ($_.FreeSpace / 1GB)}},\n",
    "@{Label=\"Capacity\";Expression={\"{0:N} GB\" -f ($_.Capacity / 1GB)}},\n",
    "@{Label=\"PercentFree\";Expression={\"{0:P}\" -f ($_.FreeSpace / $_.Capacity)}}"
   ]
  },
  {
   "cell_type": "code",
   "execution_count": 67,
   "metadata": {
    "dotnet_interactive": {
     "language": "pwsh"
    },
    "polyglot_notebook": {
     "kernelName": "pwsh"
    },
    "vscode": {
     "languageId": "polyglot-notebook"
    }
   },
   "outputs": [
    {
     "name": "stdout",
     "output_type": "stream",
     "text": [
      "1073741824\n",
      "1099511627776\n",
      "43008\n"
     ]
    }
   ],
   "source": [
    "1GB\n",
    "1TB\n",
    "42TB / 1GB"
   ]
  },
  {
   "cell_type": "code",
   "execution_count": null,
   "metadata": {
    "dotnet_interactive": {
     "language": "csharp"
    },
    "polyglot_notebook": {
     "kernelName": "csharp"
    },
    "vscode": {
     "languageId": "polyglot-notebook"
    }
   },
   "outputs": [],
   "source": []
  }
 ],
 "metadata": {
  "kernelspec": {
   "display_name": ".NET (C#)",
   "language": "C#",
   "name": ".net-csharp"
  },
  "language_info": {
   "name": "csharp"
  },
  "polyglot_notebook": {
   "kernelInfo": {
    "defaultKernelName": "csharp",
    "items": [
     {
      "aliases": [],
      "name": "csharp"
     }
    ]
   }
  }
 },
 "nbformat": 4,
 "nbformat_minor": 2
}
