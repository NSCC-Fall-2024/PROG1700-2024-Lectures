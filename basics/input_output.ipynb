{
    "cells": [
        {
            "cell_type": "markdown",
            "metadata": {},
            "source": [
                "# Input, Output and Variables\n",
                "This notebook contains samples of using PowerShell for simple user input, user output and storing data in variables."
            ]
        },
        {
            "cell_type": "markdown",
            "metadata": {},
            "source": []
        },
        {
            "cell_type": "code",
            "execution_count": null,
            "metadata": {
                "dotnet_interactive": {
                    "language": "pwsh"
                },
                "polyglot_notebook": {
                    "kernelName": "pwsh"
                },
                "vscode": {
                    "languageId": "polyglot-notebook"
                }
            },
            "outputs": [],
            "source": [
                "# sample PowerShell cmdlets\n",
                "Get-ChildItem\n",
                "Get-Alias\n",
                "Set-Alias\n",
                "Get-Process\n",
                "Get-Service"
            ]
        },
        {
            "cell_type": "code",
            "execution_count": 9,
            "metadata": {
                "dotnet_interactive": {
                    "language": "pwsh"
                },
                "polyglot_notebook": {
                    "kernelName": "pwsh"
                },
                "vscode": {
                    "languageId": "polyglot-notebook"
                }
            },
            "outputs": [
                {
                    "name": "stdout",
                    "output_type": "stream",
                    "text": [
                        "\n",
                        "\u001b[32;1mMajor \u001b[0m\u001b[32;1m Minor \u001b[0m\u001b[32;1m Patch \u001b[0m\u001b[32;1m PreReleaseLabel\u001b[0m\u001b[32;1m BuildLabel\u001b[0m\n",
                        "\u001b[32;1m----- \u001b[0m \u001b[32;1m----- \u001b[0m \u001b[32;1m----- \u001b[0m \u001b[32;1m---------------\u001b[0m \u001b[32;1m----------\u001b[0m\n",
                        "7      4      1                      \n",
                        "\n"
                    ]
                }
            ],
            "source": [
                "# automatic variable\n",
                "$PSVersionTable.PSVersion"
            ]
        },
        {
            "cell_type": "code",
            "execution_count": 12,
            "metadata": {
                "dotnet_interactive": {
                    "language": "pwsh"
                },
                "polyglot_notebook": {
                    "kernelName": "pwsh"
                },
                "vscode": {
                    "languageId": "polyglot-notebook"
                }
            },
            "outputs": [
                {
                    "name": "stdout",
                    "output_type": "stream",
                    "text": [
                        "W0111036\n",
                        "C:\\Users\\W0111036\n"
                    ]
                }
            ],
            "source": [
                "# environment variables\n",
                "$env:USERNAME\n",
                "$env:USERPROFILE\n",
                "Get-ChildItem env:"
            ]
        },
        {
            "cell_type": "code",
            "execution_count": 21,
            "metadata": {
                "dotnet_interactive": {
                    "language": "pwsh"
                },
                "polyglot_notebook": {
                    "kernelName": "pwsh"
                },
                "vscode": {
                    "languageId": "polyglot-notebook"
                }
            },
            "outputs": [],
            "source": [
                "# script variables\n",
                "$totalCost = \"$123.34\"\n",
                "$totalCost = 123.34\n",
                "$userName = \"jsmith\"\n",
                "$address = \"5685 Leeds St., Halifax, NS\"\n",
                "$isValid = true\n",
                "$count = 1000\n",
                "$fruit = \"apple\", \"banana\", \"orange\"\n",
                "$users = \n",
                "    @{name='bob'; username='bjones'},\n",
                "    @{name='jane'; username='jsmith'}\n",
                "$hexValue = 0xABCD\n",
                "$binaryValue = 0b11011101"
            ]
        },
        {
            "cell_type": "code",
            "execution_count": 24,
            "metadata": {
                "dotnet_interactive": {
                    "language": "pwsh"
                },
                "polyglot_notebook": {
                    "kernelName": "pwsh"
                },
                "vscode": {
                    "languageId": "polyglot-notebook"
                }
            },
            "outputs": [
                {
                    "name": "stdout",
                    "output_type": "stream",
                    "text": [
                        "Host:  AAD-STAFF-92226\n",
                        "User:  W0111036\n",
                        "Home:  C:\\Users\\W0111036\n",
                        "Path:  C:\\Program Files (x86)\\STMicroelectronics\\stlink_server;C:\\ST\\STM32CubeCLT_1.16.0;C:\\ST\\STM32CubeCLT_1.16.0\\CMake\\bin;C:\\ST\\STM32CubeCLT_1.16.0\\Ninja\\bin;C:\\ST\\STM32CubeCLT_1.16.0\\GNU-tools-for-STM32\\bin;C:\\ST\\STM32CubeCLT_1.16.0\\STLink-gdb-server\\bin;C:\\ST\\STM32CubeCLT_1.16.0\\STM32CubeProgrammer\\bin;C:\\Program Files (x86)\\VMware\\VMware Workstation\\bin\\;C:\\WINDOWS\\system32;C:\\WINDOWS;C:\\WINDOWS\\System32\\Wbem;C:\\WINDOWS\\System32\\WindowsPowerShell\\v1.0\\;C:\\WINDOWS\\System32\\OpenSSH\\;C:\\Users\\W0111036\\AppData\\Local\\Microsoft\\WindowsApps;C:\\Program Files\\dotnet\\;C:\\Program Files\\Vim\\vim91;C:\\Program Files\\CMake\\bin;C:\\Program Files (x86)\\Windows Kits\\10\\Windows Performance Toolkit\\;C:\\Program Files (x86)\\STMicroelectronics\\STM32 ST-LINK Utility\\ST-LINK Utility;C:\\Program Files\\Git\\cmd;C:\\Program Files\\nodejs\\;C:\\Program Files\\PowerShell\\7-preview;C:\\Program Files\\PowerShell\\7-preview\\preview;C:\\Program Files\\GitHub CLI\\;;c:\\Users\\W0111036\\AppData\\Local\\Programs\\cursor\\resources\\app\\bin;C:\\Users\\W0111036\\AppData\\Local\\Programs\\Python\\Python312\\Scripts\\;C:\\Users\\W0111036\\AppData\\Local\\Programs\\Python\\Python312\\;C:\\Users\\W0111036\\AppData\\Local\\Programs\\Python\\Launcher\\;C:\\Users\\W0111036\\AppData\\Local\\Microsoft\\WindowsApps;C:\\Users\\W0111036\\AppData\\Local\\Programs\\Microsoft VS Code Insiders\\bin;C:\\Users\\W0111036\\AppData\\Local\\JetBrains\\Toolbox\\scripts;C:\\Users\\W0111036\\AppData\\Local\\Programs\\CLion\\bin\\mingw\\bin;C:\\Users\\W0111036\\AppData\\Local\\Programs\\oh-my-posh\\bin;C:\\Program Files\\7-Zip;C:\\Users\\W0111036\\.mcuxpressotools\\ninja;C:\\Users\\W0111036\\AppData\\Roaming\\npm;C:\\msys64\\ucrt64\\bin;C:\\msys64\\usr\\bin;C:\\msys64\\ucrt64\\lib;C:\\Program Files (x86)\\Arm GNU Toolchain arm-none-eabi\\13.3 rel1\\bin;C:\\Users\\W0111036\\.dotnet\\tools\n"
                    ]
                }
            ],
            "source": [
                "# a script that outputs important information about your computer\n",
                "Write-Host \"Host: \" $env:COMPUTERNAME\n",
                "Write-Host \"User: \" $env:USERNAME\n",
                "Write-Host \"Home: \" $HOME\n",
                "Write-Host \"Path: \" $env:PATH"
            ]
        },
        {
            "cell_type": "code",
            "execution_count": 28,
            "metadata": {
                "dotnet_interactive": {
                    "language": "pwsh"
                },
                "polyglot_notebook": {
                    "kernelName": "pwsh"
                },
                "vscode": {
                    "languageId": "polyglot-notebook"
                }
            },
            "outputs": [
                {
                    "name": "stdout",
                    "output_type": "stream",
                    "text": [
                        "September 18, 2024\r\n"
                    ]
                }
            ],
            "source": [
                "# a script that creates three variables to hold the current day, month and year.\n",
                "# display the current date nicely, using those variables.\n",
                "\n",
                "$day = 18\n",
                "$month = \"September\"\n",
                "$year = 2024\n",
                "Write-Host \"$month $day, $year\""
            ]
        },
        {
            "cell_type": "code",
            "execution_count": 32,
            "metadata": {
                "dotnet_interactive": {
                    "language": "pwsh"
                },
                "polyglot_notebook": {
                    "kernelName": "pwsh"
                },
                "vscode": {
                    "languageId": "polyglot-notebook"
                }
            },
            "outputs": [
                {
                    "name": "stdout",
                    "output_type": "stream",
                    "text": [
                        "43981\n",
                        "0xABCD = 43981\n"
                    ]
                }
            ],
            "source": [
                "# use PowerShell to tell you what the hexadecimal number \"0xABCD\" is in decimal\n",
                "$num = 0xABCD\n",
                "Write-Host $num\n",
                "Write-Host \"0xABCD = $(0xABCD)\""
            ]
        },
        {
            "cell_type": "code",
            "execution_count": 34,
            "metadata": {
                "dotnet_interactive": {
                    "language": "pwsh"
                },
                "polyglot_notebook": {
                    "kernelName": "pwsh"
                },
                "vscode": {
                    "languageId": "polyglot-notebook"
                }
            },
            "outputs": [
                {
                    "name": "stdout",
                    "output_type": "stream",
                    "text": [
                        "C:\\Users\\W0111036\\OneDrive - Nova Scotia Community College\\Documents\\PowerShell\\Microsoft.dotnet-interactive_profile.ps1\r\n"
                    ]
                }
            ],
            "source": [
                "# add some hello text every time I open a PowerShell window\n",
                "notepad $PROFILE"
            ]
        },
        {
            "cell_type": "code",
            "execution_count": 36,
            "metadata": {
                "dotnet_interactive": {
                    "language": "pwsh"
                },
                "polyglot_notebook": {
                    "kernelName": "pwsh"
                },
                "vscode": {
                    "languageId": "polyglot-notebook"
                }
            },
            "outputs": [],
            "source": [
                "# the following is a list of variable names.\n",
                "# which of these have variables names that are invalid or shouldn't use?\n",
                "\n",
                "$age = 34 #GOOD!\n",
                "$last name = \"Smith\" #BAD! No spaces allowed!\n",
                "$mailAddress = \"5685 Leeds St.\" #GOOD!\n",
                "$theMeaningOfLife,TheUniverse,AndEverything = 42 #BAD! Too long and no commas!\n",
                "${theMeaningOfLife,TheUniverse,AndEverything} = 42 #UGLY!! Too long and avoid brace notation\n",
                "$theMeaningOfLife = 42 # BETTER, a compromise between clarity and brevity\n",
                "$FINALGRADE = 67.5 # UGLY! Not the right naming convention\n",
                "$env:PATH = \"C:\\Windows\\System32\" # GOOD, but be cautious overwriting environment variables\n",
                "$HOME = \"123 Somewhere St.\" # BAD! An existing automatic variable and read-only\n"
            ]
        },
        {
            "cell_type": "code",
            "execution_count": 37,
            "metadata": {
                "dotnet_interactive": {
                    "language": "pwsh"
                },
                "polyglot_notebook": {
                    "kernelName": "pwsh"
                },
                "vscode": {
                    "languageId": "polyglot-notebook"
                }
            },
            "outputs": [
                {
                    "name": "stdout",
                    "output_type": "stream",
                    "text": [
                        "Email: brian.shewan@nscc.ca\r\n"
                    ]
                }
            ],
            "source": [
                "# create a script that asks the user for their first name and last names\n",
                "# then have the script output their email address in the format \"<firstname>.<lastname>@nscc.ca\"\n",
                "\n",
                "$firstName = Read-Host \"Enter your first name\"\n",
                "$lastName = Read-Host \"Enter your last name\"\n",
                "Write-Host \"Email: $firstName.$lastName@nscc.ca\""
            ]
        },
        {
            "cell_type": "code",
            "execution_count": null,
            "metadata": {
                "dotnet_interactive": {
                    "language": "pwsh"
                },
                "polyglot_notebook": {
                    "kernelName": "pwsh"
                },
                "vscode": {
                    "languageId": "polyglot-notebook"
                }
            },
            "outputs": [],
            "source": []
        }
    ],
    "metadata": {
        "kernelspec": {
            "display_name": ".NET (PowerShell)",
            "language": "PowerShell",
            "name": ".net-pwsh"
        },
        "language_info": {
            "name": "powershell"
        },
        "polyglot_notebook": {
            "kernelInfo": {
                "defaultKernelName": "pwsh",
                "items": [
                    {
                        "aliases": [],
                        "name": "pwsh"
                    }
                ]
            }
        }
    },
    "nbformat": 4,
    "nbformat_minor": 2
}
