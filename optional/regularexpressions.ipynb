{
 "cells": [
  {
   "cell_type": "code",
   "execution_count": 4,
   "metadata": {
    "dotnet_interactive": {
     "language": "pwsh"
    },
    "polyglot_notebook": {
     "kernelName": "pwsh"
    },
    "vscode": {
     "languageId": "polyglot-notebook"
    }
   },
   "outputs": [
    {
     "name": "stdout",
     "output_type": "stream",
     "text": [
      "[a-z]\n",
      "\n",
      "\u001b[32;1mOptions\u001b[0m\u001b[32;1m RightToLeft\u001b[0m\u001b[32;1m MatchTimeout\u001b[0m\n",
      "\u001b[32;1m-------\u001b[0m \u001b[32;1m-----------\u001b[0m \u001b[32;1m------------\u001b[0m\n",
      "   None       False -00:00:00.0010000\n",
      "\n"
     ]
    }
   ],
   "source": [
    "# a simple regular expression\n",
    "Write-Host \"[a-z]\"\n",
    "[regex]\"[a-z]\"\n",
    "$regex = [regex]\"\\d\\d\\d\\d\"\n",
    "$regex = [regex]\"ABC*D+[0-9]\""
   ]
  },
  {
   "cell_type": "code",
   "execution_count": 10,
   "metadata": {
    "dotnet_interactive": {
     "language": "pwsh"
    },
    "polyglot_notebook": {
     "kernelName": "pwsh"
    },
    "vscode": {
     "languageId": "polyglot-notebook"
    }
   },
   "outputs": [
    {
     "name": "stdout",
     "output_type": "stream",
     "text": [
      "True\n",
      "False\n",
      "True\n",
      "True\n",
      "True\n"
     ]
    }
   ],
   "source": [
    "# match some data\n",
    "'12345' -match '\\d'\n",
    "'12345' -match '[a-z]+'\n",
    "'12345' -notmatch '[a-z]'\n",
    "'12345' -match '[^a-z]'\n",
    "'john smith' -match '[a-z]+ [a-z]+'"
   ]
  },
  {
   "cell_type": "code",
   "execution_count": 12,
   "metadata": {
    "dotnet_interactive": {
     "language": "pwsh"
    },
    "polyglot_notebook": {
     "kernelName": "pwsh"
    },
    "vscode": {
     "languageId": "polyglot-notebook"
    }
   },
   "outputs": [
    {
     "name": "stdout",
     "output_type": "stream",
     "text": [
      "Found: 12345\r\n"
     ]
    }
   ],
   "source": [
    "$regex = [regex]\"\\d\\d\\d\\d\\d\"\n",
    "$found = $regex.Match(\"12345\")\n",
    "\"Found: $($found.Value)\""
   ]
  },
  {
   "cell_type": "code",
   "execution_count": 14,
   "metadata": {
    "dotnet_interactive": {
     "language": "pwsh"
    },
    "polyglot_notebook": {
     "kernelName": "pwsh"
    },
    "vscode": {
     "languageId": "polyglot-notebook"
    }
   },
   "outputs": [
    {
     "name": "stdout",
     "output_type": "stream",
     "text": [
      "902\n",
      "555\n",
      "1212\n"
     ]
    }
   ],
   "source": [
    "# find multiple matches\n",
    "$regex = [regex]\"\\d+\"\n",
    "foreach ($m in $regex.Matches(\"(902) 555-1212\")) {\n",
    "    $m.Value\n",
    "}"
   ]
  },
  {
   "cell_type": "code",
   "execution_count": 19,
   "metadata": {
    "dotnet_interactive": {
     "language": "pwsh"
    },
    "polyglot_notebook": {
     "kernelName": "pwsh"
    },
    "vscode": {
     "languageId": "polyglot-notebook"
    }
   },
   "outputs": [
    {
     "name": "stdout",
     "output_type": "stream",
     "text": [
      "You have a postal code!\n",
      "123 Somewhere Dr.\n"
     ]
    }
   ],
   "source": [
    "# example use\n",
    "$address = @\"\n",
    "123 Somewhere Dr.\n",
    "Halifax, Nova Scotia\n",
    "H0H 0H0\n",
    "\"@\n",
    "\n",
    "# check for the existence of a postal code\n",
    "if ($address -match '[A-Z][0-9][A-Z] \\d\\w\\d') {\n",
    "    \"You have a postal code!\"\n",
    "}\n",
    "\n",
    "# extract street address\n",
    "$regex = [regex]\"\\d+ [A-Z]\\w+ [A-Z]\\w+\\.\"\n",
    "$regex.Match($address).Value"
   ]
  },
  {
   "cell_type": "code",
   "execution_count": 20,
   "metadata": {
    "dotnet_interactive": {
     "language": "pwsh"
    },
    "polyglot_notebook": {
     "kernelName": "pwsh"
    },
    "vscode": {
     "languageId": "polyglot-notebook"
    }
   },
   "outputs": [
    {
     "name": "stdout",
     "output_type": "stream",
     "text": [
      "True\r\n"
     ]
    }
   ],
   "source": [
    "# grouping\n",
    "'hello world' -match '(hello)\\s(w.+)'"
   ]
  },
  {
   "cell_type": "code",
   "execution_count": 21,
   "metadata": {
    "dotnet_interactive": {
     "language": "pwsh"
    },
    "polyglot_notebook": {
     "kernelName": "pwsh"
    },
    "vscode": {
     "languageId": "polyglot-notebook"
    }
   },
   "outputs": [
    {
     "name": "stdout",
     "output_type": "stream",
     "text": [
      "\n",
      "\u001b[32;1mName                          \u001b[0m\u001b[32;1m Value\u001b[0m\n",
      "\u001b[32;1m----                          \u001b[0m \u001b[32;1m-----\u001b[0m\n",
      "2                              world\n",
      "1                              hello\n",
      "0                              hello world\n",
      "\n"
     ]
    }
   ],
   "source": [
    "$Matches"
   ]
  },
  {
   "cell_type": "code",
   "execution_count": 25,
   "metadata": {
    "dotnet_interactive": {
     "language": "pwsh"
    },
    "polyglot_notebook": {
     "kernelName": "pwsh"
    },
    "vscode": {
     "languageId": "polyglot-notebook"
    }
   },
   "outputs": [
    {
     "name": "stdout",
     "output_type": "stream",
     "text": [
      "powershell\n",
      "rapelcgrq\n"
     ]
    }
   ],
   "source": [
    "# find and replace\n",
    "# <input> -replace <regex>, <substitute>\n",
    "\n",
    "'powerful shell scripting' -replace '(p.{4}).*(\\w{3}ll).*', '$1$2'\n",
    "\n",
    "'encrypted' -replace '([a-z])', {\n",
    "    [char]((13 + [char]$_.Value - [char]'a') % 26 + [char]'a')\n",
    "}"
   ]
  },
  {
   "cell_type": "code",
   "execution_count": 28,
   "metadata": {
    "dotnet_interactive": {
     "language": "pwsh"
    },
    "polyglot_notebook": {
     "kernelName": "pwsh"
    },
    "vscode": {
     "languageId": "polyglot-notebook"
    }
   },
   "outputs": [
    {
     "name": "stdout",
     "output_type": "stream",
     "text": [
      "World\r\n"
     ]
    }
   ],
   "source": [
    "# Select-String\n",
    "# similar to 'grep' in Linux\n",
    "\n",
    "$found = \"Hello World\" | Select-String -Pattern \"\\w+o\\w+\"\n",
    "$found.Matches[0].Value\n"
   ]
  },
  {
   "cell_type": "code",
   "execution_count": 39,
   "metadata": {
    "dotnet_interactive": {
     "language": "pwsh"
    },
    "polyglot_notebook": {
     "kernelName": "pwsh"
    },
    "vscode": {
     "languageId": "polyglot-notebook"
    }
   },
   "outputs": [
    {
     "name": "stdout",
     "output_type": "stream",
     "text": [
      "\n",
      "Alias           gal -> \u001b[7mGet-Alias\u001b[0m                                              \n",
      "\n"
     ]
    }
   ],
   "source": [
    "# practical examples\n",
    "\n",
    "gal | oss | sls 'get-alias'\n"
   ]
  },
  {
   "cell_type": "code",
   "execution_count": 42,
   "metadata": {
    "dotnet_interactive": {
     "language": "pwsh"
    },
    "polyglot_notebook": {
     "kernelName": "pwsh"
    },
    "vscode": {
     "languageId": "polyglot-notebook"
    }
   },
   "outputs": [
    {
     "name": "stdout",
     "output_type": "stream",
     "text": [
      "\n",
      "C:\\Windows\\System32\\drivers\\etc\\hosts:19:# \u001b[7mlocalhost\u001b[0m name resolution is handled within DNS itself.\n",
      "C:\\Windows\\System32\\drivers\\etc\\hosts:20:#\t127.0.0.1       \u001b[7mlocalhost\u001b[0m\n",
      "C:\\Windows\\System32\\drivers\\etc\\hosts:21:#\t::1             \u001b[7mlocalhost\u001b[0m\n",
      "\n"
     ]
    }
   ],
   "source": [
    "# grep-like\n",
    "\n",
    "Get-ChildItem -Path C:\\Windows\\System32\\drivers\\etc\\hosts | Select-String -Pattern \"localhost\" -CaseSensitive"
   ]
  },
  {
   "cell_type": "code",
   "execution_count": 43,
   "metadata": {
    "dotnet_interactive": {
     "language": "pwsh"
    },
    "polyglot_notebook": {
     "kernelName": "pwsh"
    },
    "vscode": {
     "languageId": "polyglot-notebook"
    }
   },
   "outputs": [
    {
     "name": "stdout",
     "output_type": "stream",
     "text": [
      "\n",
      "C:\\Windows\\System32\\drivers\\etc\\hosts:19:# \u001b[7mlocalhost\u001b[0m name resolution is handled within DNS itself.\n",
      "C:\\Windows\\System32\\drivers\\etc\\hosts:20:#\t127.0.0.1       \u001b[7mlocalhost\u001b[0m\n",
      "C:\\Windows\\System32\\drivers\\etc\\hosts:21:#\t::1             \u001b[7mlocalhost\u001b[0m\n",
      "\n"
     ]
    }
   ],
   "source": [
    "ls C:\\Windows\\System32\\drivers\\etc\\hosts | sls \"localhost\""
   ]
  },
  {
   "cell_type": "code",
   "execution_count": null,
   "metadata": {
    "dotnet_interactive": {
     "language": "csharp"
    },
    "polyglot_notebook": {
     "kernelName": "csharp"
    },
    "vscode": {
     "languageId": "polyglot-notebook"
    }
   },
   "outputs": [],
   "source": []
  }
 ],
 "metadata": {
  "kernelspec": {
   "display_name": ".NET (C#)",
   "language": "C#",
   "name": ".net-csharp"
  },
  "language_info": {
   "name": "python"
  },
  "polyglot_notebook": {
   "kernelInfo": {
    "defaultKernelName": "csharp",
    "items": [
     {
      "aliases": [],
      "name": "csharp"
     }
    ]
   }
  }
 },
 "nbformat": 4,
 "nbformat_minor": 2
}
