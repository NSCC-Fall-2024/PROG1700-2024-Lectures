{
 "cells": [
  {
   "cell_type": "code",
   "execution_count": 1,
   "metadata": {
    "dotnet_interactive": {
     "language": "pwsh"
    },
    "polyglot_notebook": {
     "kernelName": "pwsh"
    },
    "vscode": {
     "languageId": "polyglot-notebook"
    }
   },
   "outputs": [
    {
     "name": "stdout",
     "output_type": "stream",
     "text": [
      "other\r\n"
     ]
    }
   ],
   "source": [
    "# simple if statement\n",
    "$num = 5\n",
    "if ($num -eq 1) { Write-Host \"one\" }\n",
    "elseif ($num -eq 2) { Write-Host \"two\" }\n",
    "elseif ($num -eq 3) { Write-Host \"three\" }\n",
    "else { Write-Host \"other\" }"
   ]
  },
  {
   "cell_type": "code",
   "execution_count": 6,
   "metadata": {
    "dotnet_interactive": {
     "language": "pwsh"
    },
    "polyglot_notebook": {
     "kernelName": "pwsh"
    },
    "vscode": {
     "languageId": "polyglot-notebook"
    }
   },
   "outputs": [
    {
     "name": "stdout",
     "output_type": "stream",
     "text": [
      "two\n",
      "two\n"
     ]
    }
   ],
   "source": [
    "# switch version\n",
    "$num = 2\n",
    "switch ($num) {\n",
    "    1 { Write-Host \"one\"; break }\n",
    "    2 { Write-Host \"two\" }\n",
    "    3 { Write-Host \"three\" }\n",
    "    1 { Write-Host \"one again\" }\n",
    "    2 { Write-Host \"two again\" }\n",
    "    default { Write-Host \"other\" }\n",
    "}"
   ]
  },
  {
   "cell_type": "code",
   "execution_count": 7,
   "metadata": {
    "dotnet_interactive": {
     "language": "pwsh"
    },
    "polyglot_notebook": {
     "kernelName": "pwsh"
    },
    "vscode": {
     "languageId": "polyglot-notebook"
    }
   },
   "outputs": [
    {
     "name": "stdout",
     "output_type": "stream",
     "text": [
      "num = 1\n",
      "num = 2\n",
      "num = 3\n",
      "num = 4\n",
      "num = 5\n"
     ]
    }
   ],
   "source": [
    "# looping through arrays\n",
    "$array = 1, 2, 3, 4, 5\n",
    "foreach ($n in $array) {\n",
    "    \"num = $n\"\n",
    "}"
   ]
  },
  {
   "cell_type": "code",
   "execution_count": 10,
   "metadata": {
    "dotnet_interactive": {
     "language": "pwsh"
    },
    "polyglot_notebook": {
     "kernelName": "pwsh"
    },
    "vscode": {
     "languageId": "polyglot-notebook"
    }
   },
   "outputs": [
    {
     "name": "stdout",
     "output_type": "stream",
     "text": [
      "num = 1\n",
      "num = 2\n",
      "num = 3\n",
      "num = 4\n",
      "num = 5\n"
     ]
    }
   ],
   "source": [
    "$array = 1, 2, 3, 4, 5\n",
    "switch ($array) {\n",
    "    1 { \"num = $_\" }\n",
    "    2 { \"num = $_\" }\n",
    "    3 { \"num = $_\" }\n",
    "    default { \"num = $_\" }\n",
    "}"
   ]
  },
  {
   "cell_type": "code",
   "execution_count": 12,
   "metadata": {
    "dotnet_interactive": {
     "language": "pwsh"
    },
    "polyglot_notebook": {
     "kernelName": "pwsh"
    },
    "vscode": {
     "languageId": "polyglot-notebook"
    }
   },
   "outputs": [
    {
     "name": "stdout",
     "output_type": "stream",
     "text": [
      "apple is crunchy!\n",
      "orange is sweet!\n",
      "banana is banana...eee\n",
      "pickle is yuck!\n"
     ]
    }
   ],
   "source": [
    "$fruit = \"apple\", \"orange\", \"banana\", \"pickle\"\n",
    "switch ($fruit) {\n",
    "    \"apple\" { \"$_ is crunchy!\" }\n",
    "    \"orange\" { \"$_ is sweet!\" }\n",
    "    \"banana\" { \"$_ is banana...eee\" }\n",
    "    default { \"$_ is yuck!\" }\n",
    "}"
   ]
  },
  {
   "cell_type": "code",
   "execution_count": 13,
   "metadata": {
    "dotnet_interactive": {
     "language": "pwsh"
    },
    "polyglot_notebook": {
     "kernelName": "pwsh"
    },
    "vscode": {
     "languageId": "polyglot-notebook"
    }
   },
   "outputs": [
    {
     "name": "stdout",
     "output_type": "stream",
     "text": [
      "1 is less than 2\n",
      "2 is between 2 and 4\n",
      "3 is between 2 and 4\n",
      "4 is greater than 3\n",
      "4 is between 2 and 4\n",
      "5 is greater than 3\n"
     ]
    }
   ],
   "source": [
    "$nums = 1, 2, 3, 4, 5\n",
    "switch ($nums) {\n",
    "    {$_ -lt 2} { \"$_ is less than 2\" }\n",
    "    {$_ -gt 3} { \"$_ is greater than 3\" }\n",
    "    {$_ -ge 2 -and $_ -le 4} { \"$_ is between 2 and 4\" }\n",
    "}"
   ]
  },
  {
   "cell_type": "code",
   "execution_count": 14,
   "metadata": {
    "dotnet_interactive": {
     "language": "pwsh"
    },
    "polyglot_notebook": {
     "kernelName": "pwsh"
    },
    "vscode": {
     "languageId": "polyglot-notebook"
    }
   },
   "outputs": [
    {
     "name": "stdout",
     "output_type": "stream",
     "text": [
      "1 is less than 2\n",
      "2 is between 2 and 4\n",
      "3 is between 2 and 4\n",
      "4 is greater than 3\n",
      "4 is between 2 and 4\n",
      "5 is greater than 3\n"
     ]
    }
   ],
   "source": [
    "# without a switch\n",
    "$nums = 1, 2, 3, 4, 5\n",
    "foreach ($n in $nums) {\n",
    "    if ($n -lt 2) { \"$n is less than 2\" }\n",
    "    if ($n -gt 3) { \"$n is greater than 3\" }\n",
    "    if ($n -ge 2 -and $n -le 4) { \"$n is between 2 and 4\" }\n",
    "}"
   ]
  },
  {
   "cell_type": "code",
   "execution_count": 16,
   "metadata": {
    "dotnet_interactive": {
     "language": "pwsh"
    },
    "polyglot_notebook": {
     "kernelName": "pwsh"
    },
    "vscode": {
     "languageId": "polyglot-notebook"
    }
   },
   "outputs": [
    {
     "name": "stdout",
     "output_type": "stream",
     "text": [
      "mmmmm.....pie!\n",
      "apples are healthy!\n",
      "good...no special characters...\n"
     ]
    }
   ],
   "source": [
    "# string comparison operators\n",
    "switch (\"apple pie is delicious!\") {\n",
    "    {$_.contains(\"pie\")} { Write-Host \"mmmmm.....pie!\" }\n",
    "    {$_ -like \"*apple*\"} { Write-Host \"apples are healthy!\" }\n",
    "    {$_ -clike \"*APPLE*\"} { Write-Host \"SCREAMING APPLES ARE NOT HEALTHY!\" }\n",
    "    {$_ -match \"\\w+\"} { Write-Host \"good...no special characters...\"}    \n",
    "}"
   ]
  },
  {
   "cell_type": "code",
   "execution_count": 18,
   "metadata": {
    "dotnet_interactive": {
     "language": "pwsh"
    },
    "polyglot_notebook": {
     "kernelName": "pwsh"
    },
    "vscode": {
     "languageId": "polyglot-notebook"
    }
   },
   "outputs": [
    {
     "name": "stdout",
     "output_type": "stream",
     "text": [
      "> 2000\r\n"
     ]
    }
   ],
   "source": [
    "# switch with wildcards\n",
    "$text = \"2234\"\n",
    "switch -Wildcard ($text) {\n",
    "    \"1*\" { \"> 1000\" }\n",
    "    \"2*\" { \"> 2000\" }\n",
    "}"
   ]
  },
  {
   "cell_type": "code",
   "execution_count": 19,
   "metadata": {
    "dotnet_interactive": {
     "language": "pwsh"
    },
    "polyglot_notebook": {
     "kernelName": "pwsh"
    },
    "vscode": {
     "languageId": "polyglot-notebook"
    }
   },
   "outputs": [
    {
     "name": "stdout",
     "output_type": "stream",
     "text": [
      "You look at it.\n",
      "You look at it.\n",
      "It's a door.\n",
      "Are you sure you want to open that?\n",
      "It's a door.\n",
      "I don't know how to do that.\n",
      "You look at it.\n",
      "It's a box.\n",
      "Tick.Tick.Tick......BOOM!\n",
      "I'd warn you against opening strange boxes....but you're dead....\n"
     ]
    }
   ],
   "source": [
    "$dead = $false\n",
    "do {\n",
    "    $command = Read-Host \"Enter a command\"\n",
    "    switch -Wildcard ($command) {\n",
    "        \"open*box\" {\n",
    "            \"Tick.Tick.Tick......BOOM!\"\n",
    "            $dead = $true\n",
    "            break\n",
    "        }\n",
    "        \"open*\" { \"Are you sure you want to open that?\" }\n",
    "        \"look*\" { \"You look at it.\" }\n",
    "        \"*door\" { \"It's a door.\" }\n",
    "        \"*box\" { \"It's a box.\" }\n",
    "        default { \"I don't know how to do that.\" }\n",
    "    }\n",
    "} while (-not $dead)\n",
    "Write-Host \"I'd warn you against opening strange boxes....but you're dead....\""
   ]
  },
  {
   "cell_type": "code",
   "execution_count": 23,
   "metadata": {
    "dotnet_interactive": {
     "language": "pwsh"
    },
    "polyglot_notebook": {
     "kernelName": "pwsh"
    },
    "vscode": {
     "languageId": "polyglot-notebook"
    }
   },
   "outputs": [
    {
     "name": "stdout",
     "output_type": "stream",
     "text": [
      "It's a number!\n",
      "It's a word!\n",
      "There is more than one!\n"
     ]
    }
   ],
   "source": [
    "# regular expressions\n",
    "$text = \"letter 1234\"\n",
    "switch -regex ($text) {\n",
    "    \"\\d+\" { \"It's a number!\" }\n",
    "    \"[a-z]+\" { \"It's a word!\" }\n",
    "    \"\\s+\" { \"There is more than one!\" }\n",
    "    default { \"Not a number or a word\" }\n",
    "}"
   ]
  },
  {
   "cell_type": "code",
   "execution_count": 29,
   "metadata": {
    "dotnet_interactive": {
     "language": "pwsh"
    },
    "polyglot_notebook": {
     "kernelName": "pwsh"
    },
    "vscode": {
     "languageId": "polyglot-notebook"
    }
   },
   "outputs": [
    {
     "name": "stdout",
     "output_type": "stream",
     "text": [
      "Name: John Smith\n",
      "Email: w0123456@nscc.ca\n",
      "ID: W0123456\n",
      "\n",
      "\u001b[32;1mName                          \u001b[0m\u001b[32;1m Value\u001b[0m\n",
      "\u001b[32;1m----                          \u001b[0m \u001b[32;1m-----\u001b[0m\n",
      "0                              w0123456\n",
      "\n"
     ]
    }
   ],
   "source": [
    "$data = \"John Smith (w0123456@nscc.ca)\"\n",
    "switch -Regex ($data) {\n",
    "    \"[A-Z][a-z]+ [A-Z][a-z]+\" { \"Name: $($Matches[0])\" }\n",
    "    \"\\(([wW]\\d{7}@nscc.ca)\\)\" { \"Email: $($Matches[1])\" }\n",
    "    \"[wW]\\d{7}\" { \"ID: $($Matches[0].ToUpper())\"}\n",
    "}\n",
    "$Matches"
   ]
  },
  {
   "cell_type": "code",
   "execution_count": 31,
   "metadata": {
    "dotnet_interactive": {
     "language": "pwsh"
    },
    "polyglot_notebook": {
     "kernelName": "pwsh"
    },
    "vscode": {
     "languageId": "polyglot-notebook"
    }
   },
   "outputs": [
    {
     "name": "stdout",
     "output_type": "stream",
     "text": [
      "The 'netlogon' service is stopped!\r\n"
     ]
    }
   ],
   "source": [
    "$serviceName = \"netlogon\"\n",
    "$serviceStatus = (Get-Service -Name $serviceName).Status\n",
    "\n",
    "switch ($serviceStatus) {\n",
    "    \"Running\" { \"The '$serviceName' service is running smoothly!\" }\n",
    "    \"Stopped\" { \"The '$serviceName' service is stopped!\" }\n",
    "    \"Paused\" { \"The '$serviceName' service is paused.\" }\n",
    "}"
   ]
  },
  {
   "cell_type": "code",
   "execution_count": 34,
   "metadata": {
    "dotnet_interactive": {
     "language": "pwsh"
    },
    "polyglot_notebook": {
     "kernelName": "pwsh"
    },
    "vscode": {
     "languageId": "polyglot-notebook"
    }
   },
   "outputs": [
    {
     "name": "stdout",
     "output_type": "stream",
     "text": [
      "53%\n",
      "Disk space is sufficient.\n"
     ]
    }
   ],
   "source": [
    "$drive = Get-PSDrive C\n",
    "$diskSpace = [Math]::Round($drive.Free / ($drive.Free + $drive.Used) * 100)\n",
    "\"$diskSpace%\"\n",
    "switch ($diskSpace) {\n",
    "    {$_ -lt 10} { \"Warning: Disk space is critically low.\" }\n",
    "    {$_ -ge 10 -and $_ -lt 30} { \"Disk space is getting low.\" }\n",
    "    {$_ -ge 30} { \"Disk space is sufficient.\" }\n",
    "}"
   ]
  },
  {
   "cell_type": "code",
   "execution_count": 37,
   "metadata": {
    "dotnet_interactive": {
     "language": "pwsh"
    },
    "polyglot_notebook": {
     "kernelName": "pwsh"
    },
    "vscode": {
     "languageId": "polyglot-notebook"
    }
   },
   "outputs": [
    {
     "name": "stdout",
     "output_type": "stream",
     "text": [
      "    Menu\n",
      "    1. Get IP Address\n",
      "    2. Ping an address\n",
      "    3. Get local users\n",
      "\n",
      "\u001b[32;1mName              \u001b[0m\u001b[32;1m Enabled\u001b[0m\u001b[32;1m LastLogon           \u001b[0m\u001b[32;1m PasswordRequired\u001b[0m\n",
      "\u001b[32;1m----              \u001b[0m \u001b[32;1m-------\u001b[0m \u001b[32;1m---------           \u001b[0m \u001b[32;1m----------------\u001b[0m\n",
      "Administrator        False                                  True\n",
      "brian                 True 9/22/2024 1:57:52 PM             True\n",
      "DefaultAccount       False                                 False\n",
      "defaultuser0         False 6/18/2024 1:55:23 PM             True\n",
      "Guest                False                                 False\n",
      "sysop                 True                                 False\n",
      "WDAGUtilityAccount   False                                  True\n",
      "\n"
     ]
    }
   ],
   "source": [
    "Write-Host @\"\n",
    "    Menu\n",
    "    1. Get IP Address\n",
    "    2. Ping an address\n",
    "    3. Get local users\n",
    "\"@\n",
    "$option = Read-Host \"Enter choice\"\n",
    "switch ($option) {\n",
    "    1 {\n",
    "        Get-NetIPAddress |\n",
    "        Select-Object InterfaceIndex, IPv4Address, InterfaceAlias |\n",
    "        Where-Object { $_.IPv4Address } |\n",
    "        Sort-Object -Property InterfaceIndex |\n",
    "        Format-Table\n",
    "    }\n",
    "    2 {\n",
    "        $address = Read-Host \"Enter address to PING\"\n",
    "        Test-NetConnection -Port 80 -ComputerName $address -InformationLevel \"Detailed\"\n",
    "    }\n",
    "    3 {\n",
    "        Get-LocalUser | Select Name, Enabled, LastLogon, PasswordRequired | Format-Table\n",
    "    }\n",
    "}"
   ]
  },
  {
   "cell_type": "code",
   "execution_count": 38,
   "metadata": {
    "dotnet_interactive": {
     "language": "pwsh"
    },
    "polyglot_notebook": {
     "kernelName": "pwsh"
    },
    "vscode": {
     "languageId": "polyglot-notebook"
    }
   },
   "outputs": [
    {
     "name": "stdout",
     "output_type": "stream",
     "text": [
      "C\r\n"
     ]
    }
   ],
   "source": [
    "$grade = 76\n",
    "switch ($grade) {\n",
    "    {$grade -ge 90} { \"A\"; break }\n",
    "    {$grade -ge 80} { \"B\"; break }\n",
    "    {$grade -ge 70} { \"C\"; break }\n",
    "    {$grade -ge 60} { \"D\"; break }\n",
    "    {$grade -lt 60} { \"F\"; break }\n",
    "}"
   ]
  },
  {
   "cell_type": "code",
   "execution_count": null,
   "metadata": {
    "vscode": {
     "languageId": "polyglot-notebook"
    }
   },
   "outputs": [],
   "source": []
  }
 ],
 "metadata": {
  "kernelspec": {
   "display_name": ".NET (C#)",
   "language": "C#",
   "name": ".net-csharp"
  },
  "language_info": {
   "name": "python"
  },
  "polyglot_notebook": {
   "kernelInfo": {
    "defaultKernelName": "csharp",
    "items": [
     {
      "aliases": [],
      "name": "csharp"
     }
    ]
   }
  }
 },
 "nbformat": 4,
 "nbformat_minor": 2
}
