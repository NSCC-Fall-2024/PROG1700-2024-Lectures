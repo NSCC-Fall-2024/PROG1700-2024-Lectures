{
 "cells": [
  {
   "cell_type": "code",
   "execution_count": null,
   "metadata": {
    "dotnet_interactive": {
     "language": "pwsh"
    },
    "polyglot_notebook": {
     "kernelName": "pwsh"
    },
    "vscode": {
     "languageId": "polyglot-notebook"
    }
   },
   "outputs": [
    {
     "name": "stdout",
     "output_type": "stream",
     "text": [
      "Args = \n",
      "PSCmdlet = System.Management.Automation.PSScriptCmdlet\n",
      "3\n"
     ]
    }
   ],
   "source": [
    "# a basic cmdlet\n",
    "function Add-Numbers {\n",
    "    [CmdletBinding()]\n",
    "    param (\n",
    "        [int]$a,\n",
    "        [int]$b\n",
    "    )\n",
    "    $sum = $a + $b\n",
    "    Write-Host \"Args = $Args\"\n",
    "    Write-Host \"PSCmdlet = $PSCmdlet\"\n",
    "    return $sum\n",
    "}\n",
    "\n",
    "Add-Numbers 1 2"
   ]
  },
  {
   "cell_type": "code",
   "execution_count": 12,
   "metadata": {
    "dotnet_interactive": {
     "language": "pwsh"
    },
    "polyglot_notebook": {
     "kernelName": "pwsh"
    },
    "vscode": {
     "languageId": "polyglot-notebook"
    }
   },
   "outputs": [
    {
     "name": "stdout",
     "output_type": "stream",
     "text": [
      "\n",
      "\u001b[95mFormat the *ENTIRE* harddrive?\u001b[0m\n",
      "ARE YOU SURE??\n",
      "[Y] Yes  [N] No  [S] Suspend  [?] Help(default is 'Y')Yeah..that's probably a good decision.\n"
     ]
    }
   ],
   "source": [
    "function Format-EntireHarddrive {\n",
    "    [CmdletBinding()]\n",
    "    param (\n",
    "        [string]$DriveLetter\n",
    "    )\n",
    "\n",
    "    if ($PSCmdlet.ShouldContinue(\"ARE YOU SURE??\", \"Format the *ENTIRE* harddrive?\")) {\n",
    "        $PSCmdlet.WriteWarning(\"`nOK! You asked for it!!\")\n",
    "        Write-Host \"FORMATTING $DriveLetter\"\n",
    "    } else {\n",
    "        $PSCmdlet.WriteInformation(\"Yeah..that's probably a good decision.\",@())\n",
    "    }\n",
    "}\n",
    "\n",
    "#Format-EntireHarddrive C: -WarningAction:SilentlyContinue\n",
    "Format-EntireHarddrive C: -InformationAction:Continue"
   ]
  },
  {
   "cell_type": "code",
   "execution_count": 22,
   "metadata": {
    "dotnet_interactive": {
     "language": "pwsh"
    },
    "polyglot_notebook": {
     "kernelName": "pwsh"
    },
    "vscode": {
     "languageId": "polyglot-notebook"
    }
   },
   "outputs": [
    {
     "name": "stdout",
     "output_type": "stream",
     "text": [
      "\u001b[93mVERBOSE: begin called\u001b[0m\n",
      "\u001b[93mVERBOSE: 1 is processed\u001b[0m\n",
      "\u001b[93mVERBOSE: 2 is processed\u001b[0m\n",
      "\u001b[93mVERBOSE: 3 is processed\u001b[0m\n",
      "\u001b[93mVERBOSE: 4 is processed\u001b[0m\n",
      "\u001b[93mVERBOSE: 5 is processed\u001b[0m\n",
      "\u001b[93mVERBOSE: end called\u001b[0m\n",
      "sum = 15\n"
     ]
    }
   ],
   "source": [
    "# simple pipeline use\n",
    "function Out-Data {\n",
    "    [CmdletBinding()]\n",
    "    param (\n",
    "        [Parameter(ValueFromPipeline)]\n",
    "        $data\n",
    "    )\n",
    "\n",
    "    begin {\n",
    "        $PSCmdlet.WriteVerbose(\"begin called\")\n",
    "        $sum = 0\n",
    "    }\n",
    "    process {\n",
    "        $PSCmdlet.WriteVerbose(\"$_ is processed\")\n",
    "        $sum += $_\n",
    "    }\n",
    "    end {\n",
    "        $PSCmdlet.WriteVerbose(\"end called\")\n",
    "        Write-Host \"sum = $sum\"\n",
    "    }\n",
    "}\n",
    "\n",
    "1, 2, 3, 4, 5 | Out-Data -Verbose"
   ]
  },
  {
   "cell_type": "code",
   "execution_count": 32,
   "metadata": {
    "dotnet_interactive": {
     "language": "pwsh"
    },
    "polyglot_notebook": {
     "kernelName": "pwsh"
    },
    "vscode": {
     "languageId": "polyglot-notebook"
    }
   },
   "outputs": [
    {
     "name": "stdout",
     "output_type": "stream",
     "text": [
      "Yo! Joe!\n",
      "Good Evening, Bob Smith\n"
     ]
    }
   ],
   "source": [
    "# parameter set example\n",
    "function Write-Greeting {\n",
    "    [CmdletBinding(DefaultParameterSetName = 'Personal')]\n",
    "    param (\n",
    "        [Parameter(ParameterSetName = 'Personal', Position = 0)]\n",
    "        [Parameter(ParameterSetName = 'Business')]\n",
    "        $FirstName,\n",
    "        [Parameter(ParameterSetName = 'Business')]\n",
    "        $LastName\n",
    "    )\n",
    "\n",
    "    if ($PSCmdlet.ParameterSetName -eq 'Business') {\n",
    "        Write-Host \"Good Evening, $FirstName $LastName\"\n",
    "    } else {\n",
    "        Write-Host \"Yo! $FirstName!\"\n",
    "    }\n",
    "}\n",
    "\n",
    "Write-Greeting \"Joe\"\n",
    "Write-Greeting -FirstName \"Bob\" -LastName \"Smith\""
   ]
  },
  {
   "cell_type": "code",
   "execution_count": null,
   "metadata": {
    "vscode": {
     "languageId": "polyglot-notebook"
    }
   },
   "outputs": [],
   "source": []
  }
 ],
 "metadata": {
  "kernelspec": {
   "display_name": ".NET (C#)",
   "language": "C#",
   "name": ".net-csharp"
  },
  "language_info": {
   "name": "python"
  },
  "polyglot_notebook": {
   "kernelInfo": {
    "defaultKernelName": "csharp",
    "items": [
     {
      "aliases": [],
      "name": "csharp"
     }
    ]
   }
  }
 },
 "nbformat": 4,
 "nbformat_minor": 2
}
