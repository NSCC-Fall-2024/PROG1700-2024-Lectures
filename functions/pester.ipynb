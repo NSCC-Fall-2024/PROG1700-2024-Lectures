{
 "cells": [
  {
   "cell_type": "code",
   "execution_count": 2,
   "metadata": {
    "dotnet_interactive": {
     "language": "pwsh"
    },
    "polyglot_notebook": {
     "kernelName": "pwsh"
    },
    "vscode": {
     "languageId": "polyglot-notebook"
    }
   },
   "outputs": [
    {
     "name": "stdout",
     "output_type": "stream",
     "text": [
      "\u001b[31;1mInvalidResult: \u001b[31;1mExpected 1, but got 45.\u001b[0m\r\n"
     ]
    },
    {
     "ename": "Error",
     "evalue": "Command failed: SubmitCode: # simple Test ...",
     "output_type": "error",
     "traceback": [
      "Command failed: SubmitCode: # simple Test ..."
     ]
    }
   ],
   "source": [
    "# simple Test\n",
    "45 | Should -Be 1\n",
    "\n",
    "Write-Host \"Success!\" -ForegroundColor Green"
   ]
  },
  {
   "cell_type": "code",
   "execution_count": 6,
   "metadata": {
    "dotnet_interactive": {
     "language": "pwsh"
    },
    "polyglot_notebook": {
     "kernelName": "pwsh"
    },
    "vscode": {
     "languageId": "polyglot-notebook"
    }
   },
   "outputs": [
    {
     "name": "stdout",
     "output_type": "stream",
     "text": [
      "\u001b[92mSuccess!\u001b[0m\r\n"
     ]
    }
   ],
   "source": [
    "# integer tests\n",
    "$integer = 12345\n",
    "$integer | Should -Be 12345\n",
    "$integer | Should -BeGreaterThan 1000\n",
    "$integer | Should -BeLessOrEqual 100000\n",
    "$integer | Should -BeOfType [int]\n",
    "$integer | Should -BeTrue # ensures non-zero\n",
    "$integer | Should -BeIn 1000, 2000, 3000, 12345\n",
    "$integer | Should -BeIn (10000..20000)\n",
    "Test-Path Variable:integer | Should -BeTrue\n",
    "\n",
    "Write-Host \"Success!\" -ForegroundColor Green"
   ]
  },
  {
   "cell_type": "code",
   "execution_count": 7,
   "metadata": {
    "dotnet_interactive": {
     "language": "pwsh"
    },
    "polyglot_notebook": {
     "kernelName": "pwsh"
    },
    "vscode": {
     "languageId": "polyglot-notebook"
    }
   },
   "outputs": [
    {
     "name": "stdout",
     "output_type": "stream",
     "text": [
      "\u001b[92mSuccess!\u001b[0m\r\n"
     ]
    }
   ],
   "source": [
    "# string tests\n",
    "$string = \"hello\"\n",
    "Test-Path Variable:string | Should -BeTrue\n",
    "$string -ceq \"hello\" | Should -BeTrue\n",
    "$string | Should -Be \"hello\"\n",
    "$string | Should -BeGreaterThan \"apple\"\n",
    "$string | Should -BeLike \"h*\"\n",
    "$string | Should -Not -BeNullOrEmpty\n",
    "$string | Should -BeOfType [string]\n",
    "\n",
    "Write-Host \"Success!\" -ForegroundColor Green"
   ]
  },
  {
   "cell_type": "code",
   "execution_count": null,
   "metadata": {
    "dotnet_interactive": {
     "language": "csharp"
    },
    "polyglot_notebook": {
     "kernelName": "csharp"
    },
    "vscode": {
     "languageId": "polyglot-notebook"
    }
   },
   "outputs": [],
   "source": []
  }
 ],
 "metadata": {
  "kernelspec": {
   "display_name": ".NET (C#)",
   "language": "C#",
   "name": ".net-csharp"
  },
  "language_info": {
   "name": "python"
  },
  "polyglot_notebook": {
   "kernelInfo": {
    "defaultKernelName": "csharp",
    "items": [
     {
      "aliases": [],
      "name": "csharp"
     }
    ]
   }
  }
 },
 "nbformat": 4,
 "nbformat_minor": 2
}
