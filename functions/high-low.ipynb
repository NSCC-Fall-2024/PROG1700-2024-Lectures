{
 "cells": [
  {
   "cell_type": "markdown",
   "metadata": {},
   "source": [
    "# High Low Game\n",
    "\n",
    "The computer generates a random number. \n",
    "\n",
    "The user is given a certain number of guesses to guess the number.  \n",
    "\n",
    "After each guess, the computer will tell the user whether the number is \n",
    "higher or lower than the guess.  \n",
    "\n",
    "If they guess correctly, they win, otherwise, they lose."
   ]
  },
  {
   "cell_type": "code",
   "execution_count": 7,
   "metadata": {
    "dotnet_interactive": {
     "language": "pwsh"
    },
    "polyglot_notebook": {
     "kernelName": "pwsh"
    },
    "vscode": {
     "languageId": "polyglot-notebook"
    }
   },
   "outputs": [
    {
     "name": "stdout",
     "output_type": "stream",
     "text": [
      "Level: 1\n",
      "  Guess a number between 1 and 10\n",
      "answer = 2\n",
      "Winner!\n",
      "Level: 2\n",
      "  Guess a number between 1 and 100\n",
      "answer = 13\n",
      "Winner!\n",
      "Level: 3\n",
      "  Guess a number between 1 and 1000\n",
      "answer = 961\n",
      "Winner!\n"
     ]
    }
   ],
   "source": [
    "function Get-Answer {\n",
    "    param (\n",
    "        [int]$Minimum,\n",
    "        [int]$Maximum\n",
    "    )\n",
    "    # generate a random number between a Minimum and a Maximum value\n",
    "    $answer = Get-Random -Minimum $Minimum -Maximum $Maximum\n",
    "    Write-Host \"answer = $answer\"\n",
    "    $answer\n",
    "}\n",
    "\n",
    "function Get-Guess {\n",
    "    # ask the user for their guess\n",
    "    Read-Host \"Guess a number\"\n",
    "}\n",
    "\n",
    "function Run-HighLow {\n",
    "    param (\n",
    "        [int]$Level\n",
    "    )\n",
    "\n",
    "    $levels = @(\n",
    "        @{ Tries = 5; Minimum = 1; Maximum = 10; },\n",
    "        @{ Tries = 7; Minimum = 1; Maximum = 100; },\n",
    "        @{ Tries = 10; Minimum = 1; Maximum = 1000; },\n",
    "        @{ Tries = 15; Minimum = 1; Maximum = 10000; },\n",
    "        @{ Tries = 20; Minimum = 1; Maximum = 100000; }\n",
    "    )\n",
    "\n",
    "    $current = $levels[$level]\n",
    "\n",
    "    Write-Host \"  Guess a number between $($current.Minimum) and $($current.Maximum)\"\n",
    "\n",
    "    $answer = Get-Answer -Minimum $current.Minimum -Maximum $current.Maximum\n",
    "\n",
    "    # loop until user guesses correctly or runs out of guesses\n",
    "    $tries = 0\n",
    "    do {\n",
    "        $guess = Get-Guess\n",
    "\n",
    "        # check if the number is higher or lower than the answer\n",
    "        if ($guess -gt $answer) {\n",
    "            \"Too High\"\n",
    "        } elseif ($guess -lt $answer) {\n",
    "            \"Too Low\"\n",
    "        }\n",
    "\n",
    "        $tries++\n",
    "\n",
    "    } until ($tries -eq $current.Tries -or $guess -eq $answer)\n",
    "\n",
    "    return ($guess -eq $answer), $answer\n",
    "}\n",
    "\n",
    "$level = 0\n",
    "$attempt = 0\n",
    "do {\n",
    "    Write-Host \"Level: $($level + 1)\"\n",
    "\n",
    "    $win, $secret = Run-HighLow -Level $level\n",
    "\n",
    "    if ($win -and $level -eq 4) {\n",
    "        Write-Host \"Achievement Unlocked!\"\n",
    "        break\n",
    "    } elseif ($win) {\n",
    "        Write-Host \"Winner!\"\n",
    "        $level++\n",
    "        $attempt = 0\n",
    "    } else {\n",
    "        Write-Host \"You lost! The number was $secret.\"\n",
    "        $attempt++\n",
    "        if ($attempt -eq 3) {\n",
    "            if ($level -eq 0) {\n",
    "                Write-Host \"This is not your game....\"\n",
    "                break\n",
    "            }\n",
    "            $level = 0\n",
    "            $attempt = 0\n",
    "        }\n",
    "    }\n",
    "\n",
    "    $again = Read-Host \"Would you like to play again? (Y/N)\"\n",
    "} while ($again -eq 'Y')"
   ]
  },
  {
   "cell_type": "code",
   "execution_count": null,
   "metadata": {
    "dotnet_interactive": {
     "language": "csharp"
    },
    "polyglot_notebook": {
     "kernelName": "csharp"
    },
    "vscode": {
     "languageId": "polyglot-notebook"
    }
   },
   "outputs": [],
   "source": []
  }
 ],
 "metadata": {
  "kernelspec": {
   "display_name": ".NET (C#)",
   "language": "C#",
   "name": ".net-csharp"
  },
  "language_info": {
   "name": "python"
  },
  "polyglot_notebook": {
   "kernelInfo": {
    "defaultKernelName": "csharp",
    "items": [
     {
      "aliases": [],
      "name": "csharp"
     }
    ]
   }
  }
 },
 "nbformat": 4,
 "nbformat_minor": 2
}
