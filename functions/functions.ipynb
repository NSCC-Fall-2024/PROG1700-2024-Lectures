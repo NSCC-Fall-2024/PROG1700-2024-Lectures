{
 "cells": [
  {
   "cell_type": "code",
   "execution_count": 12,
   "metadata": {
    "dotnet_interactive": {
     "language": "pwsh"
    },
    "polyglot_notebook": {
     "kernelName": "pwsh"
    },
    "vscode": {
     "languageId": "polyglot-notebook"
    }
   },
   "outputs": [
    {
     "name": "stdout",
     "output_type": "stream",
     "text": [
      "1879696599\n",
      "5\n",
      "1\n"
     ]
    }
   ],
   "source": [
    "# generate a random number between 0 and 2,147,483,647\n",
    "Get-Random\n",
    "(Get-Random) % 10 + 1 # generates a number between 1 and 10\n",
    "Get-Random -Minimum 1 -Maximum 10 # also generates a number between 1 and 10"
   ]
  },
  {
   "cell_type": "code",
   "execution_count": 17,
   "metadata": {
    "dotnet_interactive": {
     "language": "pwsh"
    },
    "polyglot_notebook": {
     "kernelName": "pwsh"
    },
    "vscode": {
     "languageId": "polyglot-notebook"
    }
   },
   "outputs": [
    {
     "name": "stdout",
     "output_type": "stream",
     "text": [
      "paper\r\n"
     ]
    }
   ],
   "source": [
    "# choose a random array value\n",
    "\"rock\", \"paper\", \"scissors\" | Get-Random"
   ]
  },
  {
   "cell_type": "code",
   "execution_count": 20,
   "metadata": {
    "dotnet_interactive": {
     "language": "pwsh"
    },
    "polyglot_notebook": {
     "kernelName": "pwsh"
    },
    "vscode": {
     "languageId": "polyglot-notebook"
    }
   },
   "outputs": [
    {
     "name": "stdout",
     "output_type": "stream",
     "text": [
      "Hello\n",
      "Hello\n"
     ]
    }
   ],
   "source": [
    "# simple function\n",
    "function Write-Hello {\n",
    "    Write-Host \"Hello\"\n",
    "}\n",
    "Write-Hello\n",
    "Write-Hello"
   ]
  },
  {
   "cell_type": "code",
   "execution_count": 22,
   "metadata": {
    "dotnet_interactive": {
     "language": "pwsh"
    },
    "polyglot_notebook": {
     "kernelName": "pwsh"
    },
    "vscode": {
     "languageId": "polyglot-notebook"
    }
   },
   "outputs": [],
   "source": [
    "# a useful example\n",
    "function Start-PSAdmin {\n",
    "    Start-Process PowerShell -Verb RunAs\n",
    "}\n",
    "Start-PSAdmin"
   ]
  },
  {
   "cell_type": "code",
   "execution_count": 26,
   "metadata": {
    "dotnet_interactive": {
     "language": "pwsh"
    },
    "polyglot_notebook": {
     "kernelName": "pwsh"
    },
    "vscode": {
     "languageId": "polyglot-notebook"
    }
   },
   "outputs": [
    {
     "name": "stdout",
     "output_type": "stream",
     "text": [
      "Bonjourno\n",
      "Bonjourno\n",
      "child: Hello\n",
      "Bonjourno\n",
      "child: Hello\n"
     ]
    }
   ],
   "source": [
    "function Write-Hello {\n",
    "    # child scope\n",
    "    # this variable will use a variable defined in the 'parent' scope\n",
    "    Write-Host $greeting\n",
    "\n",
    "    $greeting = \"Hello\"\n",
    "    Write-Host \"child: $greeting\"\n",
    "}\n",
    "# parent scope\n",
    "$greeting = \"Bonjourno\"\n",
    "Write-Host $greeting\n",
    "Write-Hello # first time, value is changed within the child scope\n",
    "Write-Hello # what happens now??"
   ]
  },
  {
   "cell_type": "code",
   "execution_count": 29,
   "metadata": {
    "dotnet_interactive": {
     "language": "pwsh"
    },
    "polyglot_notebook": {
     "kernelName": "pwsh"
    },
    "vscode": {
     "languageId": "polyglot-notebook"
    }
   },
   "outputs": [
    {
     "name": "stdout",
     "output_type": "stream",
     "text": [
      "Bonjourno\n",
      "1st call: Bonjourno\n",
      "child: Hello\n",
      "1st call: Hello\n",
      "child: Hello\n"
     ]
    }
   ],
   "source": [
    "function Write-Hello {\n",
    "    # child scope\n",
    "    # this variable will use a variable defined in the 'parent' scope\n",
    "    Write-Host \"1st call: ${script:greeting}\"\n",
    "\n",
    "    $script:greeting = \"Hello\"\n",
    "    Write-Host \"child: ${script:greeting}\"\n",
    "}\n",
    "# parent scope\n",
    "$greeting = \"Bonjourno\"\n",
    "Write-Host $greeting\n",
    "Write-Hello # first time, value is changed within the child scope\n",
    "Write-Hello # what happens now??"
   ]
  },
  {
   "cell_type": "code",
   "execution_count": null,
   "metadata": {
    "dotnet_interactive": {
     "language": "pwsh"
    },
    "polyglot_notebook": {
     "kernelName": "pwsh"
    },
    "vscode": {
     "languageId": "polyglot-notebook"
    }
   },
   "outputs": [
    {
     "name": "stdout",
     "output_type": "stream",
     "text": [
      "Hello, Jack\n",
      "Bonjour, Jill\n",
      "G'day, John\n"
     ]
    }
   ],
   "source": [
    "# parameters (simple approach)\n",
    "function Write-Hello ($Greeting, $Name) { # parameter uses \"Pascal Casing\" instead of \"Camel Casing\"\n",
    "    Write-Host \"$Greeting, $Name\"\n",
    "}\n",
    "Write-Hello -Greeting \"Hello\" -Name \"Jack\"\n",
    "Write-Hello \"Bonjour\" \"Jill\"\n",
    "Write-Hello -Name \"John\" -Greeting \"G'day\""
   ]
  },
  {
   "cell_type": "code",
   "execution_count": 42,
   "metadata": {
    "dotnet_interactive": {
     "language": "pwsh"
    },
    "polyglot_notebook": {
     "kernelName": "pwsh"
    },
    "vscode": {
     "languageId": "polyglot-notebook"
    }
   },
   "outputs": [
    {
     "name": "stdout",
     "output_type": "stream",
     "text": [
      "3\n",
      "\u001b[31;1mAdd: \u001b[0m\n",
      "\u001b[31;1m\u001b[36;1mLine |\u001b[0m\n",
      "\u001b[31;1m\u001b[36;1m\u001b[36;1m  13 | \u001b[0m Add 2 \u001b[36;1m200\u001b[0m\n",
      "\u001b[31;1m\u001b[36;1m\u001b[36;1m\u001b[0m\u001b[36;1m\u001b[0m\u001b[36;1m     | \u001b[31;1m       ~~~\u001b[0m\n",
      "\u001b[31;1m\u001b[36;1m\u001b[36;1m\u001b[0m\u001b[36;1m\u001b[0m\u001b[36;1m\u001b[31;1m\u001b[31;1m\u001b[36;1m     | \u001b[31;1mCannot validate argument on parameter 'b'. The 200 argument is greater than the maximum allowed range of 100. Supply an argument that is less than or equal to 100 and then try the command again.\u001b[0m\n"
     ]
    },
    {
     "ename": "Error",
     "evalue": "Command failed: SubmitCode: # parameters (powershell approach) ...",
     "output_type": "error",
     "traceback": [
      "Command failed: SubmitCode: # parameters (powershell approach) ..."
     ]
    }
   ],
   "source": [
    "# parameters (powershell approach)\n",
    "function Add {\n",
    "    param (\n",
    "        [Parameter(Mandatory=$true)]\n",
    "        [int]$a,\n",
    "        [Parameter(Mandatory=$true)]\n",
    "        [ValidateRange(0,100)]\n",
    "        [int]$b\n",
    "    )\n",
    "    $a + $b\n",
    "}\n",
    "Add 1 2\n",
    "Add 2 200"
   ]
  },
  {
   "cell_type": "code",
   "execution_count": 1,
   "metadata": {
    "dotnet_interactive": {
     "language": "pwsh"
    },
    "polyglot_notebook": {
     "kernelName": "pwsh"
    },
    "vscode": {
     "languageId": "polyglot-notebook"
    }
   },
   "outputs": [
    {
     "name": "stdout",
     "output_type": "stream",
     "text": [
      "45\r\n"
     ]
    }
   ],
   "source": [
    "# positional parameters\n",
    "function Add {\n",
    "    $sum = 0\n",
    "    foreach ($arg in $args) {\n",
    "        $sum += $arg\n",
    "    }\n",
    "    $sum\n",
    "}\n",
    "Add 1 2 3 4 5 6 7 8 9"
   ]
  },
  {
   "cell_type": "code",
   "execution_count": 9,
   "metadata": {
    "dotnet_interactive": {
     "language": "pwsh"
    },
    "polyglot_notebook": {
     "kernelName": "pwsh"
    },
    "vscode": {
     "languageId": "polyglot-notebook"
    }
   },
   "outputs": [
    {
     "name": "stdout",
     "output_type": "stream",
     "text": [
      "Hello\n",
      "Goodbye\n",
      "Goodbye\n"
     ]
    }
   ],
   "source": [
    "# switch parameters\n",
    "function Greeting {\n",
    "    param (\n",
    "        [switch]$hello\n",
    "    )\n",
    "\n",
    "    if ($hello) {\n",
    "        # $hello is True\n",
    "        Write-Host \"Hello\"\n",
    "    } else {\n",
    "        Write-Host \"Goodbye\"\n",
    "    }\n",
    "}\n",
    "Greeting -hello\n",
    "Greeting\n",
    "Greeting -hello:$false"
   ]
  },
  {
   "cell_type": "code",
   "execution_count": 10,
   "metadata": {
    "dotnet_interactive": {
     "language": "pwsh"
    },
    "polyglot_notebook": {
     "kernelName": "pwsh"
    },
    "vscode": {
     "languageId": "polyglot-notebook"
    }
   },
   "outputs": [
    {
     "name": "stdout",
     "output_type": "stream",
     "text": [
      "before: i = 10, f = 1, b = False, s = a string\n",
      "after: i = 10, f = 1, b = False, s = a string\n"
     ]
    }
   ],
   "source": [
    "# passing parameters by value\n",
    "function PassByValue {\n",
    "    param (\n",
    "        $integer,\n",
    "        $decimal,\n",
    "        $boolean,\n",
    "        $string\n",
    "    )\n",
    "\n",
    "    $integer++\n",
    "    $decimal *= [Math]::PI\n",
    "    $boolean = -not $boolean\n",
    "    $string = \"a different string\"\n",
    "\n",
    "}\n",
    "\n",
    "$i = 10\n",
    "$f = 1.0\n",
    "$b = $false\n",
    "$s = \"a string\"\n",
    "\n",
    "Write-Host \"before: i = $i, f = $f, b = $b, s = $s\"\n",
    "PassByValue $i $f $b $s\n",
    "Write-Host \"after: i = $i, f = $f, b = $b, s = $s\""
   ]
  },
  {
   "cell_type": "code",
   "execution_count": 26,
   "metadata": {
    "dotnet_interactive": {
     "language": "pwsh"
    },
    "polyglot_notebook": {
     "kernelName": "pwsh"
    },
    "vscode": {
     "languageId": "polyglot-notebook"
    }
   },
   "outputs": [
    {
     "name": "stdout",
     "output_type": "stream",
     "text": [
      "before: s = hello!, i = 0, a = [1 2 3 4 5], h = {\"apple\":\"red\",\"banana\":\"yellow\"}\n",
      "after: s = a new string!, i = 1, a = [456 2 3 4 5 999], h = {\"orange\":\"orange\",\"banana\":\"yellow\",\"apple\":\"green\"}\n"
     ]
    }
   ],
   "source": [
    "# pass by reference\n",
    "function PassByReference {\n",
    "    param (\n",
    "        $array,\n",
    "        $hashTable,\n",
    "        [ref]$integer,\n",
    "        $s\n",
    "    )\n",
    "    $array[0] = 234 # modify the original array\n",
    "    $array += 999   # create a new array local to this function\n",
    "    $array[0] = 456 # modifies the new array, not the old\n",
    "    $hashTable['apple'] = 'green' # modifies the original hash table\n",
    "    $hashTable.orange = 'orange'  # still modifies the original one\n",
    "    $integer.Value++\n",
    "    $s = \"a new string!\"\n",
    "\n",
    "    $s, $array\n",
    "}\n",
    "\n",
    "$a = 1, 2, 3, 4, 5\n",
    "$h = @{ apple = 'red'; banana = 'yellow' }\n",
    "$i = 0\n",
    "$s = \"hello!\"\n",
    "\n",
    "Write-Host \"before: s = $s, i = $i, a = [$a], h = $($h | ConvertTo-Json -Compress)\"\n",
    "$s, $a = PassByReference $a $h ([ref]$i) $s\n",
    "Write-Host \"after: s = $s, i = $i, a = [$a], h = $($h | ConvertTo-Json -Compress)\"\n"
   ]
  },
  {
   "cell_type": "code",
   "execution_count": 35,
   "metadata": {
    "dotnet_interactive": {
     "language": "pwsh"
    },
    "polyglot_notebook": {
     "kernelName": "pwsh"
    },
    "vscode": {
     "languageId": "polyglot-notebook"
    }
   },
   "outputs": [
    {
     "name": "stdout",
     "output_type": "stream",
     "text": [
      "sum = 3, diff = 1, prod = 2, div = 2\n",
      "3\n",
      "1\n",
      "2\n",
      "2\n"
     ]
    }
   ],
   "source": [
    "function Get-Math {\n",
    "    param (\n",
    "        [int]$a,\n",
    "        [int]$b\n",
    "    )\n",
    "    $a + $b\n",
    "    $a - $b\n",
    "    $a * $b\n",
    "    $a / $b\n",
    "}\n",
    "$s, $d, $p, $div = Get-Math -a 2 -b 1\n",
    "Write-Host \"sum = $s, diff = $d, prod = $p, div = $div\"\n",
    "$a = Get-Math -a 2 -b 1\n",
    "$a"
   ]
  },
  {
   "cell_type": "code",
   "execution_count": 5,
   "metadata": {
    "dotnet_interactive": {
     "language": "pwsh"
    },
    "polyglot_notebook": {
     "kernelName": "pwsh"
    },
    "vscode": {
     "languageId": "polyglot-notebook"
    }
   },
   "outputs": [
    {
     "name": "stdout",
     "output_type": "stream",
     "text": [
      "Final grade (pre-optional): \u001b[33m64%\u001b[30m\n",
      "Lowest assignment: \u001b[31m0%\u001b[30m\n",
      "*Optional assignment: \u001b[32m100%\u001b[30m\n",
      "*Optional assignment grade will be used.\n",
      "Final grade (post-optional): \u001b[32m73%\u001b[30m\n"
     ]
    }
   ],
   "source": [
    "function Write-Green ($text, $percent) { \"{0}: `e[32m{1:P0}`e[30m\" -f $text, $percent }\n",
    "function Write-Yellow ($text, $percent) { \"{0}: `e[33m{1:P0}`e[30m\" -f $text, $percent }\n",
    "function Write-Red ($text, $percent) { \"{0}: `e[31m{1:P0}`e[30m\" -f $text, $percent }\n",
    "\n",
    "function Calculate-FinalGrade {\n",
    "    param (\n",
    "        [Parameter(Mandatory=$true)]\n",
    "        [ValidateCount(5,5)]\n",
    "        [double[]]$Assignments,\n",
    "        [Parameter(Mandatory=$true)]\n",
    "        [ValidateCount(3,3)]\n",
    "        [double[]]$Quizzes,\n",
    "        [Parameter(Mandatory=$true)]\n",
    "        [ValidateCount(2,2)]\n",
    "        [double[]]$Exams\n",
    "    )\n",
    "    # calculate grade\n",
    "    $assignmentGrade = ($Assignments | Measure-Object -Average).Average * .45\n",
    "    $quizGrade = ($Quizzes | Measure-Object -Average).Average * .25\n",
    "    $examGrade = $Exams[0] * 0.15 + $Exams[1] * 0.15\n",
    "\n",
    "    $assignmentGrade + $quizGrade + $examGrade\n",
    "}\n",
    "\n",
    "# assignments\n",
    "# original: (6 @ 7.5% = 45%)\n",
    "# revised: (5 @ 9% = 45%)\n",
    "$assignments = (0/35), (23/29), (25/30), (21/28), (29/38)\n",
    "\n",
    "# quizzes\n",
    "# original: (4 @ 6.3% = 25%)\n",
    "# revised: (3 @ 8.3% = 25%)\n",
    "$quizzes = (21/32), (17/27), (20/30)\n",
    "\n",
    "# exams\n",
    "# unchanged: (2 @ 15% = 30%)\n",
    "$exams = (33/51), (33/51)\n",
    "\n",
    "# final grade (pre-optional)\n",
    "$final = Calculate-FinalGrade -Assignments $assignments -Quizzes $quizzes -Exams $exams\n",
    "Write-Yellow \"Final grade (pre-optional)\" $final\n",
    "\n",
    "# optional\n",
    "# replace the lowest assignment grade\n",
    "# if lower than the optional grade\n",
    "$optional = (32/32)\n",
    "\n",
    "# replace lowest grade in assignments, if optional is higher\n",
    "$assignments = $assignments | Sort-Object\n",
    "$minGrade = $assignments[0]\n",
    "if ($optional -gt $minGrade) {\n",
    "    $assignments[0] = $optional\n",
    "}\n",
    "\n",
    "# recalculate final grade (post-optional)\n",
    "$final = Calculate-FinalGrade -Assignments $assignments -Quizzes $quizzes -Exams $exams\n",
    "\n",
    "# write summary\n",
    "if ($optional -gt $minGrade) {\n",
    "    Write-Red \"Lowest assignment\" $minGrade\n",
    "    Write-Green \"*Optional assignment\" $optional\n",
    "    Write-Host \"*Optional assignment grade will be used.\"\n",
    "    Write-Green \"Final grade (post-optional)\" $final\n",
    "} else {\n",
    "    Write-Green \"*Lowest assignment\" $minGrade\n",
    "    Write-Red \"Optional assignment\" $optional\n",
    "    Write-Host \"*Optional assignment grade will not be used.\"\n",
    "    Write-Green \"Final grade (no change)\" $final\n",
    "}\n"
   ]
  },
  {
   "cell_type": "code",
   "execution_count": null,
   "metadata": {
    "dotnet_interactive": {
     "language": "csharp"
    },
    "polyglot_notebook": {
     "kernelName": "csharp"
    },
    "vscode": {
     "languageId": "polyglot-notebook"
    }
   },
   "outputs": [],
   "source": []
  }
 ],
 "metadata": {
  "kernelspec": {
   "display_name": ".NET (C#)",
   "language": "C#",
   "name": ".net-csharp"
  },
  "language_info": {
   "name": "python"
  },
  "polyglot_notebook": {
   "kernelInfo": {
    "defaultKernelName": "csharp",
    "items": [
     {
      "aliases": [],
      "name": "csharp"
     }
    ]
   }
  }
 },
 "nbformat": 4,
 "nbformat_minor": 2
}
